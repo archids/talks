{
 "cells": [
  {
   "cell_type": "markdown",
   "metadata": {},
   "source": [
    "<img src=\"https://www.exegetic.biz/img/exegetic-banner-black.svg\" width=\"35%\" align=\"right\">\n",
    "\n",
    "# Web Scraping: Members of Parliament\n",
    "\n",
    "Andrew B. Collier (@datawookie | andrew@exegetic.biz)<br>\n",
    "Data Scientist / Founder<br>\n",
    "[Exegetic Analytics](https://www.exegetic.biz)"
   ]
  },
  {
   "cell_type": "markdown",
   "metadata": {},
   "source": [
    "<span style=\"color: #3498db;\">**↯ Notebooks**</span> available from https://bit.ly/2kxOTT9."
   ]
  },
  {
   "cell_type": "markdown",
   "metadata": {},
   "source": [
    "## Introduction\n",
    "\n",
    "In this tutorial we're going to scrape (public) details of our esteemed members of parliament from the website of the [Parliamentary Monitoring Group](https://pmg.org.za/).\n",
    "\n",
    "![](fig/members-of-parliament.png)\n",
    "\n",
    "**The Brief**: Our brief is to capture data for all members and store it in a relational database. Why? Well, suppose you were developing an insurance or investment product targeted specifically at politicians, then this would immediately give you a list of prospects with their contact details.\n",
    "\n",
    "**The Challenge**: There's an index page with links to individual pages for each of the members. Need to systematically scrape all of the member pages.\n",
    "\n",
    "**The Approach:** These are the steps that we'll take to achieve that goal:\n",
    "\n",
    "1. Manually scrape the data for a specific member.\n",
    "2. Write a function to scrape the data for a specific member.\n",
    "3. Test that function.\n",
    "4. Run the function across all of the members.\n",
    "5. Store the results."
   ]
  },
  {
   "cell_type": "markdown",
   "metadata": {},
   "source": [
    "## Packages\n",
    "\n",
    "Load some packages."
   ]
  },
  {
   "cell_type": "code",
   "execution_count": 126,
   "metadata": {},
   "outputs": [],
   "source": [
    "# General packages\n",
    "import re, random, time, sqlite3\n",
    "import numpy as np\n",
    "import pandas as pd"
   ]
  },
  {
   "cell_type": "markdown",
   "metadata": {},
   "source": [
    "![](https://github.com/datawookie/useful-images/raw/master/banner/web-scraping-python.png)"
   ]
  },
  {
   "cell_type": "code",
   "execution_count": 127,
   "metadata": {},
   "outputs": [],
   "source": [
    "# Scraping packages\n",
    "from requests import get\n",
    "from bs4 import BeautifulSoup"
   ]
  },
  {
   "cell_type": "markdown",
   "metadata": {},
   "source": [
    "There are two components to a scrape:\n",
    "\n",
    "- retrieving the HTML content of the page (done with the `requests` package) and\n",
    "- parsing the page and extracting data (done with the `BeautifulSoup` package)."
   ]
  },
  {
   "cell_type": "markdown",
   "metadata": {},
   "source": [
    "## Setup\n",
    "\n",
    "Synchronise your watches (or your RNGs)."
   ]
  },
  {
   "cell_type": "code",
   "execution_count": 128,
   "metadata": {},
   "outputs": [],
   "source": [
    "random.seed(17)"
   ]
  },
  {
   "cell_type": "markdown",
   "metadata": {},
   "source": [
    "The name of the SQLite database that we'll use to store the data."
   ]
  },
  {
   "cell_type": "code",
   "execution_count": 129,
   "metadata": {},
   "outputs": [],
   "source": [
    "SQLITEDB = 'members-of-parliament.sqlite'"
   ]
  },
  {
   "cell_type": "markdown",
   "metadata": {},
   "source": [
    "Open [this link](https://pmg.org.za/members/) in your browser."
   ]
  },
  {
   "cell_type": "code",
   "execution_count": 130,
   "metadata": {},
   "outputs": [],
   "source": [
    "# An index of the members, with a thumbnail linking to their individual profile pages.\n",
    "URL = 'https://pmg.org.za/members/'\n",
    "# A page for a specific member.\n",
    "url = 'https://www.pa.org.za/person/alexandra-lilian-amelia-abrahams/'"
   ]
  },
  {
   "cell_type": "markdown",
   "metadata": {},
   "source": [
    "## Manual Scrape\n",
    "\n",
    "Grab the HTML for a specific member's page. This uses a HTTP `GET` request. This is functionally equivalent to opening the URL in a browser."
   ]
  },
  {
   "cell_type": "code",
   "execution_count": 131,
   "metadata": {},
   "outputs": [],
   "source": [
    "response = get(url)"
   ]
  },
  {
   "cell_type": "markdown",
   "metadata": {},
   "source": [
    "First check whether the request was successful. The result below is a [HTTP status code](https://en.wikipedia.org/wiki/List_of_HTTP_status_codes), where 200 indicates success."
   ]
  },
  {
   "cell_type": "code",
   "execution_count": 132,
   "metadata": {},
   "outputs": [
    {
     "data": {
      "text/plain": [
       "200"
      ]
     },
     "execution_count": 132,
     "metadata": {},
     "output_type": "execute_result"
    }
   ],
   "source": [
    "response.status_code"
   ]
  },
  {
   "cell_type": "markdown",
   "metadata": {},
   "source": [
    "Looks good.\n",
    "\n",
    "Let's take a look at the response headers (essentially metadata)."
   ]
  },
  {
   "cell_type": "code",
   "execution_count": 133,
   "metadata": {},
   "outputs": [
    {
     "data": {
      "text/plain": [
       "{'Server': 'nginx', 'Date': 'Fri, 13 Sep 2019 11:52:51 GMT', 'Content-Type': 'text/html; charset=utf-8', 'Content-Length': '11172', 'Connection': 'keep-alive', 'Last-Modified': 'Fri, 13 Sep 2019 11:52:51 GMT', 'Content-Encoding': 'gzip', 'Expires': 'Fri, 13 Sep 2019 12:12:51 GMT', 'Vary': 'Cookie,Accept-Encoding', 'Cache-Control': 'max-age=1200', 'x-url': '/person/alexandra-lilian-amelia-abrahams/', 'Accept-Ranges': 'bytes', 'Age': '0'}"
      ]
     },
     "execution_count": 133,
     "metadata": {},
     "output_type": "execute_result"
    }
   ],
   "source": [
    "response.headers"
   ]
  },
  {
   "cell_type": "markdown",
   "metadata": {},
   "source": [
    "Check that we've received an HTML document."
   ]
  },
  {
   "cell_type": "code",
   "execution_count": 134,
   "metadata": {},
   "outputs": [
    {
     "data": {
      "text/plain": [
       "'text/html; charset=utf-8'"
      ]
     },
     "execution_count": 134,
     "metadata": {},
     "output_type": "execute_result"
    }
   ],
   "source": [
    "response.headers['Content-Type'].lower()"
   ]
  },
  {
   "cell_type": "markdown",
   "metadata": {},
   "source": [
    "Finally we can take a look at the actual content of the response."
   ]
  },
  {
   "cell_type": "code",
   "execution_count": 135,
   "metadata": {},
   "outputs": [
    {
     "data": {
      "text/plain": [
       "b'<!DOCTYPE html>\\n<html lang=\"en\" class=\"no-js\">\\n    <head>\\n\\n\\n\\n        <meta charset=\"utf-8\">\\n        <title>\\n            Alexandra Lilian Amelia Abrahams\\n             :: People\\'s Assembly \\n        </title>\\n\\n        <meta http-equiv=\"Content-Type\" content=\"text/html; charset=UTF-8\">\\n        <meta name=\"viewport\" content=\"initial-scale=1\">\\n        <meta http-equiv=\"cleartype\" content=\"on\">\\n        <meta http-equiv=\"X-UA-Compatible\" content=\"IE=edge,chrome=1\">\\n\\n        \\n  \\n  \\n    <link href=\"//peoplesassembly.disqus.com\" rel=\"dns-prefetch\" />\\n    <!--[if IE 9]>\\n      <link href=\"http://peoplesassembly.disqus.com/\" rel=\"prefetch\" />\\n    <![endif]-->\\n  \\n  <meta name=\"pombola-person-id\" content=\"14995\">\\n  \\n  <meta name=\"pa:identifier-elections_2019\" content=\"8607130053089\">\\n  \\n  <meta name=\"pa:identifier-za.org.pmg.api/member\" content=\"1275\">\\n  \\n\\n\\n        \\n        <meta property=\"fb:app_id\" content=\"1619725741628189\" />\\n        \\n\\n        \\n\\n        \\n\\n        \\n\\n<meta property=\"og:title\" content=\"Alexandra Lilian Amelia Abrahams\" />\\n<meta property=\"og:site_name\" content=\"People&#39;s Assembly\" />\\n<meta property=\"og:type\" content=\"profile\" />\\n\\n<meta property=\"og:image\" content=\"http://www.pa.org.za/media_root/images/Alexandra_Abrahams.jpg\" />\\n\\n<meta property=\"og:url\" content=\"http://www.pa.org.za/person/alexandra-lilian-amelia-abrahams/\" />\\n\\n\\n<meta property=\"profile:first_name\" content=\"Alexandra Lilian Amelia\" />\\n\\n\\n<meta property=\"profile:last_name\" content=\"Abrahams\" />\\n\\n\\n\\n\\n        \\n    <link href=\"/static/css/south-africa.d4b46b75a67d.css\" rel=\"stylesheet\" type=\"text/css\" />\\n\\n\\n        \\n        <script type=\"text/javascript\" charset=\"utf-8\">\\n\\n            window.pombola_settings = {\\n                google_analytics_account : \\'UA-47810266-1\\',\\n                static_url:                \\'/static/\\',\\n                map_bounds: {\\n                  north: -22.06,\\n                  east:  32.95,\\n                  south: -35.0,\\n                  west:  16.3\\n                },\\n                crosshairs_image: \\'/static/images/crosshairs.9809ff8a2f7f.png\\'\\n            };\\n\\n            (function(i,s,o,g,r,a,m){i[\\'GoogleAnalyticsObject\\']=r;i[r]=i[r]||function(){\\n            (i[r].q=i[r].q||[]).push(arguments)},i[r].l=1*new Date();a=s.createElement(o),\\n            m=s.getElementsByTagName(o)[0];a.async=1;a.src=g;m.parentNode.insertBefore(a,m)\\n            })(window,document,\\'script\\',\\'//www.google-analytics.com/analytics.js\\',\\'ga\\');\\n\\n            ga(\\'create\\', pombola_settings.google_analytics_account);\\n            ga(\\'send\\', \\'pageview\\');\\n\\n        </script>\\n\\n        \\n\\n        <script type=\"text/javascript\" src=\"/static/js/modernizr.9cb2884d418d.js\" charset=\"utf-8\"></script>\\n\\n        <!--[if (lt IE 9) & (!IEMobile)]>\\n            <script type=\"text/javascript\" src=\"/static/js/respond.1d1b2e4f5263.js\" charset=\"utf-8\"></script>\\n        <![endif]-->\\n\\n        <link rel=\"icon\" type=\"image/png\" href=\"/static/images/favicon.c0fda3ea8617.png\">\\n\\n        \\n\\n    </head>\\n    <body >\\n\\n        \\n          \\n\\n\\n\\n\\n\\n<header id=\"site-header\">\\n    <div class=\"wrapper\">\\n\\n        <a href=\"/\" class=\"logo site-logo-svg\" aria-label=\"Home\"><svg xmlns=\"http://www.w3.org/2000/svg\" xmlns:xlink=\"http://www.w3.org/1999/xlink\" version=\"1.1\" id=\"Layer_1\" x=\"0\" y=\"0\" viewBox=\"0 0 184 90\" enable-background=\"new 0 0 184 90\" xml:space=\"preserve\" class=\"site-logo-svg__svg\" height=\"90px\" width=\"184px\"><path fill=\"#007C59\" d=\"M44.2 2.5c-4.6 0-9.2 0.8-13.7 2.3C19.8 8.4 11.2 16 6.2 26.2 -4 47.1 4.6 72.5 25.6 82.7c5.8 2.9 12.1 4.3 18.4 4.3l0-8c-5.1 0-10.2-1.2-14.9-3.5 -17-8.3-24-28.9-15.7-45.9 4-8.2 11-14.4 19.7-17.3 3.6-1.2 7.4-1.9 11.1-1.9 5.2 0 10.3 1.2 15.1 3.5 2.4 1.2 4.6 2.6 6.6 4.2l5.1-6.2c-2.5-2-5.2-3.8-8.2-5.2C56.9 3.9 50.6 2.5 44.2 2.5\"/><path fill=\"#E23D28\" d=\"M44.2 17.4c-10.1 0-19.8 5.6-24.6 15.3 -6.6 13.5-1 29.9 12.5 36.6 3.8 1.8 7.8 2.8 11.9 2.8l0-8c-2.9 0-5.7-0.7-8.3-2 -9.6-4.7-13.5-16.3-8.8-25.9 3.4-6.8 10.2-10.8 17.4-10.8 2.9 0 5.8 0.6 8.5 2 1.4 0.7 2.6 1.5 3.8 2.4l5.1-6.2c-1.6-1.3-3.4-2.5-5.3-3.4C52.4 18.3 48.3 17.4 44.2 17.4\"/><path fill=\"#FCB514\" d=\"M44.2 33.5c-4.2 0-8.2 2.3-10.1 6.3 -1.3 2.7-1.5 5.8-0.5 8.6 1 2.8 3 5.1 5.7 6.5 1.5 0.7 3.1 1.1 4.8 1.2l0-8c-0.4 0-0.9-0.1-1.3-0.3 -0.8-0.4-1.4-1.1-1.7-1.9 -0.3-0.8-0.2-1.7 0.2-2.5 0.4-0.8 1.1-1.4 1.9-1.7 0.3-0.1 0.7-0.2 1.1-0.2 0.5 0 1 0.1 1.4 0.3 0.3 0.1 0.5 0.3 0.7 0.5l5.1-6.2c-0.7-0.6-1.4-1-2.2-1.4C47.5 33.9 45.9 33.5 44.2 33.5\"/><defs><polyline points=\"-1355.2 -3029.4 1405.1 -3029.4 1405.1 3239.4 -1355.2 3239.4 -1355.2 -3029.4 \"/></defs><clipPath><use xlink:href=\"#SVGID_1_\" overflow=\"visible\"/></clipPath><path d=\"M81.5 41.8v7.1h-4.9V27.7h7.5c1.5 0 2.8 0.2 3.8 0.5 1.1 0.4 2 0.8 2.6 1.5 0.7 0.6 1.2 1.4 1.5 2.2s0.5 1.8 0.5 2.7c0 1.1-0.2 2-0.5 2.9 -0.3 0.9-0.9 1.6-1.6 2.3 -0.7 0.6-1.6 1.1-2.7 1.5 -1.1 0.4-2.3 0.5-3.8 0.5H81.5zM81.5 38.1h2.6c1.3 0 2.2-0.3 2.8-0.9 0.6-0.6 0.8-1.5 0.8-2.6 0-0.5-0.1-0.9-0.2-1.3 -0.1-0.4-0.4-0.7-0.7-1 -0.3-0.3-0.7-0.5-1.1-0.7 -0.5-0.2-1-0.2-1.6-0.2h-2.6V38.1z\"/><path d=\"M100.8 33.5c1 0 1.9 0.2 2.7 0.5 0.8 0.3 1.5 0.8 2.1 1.4s1.1 1.3 1.4 2.2c0.3 0.9 0.5 1.8 0.5 2.9 0 0.3 0 0.6 0 0.8 0 0.2-0.1 0.4-0.2 0.5s-0.2 0.2-0.3 0.3 -0.3 0.1-0.5 0.1h-8.7c0.1 1.3 0.5 2.2 1.1 2.7 0.6 0.6 1.4 0.9 2.4 0.9 0.5 0 1-0.1 1.4-0.2 0.4-0.1 0.7-0.3 1-0.4 0.3-0.2 0.6-0.3 0.8-0.4 0.2-0.1 0.5-0.2 0.8-0.2 0.4 0 0.6 0.1 0.8 0.4l1.3 1.6c-0.5 0.5-1 1-1.5 1.3 -0.5 0.3-1.1 0.6-1.7 0.8 -0.6 0.2-1.1 0.3-1.7 0.4 -0.6 0.1-1.1 0.1-1.6 0.1 -1.1 0-2-0.2-3-0.5 -0.9-0.3-1.7-0.9-2.4-1.5s-1.2-1.5-1.6-2.5c-0.4-1-0.6-2.2-0.6-3.5 0-1 0.2-2 0.5-2.9 0.3-0.9 0.8-1.7 1.5-2.4 0.6-0.7 1.4-1.2 2.3-1.6S99.7 33.5 100.8 33.5zM100.9 36.7c-0.9 0-1.5 0.2-2 0.7 -0.5 0.5-0.8 1.2-1 2.1h5.6c0-0.4 0-0.7-0.1-1 -0.1-0.3-0.2-0.6-0.5-0.9s-0.5-0.5-0.8-0.6C101.8 36.7 101.4 36.7 100.9 36.7z\"/><path d=\"M116.7 33.5c1.1 0 2.2 0.2 3.1 0.5 0.9 0.4 1.7 0.9 2.4 1.5 0.7 0.7 1.2 1.5 1.6 2.4 0.4 1 0.6 2 0.6 3.2 0 1.2-0.2 2.3-0.6 3.2 -0.4 1-0.9 1.8-1.6 2.5 -0.7 0.7-1.5 1.2-2.4 1.6 -0.9 0.4-2 0.5-3.1 0.5 -1.2 0-2.2-0.2-3.1-0.5s-1.8-0.9-2.4-1.6c-0.7-0.7-1.2-1.5-1.6-2.5 -0.4-1-0.6-2-0.6-3.2 0-1.2 0.2-2.3 0.6-3.2 0.4-1 0.9-1.8 1.6-2.4 0.7-0.7 1.5-1.2 2.4-1.5C114.5 33.7 115.6 33.5 116.7 33.5zM116.7 45.7c1 0 1.8-0.4 2.3-1.1 0.5-0.7 0.7-1.8 0.7-3.3s-0.2-2.6-0.7-3.3c-0.5-0.7-1.3-1.1-2.3-1.1 -1.1 0-1.8 0.4-2.3 1.1 -0.5 0.7-0.7 1.8-0.7 3.3s0.2 2.6 0.7 3.3C114.9 45.4 115.7 45.7 116.7 45.7z\"/><path d=\"M126.6 53.6V33.8h2.8c0.3 0 0.5 0.1 0.7 0.2s0.3 0.3 0.4 0.6l0.3 1.1c0.3-0.3 0.6-0.6 0.9-0.9s0.7-0.5 1.1-0.7 0.8-0.3 1.2-0.4c0.4-0.1 0.9-0.2 1.4-0.2 0.8 0 1.5 0.2 2.2 0.5s1.2 0.9 1.7 1.5c0.5 0.7 0.9 1.5 1.1 2.4 0.3 1 0.4 2 0.4 3.2 0 1.1-0.2 2.2-0.5 3.1s-0.8 1.8-1.3 2.5c-0.6 0.7-1.2 1.3-2 1.7s-1.7 0.6-2.6 0.6c-0.8 0-1.4-0.1-2-0.3 -0.5-0.2-1-0.5-1.5-0.9v5.8H126.6zM134 36.9c-0.3 0-0.6 0-0.9 0.1 -0.3 0.1-0.5 0.2-0.7 0.3s-0.4 0.3-0.6 0.4c-0.2 0.2-0.4 0.4-0.6 0.6v6.4c0.3 0.4 0.7 0.6 1.1 0.8s0.8 0.2 1.3 0.2c0.4 0 0.8-0.1 1.1-0.2 0.3-0.2 0.7-0.4 0.9-0.8 0.3-0.4 0.5-0.8 0.6-1.4 0.1-0.6 0.2-1.3 0.2-2.1 0-0.8-0.1-1.5-0.2-2 -0.1-0.5-0.3-1-0.5-1.3s-0.5-0.6-0.7-0.7C134.7 37 134.3 36.9 134 36.9z\"/><path d=\"M147.9 27.1v21.8h-4.5V27.1H147.9z\"/><path d=\"M157.6 33.5c1 0 1.9 0.2 2.7 0.5 0.8 0.3 1.5 0.8 2.1 1.4s1.1 1.3 1.4 2.2c0.3 0.9 0.5 1.8 0.5 2.9 0 0.3 0 0.6 0 0.8 0 0.2-0.1 0.4-0.2 0.5S164 42 163.9 42s-0.3 0.1-0.5 0.1h-8.7c0.1 1.3 0.5 2.2 1.1 2.7 0.6 0.6 1.4 0.9 2.4 0.9 0.5 0 1-0.1 1.4-0.2 0.4-0.1 0.7-0.3 1-0.4 0.3-0.2 0.6-0.3 0.8-0.4 0.2-0.1 0.5-0.2 0.8-0.2 0.4 0 0.6 0.1 0.8 0.4l1.3 1.6c-0.5 0.5-1 1-1.5 1.3 -0.5 0.3-1.1 0.6-1.7 0.8 -0.6 0.2-1.1 0.3-1.7 0.4 -0.6 0.1-1.1 0.1-1.6 0.1 -1.1 0-2-0.2-3-0.5 -0.9-0.3-1.7-0.9-2.4-1.5s-1.2-1.5-1.6-2.5c-0.4-1-0.6-2.2-0.6-3.5 0-1 0.2-2 0.5-2.9 0.3-0.9 0.8-1.7 1.5-2.4 0.6-0.7 1.4-1.2 2.3-1.6S156.5 33.5 157.6 33.5zM157.7 36.7c-0.9 0-1.5 0.2-2 0.7 -0.5 0.5-0.8 1.2-1 2.1h5.6c0-0.4 0-0.7-0.1-1 -0.1-0.3-0.2-0.6-0.5-0.9s-0.5-0.5-0.8-0.6C158.6 36.7 158.2 36.7 157.7 36.7z\"/><path d=\"M169 26.3c0.4 0.6 0.7 1.2 0.9 1.8 0.2 0.6 0.3 1.2 0.3 1.8 0 1-0.3 2-0.8 3 -0.5 0.9-1.3 1.8-2.4 2.6l-1.4-0.8c-0.1-0.1-0.2-0.2-0.3-0.3 -0.1-0.1-0.1-0.2-0.1-0.3 0-0.1 0-0.2 0.1-0.3 0-0.1 0.1-0.2 0.2-0.2 0.1-0.1 0.2-0.3 0.4-0.4 0.1-0.2 0.3-0.4 0.4-0.6 0.1-0.2 0.2-0.5 0.3-0.8 0.1-0.3 0.1-0.6 0.1-0.9 0-0.3-0.1-0.7-0.2-1.1 -0.1-0.4-0.3-0.8-0.6-1.3 -0.1-0.2-0.1-0.3-0.1-0.5 0-0.2 0.1-0.3 0.2-0.5 0.1-0.1 0.3-0.2 0.5-0.3L169 26.3z\"/><path d=\"M180.4 37.1c-0.1 0.2-0.2 0.3-0.4 0.4 -0.1 0.1-0.3 0.1-0.5 0.1 -0.2 0-0.4 0-0.6-0.1 -0.2-0.1-0.4-0.2-0.7-0.3 -0.2-0.1-0.5-0.2-0.8-0.3s-0.7-0.1-1.1-0.1c-0.6 0-1 0.1-1.3 0.3 -0.3 0.2-0.5 0.5-0.5 0.9 0 0.3 0.1 0.5 0.3 0.7s0.5 0.3 0.8 0.5c0.3 0.1 0.7 0.3 1.1 0.4 0.4 0.1 0.8 0.3 1.3 0.4 0.4 0.2 0.9 0.3 1.3 0.5 0.4 0.2 0.8 0.5 1.1 0.8 0.3 0.3 0.6 0.7 0.8 1.1 0.2 0.4 0.3 1 0.3 1.6 0 0.7-0.1 1.4-0.4 2.1 -0.3 0.6-0.7 1.2-1.2 1.6 -0.5 0.5-1.2 0.8-2 1.1s-1.7 0.4-2.7 0.4c-0.5 0-1 0-1.5-0.1s-1-0.2-1.5-0.4c-0.5-0.2-0.9-0.4-1.3-0.6 -0.4-0.2-0.8-0.5-1-0.7l1-1.7c0.1-0.2 0.3-0.3 0.5-0.5 0.2-0.1 0.4-0.2 0.7-0.2 0.3 0 0.5 0.1 0.7 0.2 0.2 0.1 0.4 0.2 0.7 0.4 0.2 0.1 0.5 0.3 0.9 0.4 0.3 0.1 0.7 0.2 1.2 0.2 0.3 0 0.6 0 0.9-0.1 0.2-0.1 0.4-0.2 0.6-0.3 0.1-0.1 0.3-0.3 0.3-0.4 0.1-0.2 0.1-0.3 0.1-0.5 0-0.3-0.1-0.5-0.3-0.7s-0.5-0.4-0.8-0.5 -0.7-0.3-1.1-0.4c-0.4-0.1-0.9-0.3-1.3-0.4 -0.4-0.2-0.9-0.3-1.3-0.6 -0.4-0.2-0.8-0.5-1.1-0.8 -0.3-0.3-0.6-0.7-0.8-1.2s-0.3-1.1-0.3-1.8c0-0.6 0.1-1.2 0.4-1.8 0.2-0.6 0.6-1.1 1.1-1.5 0.5-0.4 1.1-0.8 1.9-1 0.7-0.3 1.6-0.4 2.6-0.4 0.5 0 1.1 0 1.6 0.1 0.5 0.1 1 0.2 1.4 0.4 0.4 0.2 0.9 0.4 1.2 0.6 0.4 0.2 0.7 0.5 1 0.8L180.4 37.1z\"/><path d=\"M72.4 77h-2.3c-0.3 0-0.5-0.1-0.7-0.2 -0.2-0.1-0.3-0.3-0.4-0.5L67 71H57L55 76.3c-0.1 0.2-0.2 0.4-0.4 0.5S54.2 77 53.9 77h-2.3l8.9-22.2h3.1L72.4 77zM57.9 68.8h8.3l-3.5-9c-0.2-0.6-0.4-1.3-0.7-2.1 -0.1 0.4-0.2 0.8-0.3 1.2 -0.1 0.4-0.2 0.7-0.3 0.9L57.9 68.8z\"/><path d=\"M84.1 63.9c-0.1 0.2-0.3 0.3-0.6 0.3 -0.2 0-0.3-0.1-0.5-0.2 -0.2-0.1-0.4-0.2-0.7-0.4 -0.3-0.1-0.6-0.3-1-0.4 -0.4-0.1-0.9-0.2-1.4-0.2 -0.5 0-0.9 0.1-1.3 0.2 -0.4 0.1-0.7 0.3-1 0.5 -0.3 0.2-0.5 0.4-0.6 0.7 -0.1 0.3-0.2 0.6-0.2 0.9 0 0.4 0.1 0.7 0.3 1 0.2 0.3 0.5 0.5 0.9 0.7s0.8 0.4 1.3 0.5c0.5 0.1 1 0.3 1.5 0.5s1 0.4 1.5 0.6c0.5 0.2 0.9 0.5 1.3 0.8 0.4 0.3 0.7 0.7 0.9 1.1 0.2 0.5 0.3 1 0.3 1.6 0 0.7-0.1 1.4-0.4 2 -0.3 0.6-0.6 1.1-1.1 1.6 -0.5 0.5-1.1 0.8-1.9 1.1 -0.7 0.3-1.6 0.4-2.5 0.4 -1.1 0-2.1-0.2-3-0.5s-1.6-0.8-2.3-1.4l0.7-1.1c0.1-0.1 0.2-0.2 0.3-0.3s0.3-0.1 0.4-0.1 0.4 0.1 0.6 0.2c0.2 0.1 0.5 0.3 0.8 0.5s0.7 0.3 1.1 0.5c0.4 0.1 0.9 0.2 1.6 0.2 0.5 0 1-0.1 1.4-0.2 0.4-0.1 0.7-0.3 1-0.6 0.3-0.2 0.5-0.5 0.6-0.8 0.1-0.3 0.2-0.6 0.2-1 0-0.4-0.1-0.8-0.3-1.1 -0.2-0.3-0.5-0.5-0.9-0.7 -0.4-0.2-0.8-0.4-1.3-0.5 -0.5-0.1-1-0.3-1.5-0.5s-1-0.4-1.5-0.6c-0.5-0.2-0.9-0.5-1.3-0.8s-0.7-0.7-0.9-1.2 -0.3-1-0.3-1.7c0-0.6 0.1-1.2 0.4-1.7 0.2-0.6 0.6-1 1.1-1.5 0.5-0.4 1.1-0.8 1.8-1 0.7-0.2 1.5-0.4 2.4-0.4 1 0 2 0.2 2.8 0.5 0.8 0.3 1.5 0.8 2.1 1.3L84.1 63.9z\"/><path d=\"M97.1 63.9c-0.1 0.2-0.3 0.3-0.6 0.3 -0.2 0-0.3-0.1-0.5-0.2 -0.2-0.1-0.4-0.2-0.7-0.4 -0.3-0.1-0.6-0.3-1-0.4 -0.4-0.1-0.9-0.2-1.4-0.2 -0.5 0-0.9 0.1-1.3 0.2 -0.4 0.1-0.7 0.3-1 0.5 -0.3 0.2-0.5 0.4-0.6 0.7 -0.1 0.3-0.2 0.6-0.2 0.9 0 0.4 0.1 0.7 0.3 1 0.2 0.3 0.5 0.5 0.9 0.7s0.8 0.4 1.3 0.5c0.5 0.1 1 0.3 1.5 0.5s1 0.4 1.5 0.6c0.5 0.2 0.9 0.5 1.3 0.8 0.4 0.3 0.7 0.7 0.9 1.1 0.2 0.5 0.3 1 0.3 1.6 0 0.7-0.1 1.4-0.4 2 -0.3 0.6-0.6 1.1-1.1 1.6 -0.5 0.5-1.1 0.8-1.9 1.1 -0.7 0.3-1.6 0.4-2.5 0.4 -1.1 0-2.1-0.2-3-0.5s-1.6-0.8-2.3-1.4l0.7-1.1c0.1-0.1 0.2-0.2 0.3-0.3s0.3-0.1 0.4-0.1 0.4 0.1 0.6 0.2c0.2 0.1 0.5 0.3 0.8 0.5s0.7 0.3 1.1 0.5c0.4 0.1 0.9 0.2 1.6 0.2 0.5 0 1-0.1 1.4-0.2 0.4-0.1 0.7-0.3 1-0.6 0.3-0.2 0.5-0.5 0.6-0.8 0.1-0.3 0.2-0.6 0.2-1 0-0.4-0.1-0.8-0.3-1.1 -0.2-0.3-0.5-0.5-0.9-0.7 -0.4-0.2-0.8-0.4-1.3-0.5 -0.5-0.1-1-0.3-1.5-0.5s-1-0.4-1.5-0.6c-0.5-0.2-0.9-0.5-1.3-0.8s-0.7-0.7-0.9-1.2 -0.3-1-0.3-1.7c0-0.6 0.1-1.2 0.4-1.7 0.2-0.6 0.6-1 1.1-1.5 0.5-0.4 1.1-0.8 1.8-1 0.7-0.2 1.5-0.4 2.4-0.4 1 0 2 0.2 2.8 0.5 0.8 0.3 1.5 0.8 2.1 1.3L97.1 63.9z\"/><path d=\"M107.3 61.1c0.9 0 1.8 0.2 2.6 0.5 0.8 0.3 1.5 0.8 2.1 1.4 0.6 0.6 1 1.3 1.4 2.2 0.3 0.9 0.5 1.9 0.5 3 0 0.4 0 0.7-0.1 0.9 -0.1 0.1-0.3 0.2-0.5 0.2h-10.5c0 1 0.2 1.9 0.4 2.6 0.2 0.7 0.6 1.3 1 1.8s1 0.9 1.6 1.1c0.6 0.2 1.3 0.4 2 0.4 0.7 0 1.3-0.1 1.8-0.2 0.5-0.2 0.9-0.3 1.3-0.5 0.4-0.2 0.7-0.4 0.9-0.5 0.2-0.2 0.5-0.2 0.6-0.2 0.2 0 0.4 0.1 0.5 0.3l0.8 1c-0.3 0.4-0.7 0.8-1.2 1.1s-1 0.6-1.5 0.8c-0.5 0.2-1.1 0.3-1.7 0.4 -0.6 0.1-1.2 0.1-1.7 0.1 -1.1 0-2.1-0.2-3-0.5 -0.9-0.4-1.7-0.9-2.4-1.6 -0.7-0.7-1.2-1.6-1.6-2.6s-0.6-2.2-0.6-3.6c0-1.1 0.2-2.1 0.5-3.1s0.8-1.8 1.4-2.5c0.6-0.7 1.4-1.2 2.3-1.6C105.2 61.3 106.2 61.1 107.3 61.1zM107.4 63.1c-1.3 0-2.4 0.4-3.1 1.2 -0.8 0.8-1.2 1.8-1.4 3.2h8.5c0-0.6-0.1-1.2-0.3-1.8s-0.4-1-0.8-1.4 -0.8-0.7-1.2-0.9C108.6 63.2 108 63.1 107.4 63.1z\"/><path d=\"M116.9 77V61.3h1.6c0.4 0 0.6 0.2 0.7 0.6l0.2 1.6c0.6-0.7 1.2-1.3 1.9-1.8 0.7-0.5 1.6-0.7 2.5-0.7 1.1 0 1.9 0.3 2.6 0.9 0.7 0.6 1.1 1.4 1.4 2.4 0.2-0.6 0.5-1.1 0.9-1.5 0.4-0.4 0.8-0.8 1.2-1 0.4-0.3 0.9-0.5 1.4-0.6 0.5-0.1 1-0.2 1.5-0.2 0.8 0 1.6 0.1 2.2 0.4s1.2 0.6 1.6 1.2 0.8 1.1 1 1.9c0.2 0.7 0.4 1.6 0.4 2.5v10h-2.8V67c0-1.2-0.3-2.2-0.8-2.8s-1.3-1-2.3-1c-0.5 0-0.9 0.1-1.3 0.2 -0.4 0.2-0.8 0.4-1.1 0.7 -0.3 0.3-0.6 0.7-0.7 1.2 -0.2 0.5-0.3 1-0.3 1.6v10h-2.8V67c0-1.3-0.3-2.2-0.8-2.8 -0.5-0.6-1.2-0.9-2.2-0.9 -0.7 0-1.3 0.2-1.9 0.6 -0.6 0.4-1.1 0.9-1.6 1.5V77H116.9z\"/><path d=\"M142 77V54.2h2.8v9.4c0.7-0.8 1.4-1.4 2.2-1.8 0.8-0.5 1.8-0.7 2.9-0.7 0.9 0 1.7 0.2 2.5 0.5s1.4 0.9 1.9 1.5c0.5 0.7 0.9 1.5 1.2 2.5 0.3 1 0.4 2.1 0.4 3.5 0 1.2-0.2 2.2-0.5 3.2 -0.3 1-0.8 1.9-1.3 2.6 -0.6 0.7-1.3 1.3-2.1 1.7 -0.8 0.4-1.8 0.6-2.8 0.6 -1 0-1.9-0.2-2.6-0.6 -0.7-0.4-1.3-0.9-1.9-1.6l-0.1 1.4c-0.1 0.4-0.3 0.6-0.7 0.6H142zM149 63.3c-0.9 0-1.7 0.2-2.4 0.6 -0.7 0.4-1.3 1-1.9 1.8v7.6c0.5 0.7 1 1.2 1.7 1.4 0.6 0.3 1.3 0.4 2 0.4 1.5 0 2.6-0.5 3.4-1.6 0.8-1 1.2-2.5 1.2-4.5 0-1-0.1-1.9-0.3-2.6 -0.2-0.7-0.4-1.3-0.8-1.8 -0.3-0.5-0.8-0.8-1.3-1C150.2 63.4 149.6 63.3 149 63.3z\"/><path d=\"M161.9 54.2V77h-2.8V54.2H161.9z\"/><path d=\"M170.9 81.7c-0.1 0.2-0.2 0.4-0.3 0.5s-0.4 0.2-0.6 0.2h-2l2.9-6.2 -6.5-14.8h2.4c0.2 0 0.4 0.1 0.6 0.2s0.2 0.3 0.3 0.4l4.2 9.9c0.1 0.2 0.2 0.5 0.2 0.7s0.1 0.5 0.2 0.7c0.1-0.2 0.1-0.5 0.2-0.7 0.1-0.2 0.2-0.5 0.2-0.7l4.1-9.9c0.1-0.2 0.2-0.3 0.3-0.4s0.3-0.2 0.5-0.2h2.2L170.9 81.7z\"/></svg>\\n</a>\\n<a href=\"/\" class=\"logo no-svg-fallback-logo\" aria-label=\"Home\">People\\'s Assembly</a>\\n\\n<p class=\"logo-tagline\">Connecting people with their representatives</p>\\n\\n<div class=\"about-this-site-menu\">\\n    <ul role=\"menubar\" aria-label=\"Help menu\">\\n        <li>\\n            <a href=\"/info/about\" role=\"menuitem\" aria-haspopup=\"true\">About us</a>\\n            <ul class=\"js-hover-dropdown\" role=\"menu\">\\n                <li><a href=\"/info/about\" role=\"menuitem\">Who we are</a></li>\\n                <li><a href=\"/info/source-data\" role=\"menuitem\">Source Data</a></li>\\n                <li><a href=\"/info/for-representatives\" role=\"menuitem\">For Representatives</a></li>\\n            </ul>\\n        </li>\\n        <li><a href=\"/info/contact-us\" role=\"menuitem\">Contact us</a></li>\\n    </ul>\\n</div>\\n\\n<ul class=\"social-links-list\" aria-label=\"Social links\">\\n    <li><a href=\"https://mail4.marketingautomation.services/prospector/form/MzawMDE2MrUwBwA/SzMyMjE3NErSNTAzSdI1SbFI07VITLTQTTZJM05NSjOzNEy1AAA\" class=\"email-social-icon\">Email</a></li>\\n    <li><a href=\"https://www.facebook.com/peoplesassemblysa\" class=\"facebook-social-icon\">Facebook</a></li>\\n    <li><a href=\"https://twitter.com/PeoplesAssem_SA\" class=\"twitter-social-icon\">Twitter</a></li>\\n    <!--<li><a href=\"#\" class=\"youtube-social-icon\">YouTube</a></li>\\n    <li><a href=\"#\" class=\"rss-social-icon\">RSS</a></li> -->\\n</ul>\\n\\n\\n        <menu id=\"mobile-top-tools\">\\n            <ul>\\n                <li><a href=\"#footer-menu\" class=\"m-icon-nav\">menu</a></li>\\n                <li><a href=\"/search/\" class=\"icon-search\"><img src=\"/static/images/search-icon.95c861f1f8ad.png\" alt=\"search\"/></a></li>\\n            </ul>\\n        </menu>\\n\\n        \\n\\n    </div>\\n</header>\\n\\n\\n<div id=\"main-menu\">\\n    <nav class=\"wrapper\">\\n        <ul role=\"menubar\" aria-label=\"Main menu\">\\n            \\n                \\n\\n<li><a href=\"/\" role=\"menuitem\">Home</a></li>\\n\\n<li><a href=\"/search/location/\" role=\"menuitem\">Rep Locator</a></li>\\n\\n<li>\\n  <a class=\"has-dropdown\" role=\"menuitem\" aria-haspopup=\"true\">People</a>\\n  \\n    <ul id=\"parliament-overview\" class=\"js-hover-dropdown\" role=\"menu\">\\n      <li><a href=\"/search/?section=persons\" role=\"menuitem\">Find by name</a></li>\\n      <li><a href=\"/organisation/is/parliament/\" role=\"menuitem\">Parliament</a>\\n        <ul>\\n          <li><a href=\"/organisation/national-assembly/\" role=\"menuitem\">National Assembly</a></li>\\n          <li><a href=\"/organisation/ncop/\" role=\"menuitem\">National Council of Provinces</a></li>\\n        </ul>\\n      </li>\\n      <li><a href=\"/place/is/province/\" role=\"menuitem\">Provinces</a>\\n        <ul id=\"provinces-overview\">\\n          <li><a href=\"/place/eastern-cape/\" role=\"menuitem\">Eastern Cape</a></li>\\n          <li><a href=\"/place/free-state/\" role=\"menuitem\">Free State</a></li>\\n          <li><a href=\"/place/gauteng/\" role=\"menuitem\">Gauteng</a></li>\\n          <li><a href=\"/place/kwazulu-natal/\" role=\"menuitem\">KwaZulu-Natal</a></li>\\n          <li><a href=\"/place/limpopo/\" role=\"menuitem\">Limpopo</a></li>\\n          <li><a href=\"/place/mpumalanga/\" role=\"menuitem\">Mpumalanga</a></li>\\n          <li><a href=\"/place/northern-cape/\" role=\"menuitem\">Northern Cape</a></li>\\n          <li><a href=\"/place/north-west/\" role=\"menuitem\">North West</a></li>\\n          <li><a href=\"/place/western-cape/\" role=\"menuitem\">Western Cape</a></li>\\n        </ul>\\n      </li>\\n    </ul>\\n  \\n</li>\\n\\n<li><a href=\"/blog/\" role=\"menuitem\">Blog</a></li>\\n\\n<li><a href=\"/position/member/parliament/?order=name&amp;a=1\" role=\"menuitem\">MP Profiles</a></li>\\n<li><a href=\"/mp-attendance/\" role=\"menuitem\">MP Attendance</a></li>\\n<li>\\n  <a href=\"/info/public-participation\" class=\"has-dropdown\" role=\"menuitem\" aria-haspopup=\"true\">Public Participation</a>\\n  \\n    <ul id=\"extras-overview\" class=\"js-hover-dropdown\" role=\"menu\">\\n      <li><a href=\"/info/make-yourself-heard\" role=\"menuitem\">Make yourself heard</a></li>\\n      <li>\\n        <a href=\"/info/elections\" role=\"menuitem\">Elections</a>\\n        <ul>\\n          <li><a href=\"/election/2014/\" role=\"menuitem\">Election 2014 Candidates</a></li>\\n          <li><a href=\"/election/2019/\" role=\"menuitem\">Election 2019 Candidates</a></li>\\n        </ul>\\n      </li>\\n      <li><a href=\"/info/petitions\" role=\"menuitem\">Petitions</a></li>\\n      <li><a href=\"/committees/\" role=\"menuitem\">Write to a Committee</a></li>\\n    </ul>\\n  \\n</li>\\n\\n<li>\\n  <a href=\"/info/hot-topics\" class=\"has-dropdown\" role=\"menuitem\" aria-haspopup=\"true\">Hot Topics</a>\\n  \\n    <ul id=\"extras-overview\" class=\"js-hover-dropdown\" role=\"menu\">\\n      <li><a href=\"/question\" role=\"menuitem\">Questions</a></li>\\n      <li><a href=\"/interests/\" role=\"menuitem\">MP Assets</a></li>\\n      <li><a href=\"/blog/category/mp-corner\" role=\"menuitem\">MP Corner</a></li>\\n      <li><a href=\"/info/infographics\" role=\"menuitem\">Infographics</a></li>\\n    </ul>\\n  \\n</li>\\n\\n\\n<li class=\"header-search\" role=\"search\">\\n  <form action=\"/search/\" method=\"get\" id=\"header-search\">\\n      <input class=\"search-autocomplete-name\" type=\"text\" name=\"q\" placeholder=\"Search pa.org.za\" />\\n      <button type=\"submit\">Submit</button>\\n  </form>\\n</li>\\n\\n\\n            \\n        </ul>\\n    </nav>\\n</div>\\n\\n\\n        \\n\\n        \\n\\n        \\n        \\n        <div id=\"breadcrumb\">\\n            <nav class=\"wrapper\">\\n                <ul>\\n                    <li><a href=\"/\" title=\"Breadcrumb link to the homepage.\">Home</a>  <span class=\"sep\">&raquo;</span> </li><li><a href=\"/person/all/\" title=\"Breadcrumb link to Politicians\">Politicians</a>  <span class=\"sep\">&raquo;</span> </li><li>Alexandra Lilian Amelia Abrahams</li>\\n                </ul>\\n            </nav>\\n        </div>\\n        \\n\\n        \\n<div id=\"page\">\\n  \\n\\n  \\n    <div class=\"page-wrapper wrapper\">\\n        \\n    \\n<script type=\"text/javascript\">\\n\\n  var disqus_shortname = \\'peoplesassembly\\';\\n\\n  var disqus_config = function () {\\n    var disqus_identifier = \\'person\\\\u002D14995\\';\\n    this.page.url = \\'http://www.pa.org.za/person/alexandra\\\\u002Dlilian\\\\u002Damelia\\\\u002Dabrahams/\\';\\n    \\n    this.page.title = \\'Alexandra Lilian Amelia Abrahams (\\' + disqus_identifier + \\')\\';\\n    \\n      this.page.identifier = disqus_identifier;\\n    \\n  };\\n\\n  var disqusScriptTagsAdded = {};\\n\\n  function addDisqusScriptTag (name) {\\n    if (!disqusScriptTagsAdded[name]) {\\n      var dsq = document.createElement(\\'script\\');\\n      dsq.type  = \\'text/javascript\\';\\n      dsq.async = true;\\n      dsq.src   = \\'https://\\' + disqus_shortname + \\'.disqus.com/\\' + name + \\'.js\\';\\n      (document.getElementsByTagName(\\'head\\')[0] || document.getElementsByTagName(\\'body\\')[0]).appendChild(dsq);\\n      disqusScriptTagsAdded[name] = true;\\n    }\\n  }\\n\\n  // Load the correct tag using either of these lines in your code. Don\\'t worry\\n  // about repeating them, subsequent calls are ignored. Annoyingly the \\'embed\\'\\n  // one produces an exception if it can\\'t find the element it wants :(\\n  //\\n  // addDisqusScriptTag(\\'embed\\');\\n  // addDisqusScriptTag(\\'count\\');\\n\\n</script>\\n\\n\\n\\n    \\n      <div class=\"title-space\">\\n\\n        \\n          <h1> Alexandra Lilian Amelia Abrahams</h1>\\n        \\n\\n        \\n    <div class=\"important-positions\">\\n      \\n        <p>\\n          \\n            <span class=\"position-title\">National Assembly</span>\\n          \\n          \\n        </p>\\n      \\n      \\n    </div>\\n\\n    <div class=\"contact-actions\">\\n      \\n        <div class=\"contact-actions__email\">\\n        \\n          <span class=\"email-address preferred\"><a href=\"mailto:alexandra.abrahams@gmail.com\">alexandra.abrahams@gmail.com</a></span>\\n        \\n          <span class=\"email-address\"><a href=\"mailto:aabrahams@parliament.gov.za\">aabrahams@parliament.gov.za</a></span>\\n        \\n        </div>\\n      \\n\\n      \\n\\n      \\n\\n      \\n\\n      \\n\\n      \\n    </div>\\n\\n\\n        \\n        <div class=\"object_menu\">\\n          <nav>\\n            <ul>\\n              \\n  \\n\\n            </ul>\\n          </nav>\\n        </div>\\n        \\n\\n      </div>\\n    \\n\\n    \\n      <div class=\"profile-pic\">\\n        \\n          <img src=\"/media_root/cache/30/1b/301b79188d6bc9fbaf2fbed88cb92104.jpg\"\\n        \\n        \\n            srcset=\"/media_root/cache/ba/b3/bab3bb39573cf6ff4edac7ced7648d24.jpg 640w\"\\n        \\n            alt=\"Alexandra Lilian Amelia Abrahams\">\\n      </div>\\n    \\n\\n    <div class=\"profile-info\">\\n      \\n<div class=\"sidebar\">\\n  <div class=\"constituency-party\">\\n\\n      <h3>Party</h3>\\n      <ul class=\"party-memberships\">\\n        \\n          <li><a href=\"/organisation/da/\"\\n            \\n              data-identifier-org.mysociety.za=\"/party/da\"\\n            \\n              data-identifier-wikidata=\"Q761877\"\\n            \\n            class=\"party-membership party-membership--party\">Democratic Alliance (DA)</a></li>\\n        \\n      </ul>\\n\\n    \\n\\n    \\n      <h3>Phone</h3>\\n      <ul>\\n        \\n          <li><a href=\"tel:082 335 7740\">082 335 7740</a></li>\\n        \\n      </ul>\\n    \\n\\n    \\n\\n    \\n\\n    \\n\\n      <h3>Constituency Offices</h3>\\n      <ul>\\n        \\n          <li>Not associated with any constituency offices</li>\\n        \\n      </ul>\\n\\n    \\n    \\n      <h3>Province</h3>\\n      <ul>\\n        \\n          <li><a\\n            \\n              data-identifier-wikidata=\"Q127167\"\\n            \\n            href=\"/place/western-cape/\">Western Cape</a></li>\\n        \\n      </ul>\\n    \\n  </div>\\n</div>\\n\\n\\n      <div class=\"social-and-tools\">\\n          \\n      </div>\\n\\n    </div>\\n\\n    <div class=\"large-container\">\\n      \\n    <div class=\"person-summary\">\\n      <h3>About Alexandra Lilian Amelia Abrahams</h3>\\n    \\n      \\n    </div>\\n\\n  \\n    <div class=\"tabs ui-tabs ui-widget person-tabs\">\\n      <ul class=\"tab-links ui-tabs-nav ui-helper-reset ui-helper-clearfix ui-widget-header\">\\n        \\n          <li class=\"ui-state-default\">\\n            <a class=\"ui-tabs-anchor\" href=\"#attendance\">Committee Attendance</a>\\n          </li>\\n        \\n        \\n          <li class=\"ui-state-default\">\\n            <a class=\"ui-tabs-anchor\" href=\"#experience\">Positions held</a>\\n          </li>\\n        \\n        \\n        \\n        \\n          <li class=\"ui-state-default\">\\n            <a class=\"ui-tabs-anchor\" href=\"#appearances\">Appearances</a>\\n          </li>\\n        \\n      </ul>\\n\\n      \\n        <div id=\"attendance\" class=\"tab-content ui-tabs-panel ui-widget-content\">\\n          <div class=\"fifty-fifty-layout\">\\n\\n            \\n\\n              <div class=\"column\">\\n                \\n                  <header>\\n                    <h3 class=\"attendance__heading\">2019 committee attendance as mp</h3>\\n                    \\n                  </header>\\n                  \\n                    <p class=\"attendance__percentage\">100% attendance rate</p>\\n                    <p class=\"attendance__context\">Attended 5 meetings out of 5</p>\\n                  \\n                \\n\\n                <ul class=\"attendance__notes\">\\n                  <li>Attendance records reflect Committee not Plenary Attendance</li>\\n                  <li>Minister/Deputy Minister attendance is not compulsory.</li>\\n                  <li>MP attendance is compulsory unless an apology is given</li>\\n                  <li>MPs are recorded as absent whether they have, or have not submitted apologies.</li>\\n                  <li>This is not the official committee attendance record of Parliament.</li>\\n                  <li>Plenary Attendance is not made public by Parliament although it has been requested.</li>\\n                </ul>\\n              </div>\\n\\n              \\n                <div class=\"column\">\\n                  <h3>Recent meetings attended</h3>\\n                  <ul class=\"unstyled attendance__recently-attended\">\\n                    \\n                      <li><span class=\"committee-name\">Social Development &mdash; </span> <a href=\"https://pmg.org.za/committee-meeting/28865/\"><span class=\"meeting-title\">Induction Workshop: AGSA briefing; High Level Panel recommendations: Department of Social Development response</span></a> &mdash; <span class=\"meeting-date\">11 Sep 2019</span></li>\\n                    \\n                      <li><span class=\"committee-name\">Social Development &mdash; </span> <a href=\"https://pmg.org.za/committee-meeting/28808/\"><span class=\"meeting-title\">Foster Care System backlog: progress report; with Deputy Minister</span></a> &mdash; <span class=\"meeting-date\">4 Sep 2019</span></li>\\n                    \\n                      <li><span class=\"committee-name\">Social Development &mdash; </span> <a href=\"https://pmg.org.za/committee-meeting/28729/\"><span class=\"meeting-title\">Department of Social Development Quarterly performance, with Deputy Minister</span></a> &mdash; <span class=\"meeting-date\">21 Aug 2019</span></li>\\n                    \\n                      <li><span class=\"committee-name\">Social Development &mdash; </span> <a href=\"https://pmg.org.za/committee-meeting/28550/\"><span class=\"meeting-title\">Social Development Budget: Committee Report</span></a> &mdash; <span class=\"meeting-date\">10 Jul 2019</span></li>\\n                    \\n                      <li><span class=\"committee-name\">Social Development &mdash; </span> <a href=\"https://pmg.org.za/committee-meeting/28460/\"><span class=\"meeting-title\">Election of Committee Chairperson</span></a> &mdash; <span class=\"meeting-date\">2 Jul 2019</span></li>\\n                    \\n                  </ul>\\n                  <p><a href=\"/person/alexandra-lilian-amelia-abrahams/attendances/\">All meetings attended</a></p>\\n                </div>\\n              \\n\\n            \\n\\n          </div>\\n          <p class=\"attendance__disclaimer\">DISCLAIMER: This information has been obtained via the Parliamentary Monitoring Group. PMG makes every effort to compile reliable and comprehensive information, but does not claim that the data is 100% accurate and complete.\\n          </p>\\n        </div> <!-- .attendance -->\\n      \\n\\n      \\n        <div id=\"experience\" class=\"tab-content ui-tabs-panel ui-widget-content\">\\n          <div class=\"person-experience\">\\n            <h3>Currently</h3>\\n              <ul class=\"current-positions positions\">\\n                \\n                  \\n                    <li>\\n\\n\\n  Alternate Member\\n    \\n      \\n        at <a href=\"/organisation/portfolio-committee-on-social-development/\">Portfolio Committee on Social Development (National Assembly Committees)</a>\\n      \\n    \\n\\n\\n                       since 27th June 2019\\n                    </li>\\n                  \\n                    <li>\\n\\n\\n  Member\\n    \\n      \\n        at <a href=\"/organisation/national-assembly/\">National Assembly (Parliament)</a>\\n      \\n    \\n\\n\\n                       since 22nd May 2019\\n                    </li>\\n                  \\n                    <li>\\n\\n\\n  Member\\n    \\n      \\n        at <a href=\"/organisation/da/\">Democratic Alliance (DA) (Party)</a>\\n      \\n    \\n\\n\\n                      \\n                    </li>\\n                  \\n                \\n              </ul>\\n\\n            <h3>Formerly</h3>\\n            <ul class=\"former-positions positions\">\\n              \\n                \\n                  <li>\\n\\n\\n  3rd Candidate\\n    \\n      \\n        \\n          \\n            at <a href=\"/election/2019/national/western-cape/da/\">Democratic Alliance Regional Western Cape Election List 2019 (Election List)</a>\\n          \\n        \\n      \\n    \\n\\n\\n                    \\n                      from 23rd April 2019\\n                    \\n                    until 8th May 2019\\n                  </li>\\n                \\n              \\n            </ul>\\n          </div> <!-- .person-experience -->\\n        </div> <!-- #experience -->\\n      \\n\\n      \\n\\n      \\n\\n      \\n        <div id=\"appearances\" class=\"tab-content ui-tabs-panel ui-widget-content\">\\n          <section class=\"person-appearances\">\\n            <h3>Committee appearances</h3>\\n\\n            \\n\\n\\n\\n\\n<ul class=\"unstyled speeches\">\\n    \\n    <li>\\n        <p>\\n            <span class=\"speech-title\">\\n                <a href=\"/committee-minutes/social-development/04-september-2019/backlogs-in-foster-care-system-and-plans-to-addres#s139899398\">\\n                    \\n                        Backlogs in Foster Care System and plans to address it: DSD briefing\\n                    \\n                </a>\\n            </span>\\n            <span class=\"speech-date\">\\n                4 Sep 2019\\n            </span>\\n        </p>\\n        <div class=\"speech-text\">\\n            Ms A Abrahams (DA) asked how many veterans will be employed and how will they be paid and can it confirm if the 566 social workers are currently employed? DSD is forcing NGOs to close down by taking away their adoption agency fees, yet DSD is complaining about the workload ...\\n        </div>\\n    </li>\\n    \\n    <li>\\n        <p>\\n            <span class=\"speech-title\">\\n                <a href=\"/committee-minutes/social-development/21-august-2019/department-of-social-development-quarterly-perfoma#s139934071\">\\n                    \\n                        Department of Social Development Quarterly perfomance, Committee Programme\\n                    \\n                </a>\\n            </span>\\n            <span class=\"speech-date\">\\n                21 Aug 2019\\n            </span>\\n        </p>\\n        <div class=\"speech-text\">\\n            Ms A Abrahams (DA) urged the DSD to send documents to the Committee ahead of future meetings. This helps Members to familiarise themselves with the contents of the documents. Underspending, no matter how little, is unacceptable and those responsible should be held accountable. There should not be any justification for ...\\n        </div>\\n    </li>\\n    \\n    <li>\\n        <p>\\n            <span class=\"speech-title\">\\n                <a href=\"/committee-minutes/social-development/10-july-2019/social-development-budget-committee-report#s140003485\">\\n                    \\n                        Social Development Budget: Committee Report\\n                    \\n                </a>\\n            </span>\\n            <span class=\"speech-date\">\\n                10 Jul 2019\\n            </span>\\n        </p>\\n        <div class=\"speech-text\">\\n            Ms A Abrahams (DA) observed that the incorporation of the Batho Pele principle into the attitude of the DSD\\'s staff in relation to customer care -- as the mentioned by Minister during the meeting -- had not been captured in the report. She suggested that entities within the DSD should integrate ...\\n        </div>\\n    </li>\\n    \\n    <li>\\n        <p>\\n            <span class=\"speech-title\">\\n                <a href=\"/committee-minutes/social-development/03-july-2019/department-of-social-development-national-developm#s139947863\">\\n                    \\n                        Department of Social Development &amp; National Development Agency 2019/20 Annual Performance Plan\\n                    \\n                </a>\\n            </span>\\n            <span class=\"speech-date\">\\n                3 Jul 2019\\n            </span>\\n        </p>\\n        <div class=\"speech-text\">\\n            Ms A Abrahams (DA) asked why SASSA did not attach conditions to receiving grants. Conditions might help in alleviating the problem of children having children, and parents using the money for drugs and alcohol. She also raised a concern that at 15h45, some SASSA employees were slamming doors in the ...\\n        </div>\\n    </li>\\n    \\n    <li>\\n        <p>\\n            <span class=\"speech-title\">\\n                <a href=\"/committee-minutes/social-development/02-july-2019/election-of-chairperson#s139951596\">\\n                    \\n                        Election of Chairperson\\n                    \\n                </a>\\n            </span>\\n            <span class=\"speech-date\">\\n                2 Jul 2019\\n            </span>\\n        </p>\\n        <div class=\"speech-text\">\\n            Ms A Abrahams (DA) requested that the next meeting of the Committee be moved to Thursday, 4 July 2019.\\n        </div>\\n    </li>\\n    \\n</ul>\\n\\n\\n            \\n              <p><a href=\"/person/alexandra-lilian-amelia-abrahams/appearances/committee\">All Committee Appearances</a></p>\\n            \\n          </section>\\n\\n          <section class=\"person-appearances\">\\n            <h3>Questions</h3>\\n\\n            \\n\\n\\n\\n\\n<ul class=\"unstyled speeches\">\\n    \\n        No questions found\\n    \\n</ul>\\n\\n\\n            \\n          </section>\\n\\n          <section class=\"person-appearances\">\\n            <h3>Plenary appearances</h3>\\n\\n            \\n\\n\\n\\n\\n<ul class=\"unstyled speeches\">\\n    \\n        No appearances found\\n    \\n</ul>\\n\\n\\n            \\n          </section>\\n        </div>\\n      \\n\\n    </div> <!-- tabs -->\\n    \\n\\n    \\n\\n    </div>\\n\\n        \\n\\n        <br clear=\"both\">\\n        \\n        <a class=\"feedback-button button feedback_link\" href=\"/feedback/?url=http://www.pa.org.za/person/alexandra-lilian-amelia-abrahams/\">Correct this page</a>\\n        \\n    </div>\\n  \\n\\n</div>\\n\\n\\n        \\n        <footer id=\"site-footer\">\\n            <div class=\"wrapper\">\\n                \\n<div class=\"footer-section\">\\n    <h4>Sign up to our mailing list</h4>\\n<div class=\"email-signup\">\\n\\n    <form method=\"post\" action=\"https://mail4.marketingautomation.services/prospector/thanks/MzawMDE2MrUwBwA/f224712b-064b-4d8f-8aa8-c4f3ebf691e8\" id=\"form_f224712b-064b-4d8f-8aa8-c4f3ebf691e8\" enctype=\"multipart/form-data\" target=\"_blank\">\\n          <label for=\"field_350159876\" class=\"visuallyhidden\">Email</label>\\n          <input type=\"email\" name=\"field_350159876\" value=\"\" id=\"350159876\" maxlength=\"255\" class=\"required email\" placeholder=\"Your email\">\\n          <input type=\"hidden\" name=\"formid__sb\" value=\"f224712b-064b-4d8f-8aa8-c4f3ebf691e8\" />\\n          <input type=\"hidden\" name=\"companyprofileid__sb\" value=\"MzawMDE2MrUwBwA\" />\\n\\n          <button id=\"submit_button\" type=\"submit\" name=\"submit__sb\" class=\"button mailing-list-button\">Sign up </button>\\n    </form>\\n</div>\\n\\n\\n    <h4>Follow us</h4>\\n    <ul class=\"social-links-list\">\\n        <li><a href=\"https://mail4.marketingautomation.services/prospector/form/MzawMDE2MrUwBwA/SzMyMjE3NErSNTAzSdI1SbFI07VITLTQTTZJM05NSjOzNEy1AAA\" class=\"email-social-icon\">Email</a></li>\\n        <li><a href=\"https://www.facebook.com/peoplesassemblysa\" class=\"facebook-social-icon\">Facebook</a></li>\\n        <li><a href=\"https://twitter.com/PeoplesAssem_SA\" class=\"twitter-social-icon\">Twitter</a></li>\\n        <!--<li><a href=\"#\" class=\"youtube-social-icon\">YouTube</a></li>\\n        <li><a href=\"#\" class=\"rss-social-icon\">RSS</a></li> -->\\n    </ul>\\n</div>\\n<div id=\"footer-menu\" class=\"footer-section\">\\n    <h4>Sitemap</h4>\\n    <ul class=\"nav\">\\n        \\n            \\n\\n<li><a href=\"/\" role=\"menuitem\">Home</a></li>\\n\\n<li><a href=\"/search/location/\" role=\"menuitem\">Rep Locator</a></li>\\n\\n<li>\\n  <a class=\"has-dropdown\" role=\"menuitem\" aria-haspopup=\"true\">People</a>\\n  \\n    <ul id=\"parliament-overview\" class=\"js-hover-dropdown\" role=\"menu\">\\n      <li><a href=\"/search/?section=persons\" role=\"menuitem\">Find by name</a></li>\\n      <li><a href=\"/organisation/is/parliament/\" role=\"menuitem\">Parliament</a>\\n        <ul>\\n          <li><a href=\"/organisation/national-assembly/\" role=\"menuitem\">National Assembly</a></li>\\n          <li><a href=\"/organisation/ncop/\" role=\"menuitem\">National Council of Provinces</a></li>\\n        </ul>\\n      </li>\\n      <li><a href=\"/place/is/province/\" role=\"menuitem\">Provinces</a>\\n        <ul id=\"provinces-overview\">\\n          <li><a href=\"/place/eastern-cape/\" role=\"menuitem\">Eastern Cape</a></li>\\n          <li><a href=\"/place/free-state/\" role=\"menuitem\">Free State</a></li>\\n          <li><a href=\"/place/gauteng/\" role=\"menuitem\">Gauteng</a></li>\\n          <li><a href=\"/place/kwazulu-natal/\" role=\"menuitem\">KwaZulu-Natal</a></li>\\n          <li><a href=\"/place/limpopo/\" role=\"menuitem\">Limpopo</a></li>\\n          <li><a href=\"/place/mpumalanga/\" role=\"menuitem\">Mpumalanga</a></li>\\n          <li><a href=\"/place/northern-cape/\" role=\"menuitem\">Northern Cape</a></li>\\n          <li><a href=\"/place/north-west/\" role=\"menuitem\">North West</a></li>\\n          <li><a href=\"/place/western-cape/\" role=\"menuitem\">Western Cape</a></li>\\n        </ul>\\n      </li>\\n    </ul>\\n  \\n</li>\\n\\n<li><a href=\"/blog/\" role=\"menuitem\">Blog</a></li>\\n\\n<li><a href=\"/position/member/parliament/?order=name&amp;a=1\" role=\"menuitem\">MP Profiles</a></li>\\n<li><a href=\"/mp-attendance/\" role=\"menuitem\">MP Attendance</a></li>\\n<li>\\n  <a href=\"/info/public-participation\" class=\"has-dropdown\" role=\"menuitem\" aria-haspopup=\"true\">Public Participation</a>\\n  \\n    <ul id=\"extras-overview\" class=\"js-hover-dropdown\" role=\"menu\">\\n      <li><a href=\"/info/make-yourself-heard\" role=\"menuitem\">Make yourself heard</a></li>\\n      <li>\\n        <a href=\"/info/elections\" role=\"menuitem\">Elections</a>\\n        <ul>\\n          <li><a href=\"/election/2014/\" role=\"menuitem\">Election 2014 Candidates</a></li>\\n          <li><a href=\"/election/2019/\" role=\"menuitem\">Election 2019 Candidates</a></li>\\n        </ul>\\n      </li>\\n      <li><a href=\"/info/petitions\" role=\"menuitem\">Petitions</a></li>\\n      <li><a href=\"/committees/\" role=\"menuitem\">Write to a Committee</a></li>\\n    </ul>\\n  \\n</li>\\n\\n<li>\\n  <a href=\"/info/hot-topics\" class=\"has-dropdown\" role=\"menuitem\" aria-haspopup=\"true\">Hot Topics</a>\\n  \\n    <ul id=\"extras-overview\" class=\"js-hover-dropdown\" role=\"menu\">\\n      <li><a href=\"/question\" role=\"menuitem\">Questions</a></li>\\n      <li><a href=\"/interests/\" role=\"menuitem\">MP Assets</a></li>\\n      <li><a href=\"/blog/category/mp-corner\" role=\"menuitem\">MP Corner</a></li>\\n      <li><a href=\"/info/infographics\" role=\"menuitem\">Infographics</a></li>\\n    </ul>\\n  \\n</li>\\n\\n\\n<li class=\"header-search\" role=\"search\">\\n  <form action=\"/search/\" method=\"get\" id=\"header-search\">\\n      <input class=\"search-autocomplete-name\" type=\"text\" name=\"q\" placeholder=\"Search pa.org.za\" />\\n      <button type=\"submit\">Submit</button>\\n  </form>\\n</li>\\n\\n\\n        \\n\\n        <li><a href=\"/info/links\">Links</a></li>\\n        \\n        <li><a href=\"/help/api\">Get the data</a>\\n        \\n    </ul>\\n</div>\\n<div class=\"footer-section vcard contact-details\">\\n    <h4>Contact us</h4>\\n    <h5 class=\"fn org\">People\\'s Assembly</h5>\\n    <div class=\"col-one\">\\n        <a href=\"mailto:contact@pa.org.za\" class=\"email block\">contact@pa.org.za</a>\\n        <p class=\"block\">Tel: <span class=\"tel\">(021) 465 8885</span></p>\\n        <p class=\"block\">Fax: (021) 465 8887</p>\\n    </div>\\n    <div class=\"adr col-two\">\\n        <div class=\"street-address block\">\\n            <span class=\"block\">2nd floor, Associated Magazines</span>\\n            <span class=\"block\">21 St Johns Street</span>\\n        </div>\\n        <div class=\"block\">\\n            <span class=\"locality\">Cape Town</span>\\n            <span class=\"postal-code\">8001</span>\\n        </div>\\n    </div>\\n</div>\\n\\n<div class=\"footer-full-width\">\\n    <div class=\"layout-major-minor thirds\">\\n        <div class=\"disclaimer major-column\">\\n        <h4>Disclaimer</h4 >\\n    <p>The data for this site has been sourced form a range of organisations and websites and often received in formats that are hard to process. As a result, errors can occur - if you see something that you think is an error, please click on the \"Correct This Page\" button and let us know so that we can investigate. Please <a href=\"/info/source-data\">click here</a> to read more about our source data.</p>\\n        </div>\\n        <ul class=\"utilities minor-column\">\\n            <li><a href=\"/info/policies\">Privacy</a></li>\\n            <li><a href=\"/feedback/?url=http://www.pa.org.za/person/alexandra-lilian-amelia-abrahams/\" class=\"feedback_link\">Give us feedback</a></li>\\n\\n            \\n\\n            \\n        </ul>\\n    </div>\\n</div>\\n\\n            </div>\\n\\n            <div class=\"attribution\">\\n\\n              <p>This site runs on <a href=\"https://www.mysociety.org/projects/parliamentary-monitoring/pombola/\">open source code</a> written by <a href=\"http://www.mysociety.org\">mySociety</a>.</p>\\n\\n              \\n  \\n  \\n  \\n  \\n\\n\\n\\n            </div>\\n        </footer>\\n        \\n\\n        \\n  \\n          <script src=\"//ajax.googleapis.com/ajax/libs/jquery/1.7.1/jquery.min.js\"></script>\\n          <script src=\"//www.google.com/jsapi\"></script>\\n          <script type=\"text/javascript\" src=\"/static/js/base.fdc922693c30.js\" charset=\"utf-8\"></script>\\n          <script type=\"text/javascript\" src=\"/static/js/survey.e2b394461e8c.js\" charset=\"utf-8\"></script>\\n        \\n  <script type=\"text/javascript\" src=\"/static/js/tabs.469035429a02.js\" charset=\"utf-8\"></script>\\n  <script type=\"text/javascript\" src=\"/static/js/person-messages-ajax.c6c77c6cca5a.js\" charset=\"utf-8\"></script>\\n\\n\\n        <div id=\"fb-root\"></div>\\n    </body>\\n</html>\\n'"
      ]
     },
     "execution_count": 135,
     "metadata": {},
     "output_type": "execute_result"
    }
   ],
   "source": [
    "response.content"
   ]
  },
  {
   "cell_type": "markdown",
   "metadata": {},
   "source": [
    "That looks pretty complicated! Maybe one of the reasons for the term [\"tag soup\"](https://en.wikipedia.org/wiki/Tag_soup). Not to worry! We'll be using simple tools to parse the contents."
   ]
  },
  {
   "cell_type": "code",
   "execution_count": 136,
   "metadata": {},
   "outputs": [
    {
     "data": {
      "text/plain": [
       "<!DOCTYPE html>\n",
       "\n",
       "<html class=\"no-js\" lang=\"en\">\n",
       "<head>\n",
       "<meta charset=\"utf-8\"/>\n",
       "<title>\n",
       "            Alexandra Lilian Amelia Abrahams\n",
       "             :: People's Assembly \n",
       "        </title>\n",
       "<meta content=\"text/html; charset=utf-8\" http-equiv=\"Content-Type\"/>\n",
       "<meta content=\"initial-scale=1\" name=\"viewport\"/>\n",
       "<meta content=\"on\" http-equiv=\"cleartype\"/>\n",
       "<meta content=\"IE=edge,chrome=1\" http-equiv=\"X-UA-Compatible\"/>\n",
       "<link href=\"//peoplesassembly.disqus.com\" rel=\"dns-prefetch\"/>\n",
       "<!--[if IE 9]>\n",
       "      <link href=\"http://peoplesassembly.disqus.com/\" rel=\"prefetch\" />\n",
       "    <![endif]-->\n",
       "<meta content=\"14995\" name=\"pombola-person-id\"/>\n",
       "<meta content=\"8607130053089\" name=\"pa:identifier-elections_2019\"/>\n",
       "<meta content=\"1275\" name=\"pa:identifier-za.org.pmg.api/member\"/>\n",
       "<meta content=\"1619725741628189\" property=\"fb:app_id\">\n",
       "<meta content=\"Alexandra Lilian Amelia Abrahams\" property=\"og:title\">\n",
       "<meta content=\"People's Assembly\" property=\"og:site_name\">\n",
       "<meta content=\"profile\" property=\"og:type\">\n",
       "<meta content=\"http://www.pa.org.za/media_root/images/Alexandra_Abrahams.jpg\" property=\"og:image\">\n",
       "<meta content=\"http://www.pa.org.za/person/alexandra-lilian-amelia-abrahams/\" property=\"og:url\">\n",
       "<meta content=\"Alexandra Lilian Amelia\" property=\"profile:first_name\">\n",
       "<meta content=\"Abrahams\" property=\"profile:last_name\">\n",
       "<link href=\"/static/css/south-africa.d4b46b75a67d.css\" rel=\"stylesheet\" type=\"text/css\"/>\n",
       "<script charset=\"utf-8\" type=\"text/javascript\">\n",
       "\n",
       "            window.pombola_settings = {\n",
       "                google_analytics_account : 'UA-47810266-1',\n",
       "                static_url:                '/static/',\n",
       "                map_bounds: {\n",
       "                  north: -22.06,\n",
       "                  east:  32.95,\n",
       "                  south: -35.0,\n",
       "                  west:  16.3\n",
       "                },\n",
       "                crosshairs_image: '/static/images/crosshairs.9809ff8a2f7f.png'\n",
       "            };\n",
       "\n",
       "            (function(i,s,o,g,r,a,m){i['GoogleAnalyticsObject']=r;i[r]=i[r]||function(){\n",
       "            (i[r].q=i[r].q||[]).push(arguments)},i[r].l=1*new Date();a=s.createElement(o),\n",
       "            m=s.getElementsByTagName(o)[0];a.async=1;a.src=g;m.parentNode.insertBefore(a,m)\n",
       "            })(window,document,'script','//www.google-analytics.com/analytics.js','ga');\n",
       "\n",
       "            ga('create', pombola_settings.google_analytics_account);\n",
       "            ga('send', 'pageview');\n",
       "\n",
       "        </script>\n",
       "<script charset=\"utf-8\" src=\"/static/js/modernizr.9cb2884d418d.js\" type=\"text/javascript\"></script>\n",
       "<!--[if (lt IE 9) & (!IEMobile)]>\n",
       "            <script type=\"text/javascript\" src=\"/static/js/respond.1d1b2e4f5263.js\" charset=\"utf-8\"></script>\n",
       "        <![endif]-->\n",
       "<link href=\"/static/images/favicon.c0fda3ea8617.png\" rel=\"icon\" type=\"image/png\"/>\n",
       "</meta></meta></meta></meta></meta></meta></meta></meta></head>\n",
       "<body>\n",
       "<header id=\"site-header\">\n",
       "<div class=\"wrapper\">\n",
       "<a aria-label=\"Home\" class=\"logo site-logo-svg\" href=\"/\"><svg class=\"site-logo-svg__svg\" enable-background=\"new 0 0 184 90\" height=\"90px\" id=\"Layer_1\" version=\"1.1\" viewbox=\"0 0 184 90\" width=\"184px\" x=\"0\" xml:space=\"preserve\" xmlns=\"http://www.w3.org/2000/svg\" xmlns:xlink=\"http://www.w3.org/1999/xlink\" y=\"0\"><path d=\"M44.2 2.5c-4.6 0-9.2 0.8-13.7 2.3C19.8 8.4 11.2 16 6.2 26.2 -4 47.1 4.6 72.5 25.6 82.7c5.8 2.9 12.1 4.3 18.4 4.3l0-8c-5.1 0-10.2-1.2-14.9-3.5 -17-8.3-24-28.9-15.7-45.9 4-8.2 11-14.4 19.7-17.3 3.6-1.2 7.4-1.9 11.1-1.9 5.2 0 10.3 1.2 15.1 3.5 2.4 1.2 4.6 2.6 6.6 4.2l5.1-6.2c-2.5-2-5.2-3.8-8.2-5.2C56.9 3.9 50.6 2.5 44.2 2.5\" fill=\"#007C59\"></path><path d=\"M44.2 17.4c-10.1 0-19.8 5.6-24.6 15.3 -6.6 13.5-1 29.9 12.5 36.6 3.8 1.8 7.8 2.8 11.9 2.8l0-8c-2.9 0-5.7-0.7-8.3-2 -9.6-4.7-13.5-16.3-8.8-25.9 3.4-6.8 10.2-10.8 17.4-10.8 2.9 0 5.8 0.6 8.5 2 1.4 0.7 2.6 1.5 3.8 2.4l5.1-6.2c-1.6-1.3-3.4-2.5-5.3-3.4C52.4 18.3 48.3 17.4 44.2 17.4\" fill=\"#E23D28\"></path><path d=\"M44.2 33.5c-4.2 0-8.2 2.3-10.1 6.3 -1.3 2.7-1.5 5.8-0.5 8.6 1 2.8 3 5.1 5.7 6.5 1.5 0.7 3.1 1.1 4.8 1.2l0-8c-0.4 0-0.9-0.1-1.3-0.3 -0.8-0.4-1.4-1.1-1.7-1.9 -0.3-0.8-0.2-1.7 0.2-2.5 0.4-0.8 1.1-1.4 1.9-1.7 0.3-0.1 0.7-0.2 1.1-0.2 0.5 0 1 0.1 1.4 0.3 0.3 0.1 0.5 0.3 0.7 0.5l5.1-6.2c-0.7-0.6-1.4-1-2.2-1.4C47.5 33.9 45.9 33.5 44.2 33.5\" fill=\"#FCB514\"></path><defs><polyline points=\"-1355.2 -3029.4 1405.1 -3029.4 1405.1 3239.4 -1355.2 3239.4 -1355.2 -3029.4 \"></polyline></defs><clippath><use overflow=\"visible\" xlink:href=\"#SVGID_1_\"></use></clippath><path d=\"M81.5 41.8v7.1h-4.9V27.7h7.5c1.5 0 2.8 0.2 3.8 0.5 1.1 0.4 2 0.8 2.6 1.5 0.7 0.6 1.2 1.4 1.5 2.2s0.5 1.8 0.5 2.7c0 1.1-0.2 2-0.5 2.9 -0.3 0.9-0.9 1.6-1.6 2.3 -0.7 0.6-1.6 1.1-2.7 1.5 -1.1 0.4-2.3 0.5-3.8 0.5H81.5zM81.5 38.1h2.6c1.3 0 2.2-0.3 2.8-0.9 0.6-0.6 0.8-1.5 0.8-2.6 0-0.5-0.1-0.9-0.2-1.3 -0.1-0.4-0.4-0.7-0.7-1 -0.3-0.3-0.7-0.5-1.1-0.7 -0.5-0.2-1-0.2-1.6-0.2h-2.6V38.1z\"></path><path d=\"M100.8 33.5c1 0 1.9 0.2 2.7 0.5 0.8 0.3 1.5 0.8 2.1 1.4s1.1 1.3 1.4 2.2c0.3 0.9 0.5 1.8 0.5 2.9 0 0.3 0 0.6 0 0.8 0 0.2-0.1 0.4-0.2 0.5s-0.2 0.2-0.3 0.3 -0.3 0.1-0.5 0.1h-8.7c0.1 1.3 0.5 2.2 1.1 2.7 0.6 0.6 1.4 0.9 2.4 0.9 0.5 0 1-0.1 1.4-0.2 0.4-0.1 0.7-0.3 1-0.4 0.3-0.2 0.6-0.3 0.8-0.4 0.2-0.1 0.5-0.2 0.8-0.2 0.4 0 0.6 0.1 0.8 0.4l1.3 1.6c-0.5 0.5-1 1-1.5 1.3 -0.5 0.3-1.1 0.6-1.7 0.8 -0.6 0.2-1.1 0.3-1.7 0.4 -0.6 0.1-1.1 0.1-1.6 0.1 -1.1 0-2-0.2-3-0.5 -0.9-0.3-1.7-0.9-2.4-1.5s-1.2-1.5-1.6-2.5c-0.4-1-0.6-2.2-0.6-3.5 0-1 0.2-2 0.5-2.9 0.3-0.9 0.8-1.7 1.5-2.4 0.6-0.7 1.4-1.2 2.3-1.6S99.7 33.5 100.8 33.5zM100.9 36.7c-0.9 0-1.5 0.2-2 0.7 -0.5 0.5-0.8 1.2-1 2.1h5.6c0-0.4 0-0.7-0.1-1 -0.1-0.3-0.2-0.6-0.5-0.9s-0.5-0.5-0.8-0.6C101.8 36.7 101.4 36.7 100.9 36.7z\"></path><path d=\"M116.7 33.5c1.1 0 2.2 0.2 3.1 0.5 0.9 0.4 1.7 0.9 2.4 1.5 0.7 0.7 1.2 1.5 1.6 2.4 0.4 1 0.6 2 0.6 3.2 0 1.2-0.2 2.3-0.6 3.2 -0.4 1-0.9 1.8-1.6 2.5 -0.7 0.7-1.5 1.2-2.4 1.6 -0.9 0.4-2 0.5-3.1 0.5 -1.2 0-2.2-0.2-3.1-0.5s-1.8-0.9-2.4-1.6c-0.7-0.7-1.2-1.5-1.6-2.5 -0.4-1-0.6-2-0.6-3.2 0-1.2 0.2-2.3 0.6-3.2 0.4-1 0.9-1.8 1.6-2.4 0.7-0.7 1.5-1.2 2.4-1.5C114.5 33.7 115.6 33.5 116.7 33.5zM116.7 45.7c1 0 1.8-0.4 2.3-1.1 0.5-0.7 0.7-1.8 0.7-3.3s-0.2-2.6-0.7-3.3c-0.5-0.7-1.3-1.1-2.3-1.1 -1.1 0-1.8 0.4-2.3 1.1 -0.5 0.7-0.7 1.8-0.7 3.3s0.2 2.6 0.7 3.3C114.9 45.4 115.7 45.7 116.7 45.7z\"></path><path d=\"M126.6 53.6V33.8h2.8c0.3 0 0.5 0.1 0.7 0.2s0.3 0.3 0.4 0.6l0.3 1.1c0.3-0.3 0.6-0.6 0.9-0.9s0.7-0.5 1.1-0.7 0.8-0.3 1.2-0.4c0.4-0.1 0.9-0.2 1.4-0.2 0.8 0 1.5 0.2 2.2 0.5s1.2 0.9 1.7 1.5c0.5 0.7 0.9 1.5 1.1 2.4 0.3 1 0.4 2 0.4 3.2 0 1.1-0.2 2.2-0.5 3.1s-0.8 1.8-1.3 2.5c-0.6 0.7-1.2 1.3-2 1.7s-1.7 0.6-2.6 0.6c-0.8 0-1.4-0.1-2-0.3 -0.5-0.2-1-0.5-1.5-0.9v5.8H126.6zM134 36.9c-0.3 0-0.6 0-0.9 0.1 -0.3 0.1-0.5 0.2-0.7 0.3s-0.4 0.3-0.6 0.4c-0.2 0.2-0.4 0.4-0.6 0.6v6.4c0.3 0.4 0.7 0.6 1.1 0.8s0.8 0.2 1.3 0.2c0.4 0 0.8-0.1 1.1-0.2 0.3-0.2 0.7-0.4 0.9-0.8 0.3-0.4 0.5-0.8 0.6-1.4 0.1-0.6 0.2-1.3 0.2-2.1 0-0.8-0.1-1.5-0.2-2 -0.1-0.5-0.3-1-0.5-1.3s-0.5-0.6-0.7-0.7C134.7 37 134.3 36.9 134 36.9z\"></path><path d=\"M147.9 27.1v21.8h-4.5V27.1H147.9z\"></path><path d=\"M157.6 33.5c1 0 1.9 0.2 2.7 0.5 0.8 0.3 1.5 0.8 2.1 1.4s1.1 1.3 1.4 2.2c0.3 0.9 0.5 1.8 0.5 2.9 0 0.3 0 0.6 0 0.8 0 0.2-0.1 0.4-0.2 0.5S164 42 163.9 42s-0.3 0.1-0.5 0.1h-8.7c0.1 1.3 0.5 2.2 1.1 2.7 0.6 0.6 1.4 0.9 2.4 0.9 0.5 0 1-0.1 1.4-0.2 0.4-0.1 0.7-0.3 1-0.4 0.3-0.2 0.6-0.3 0.8-0.4 0.2-0.1 0.5-0.2 0.8-0.2 0.4 0 0.6 0.1 0.8 0.4l1.3 1.6c-0.5 0.5-1 1-1.5 1.3 -0.5 0.3-1.1 0.6-1.7 0.8 -0.6 0.2-1.1 0.3-1.7 0.4 -0.6 0.1-1.1 0.1-1.6 0.1 -1.1 0-2-0.2-3-0.5 -0.9-0.3-1.7-0.9-2.4-1.5s-1.2-1.5-1.6-2.5c-0.4-1-0.6-2.2-0.6-3.5 0-1 0.2-2 0.5-2.9 0.3-0.9 0.8-1.7 1.5-2.4 0.6-0.7 1.4-1.2 2.3-1.6S156.5 33.5 157.6 33.5zM157.7 36.7c-0.9 0-1.5 0.2-2 0.7 -0.5 0.5-0.8 1.2-1 2.1h5.6c0-0.4 0-0.7-0.1-1 -0.1-0.3-0.2-0.6-0.5-0.9s-0.5-0.5-0.8-0.6C158.6 36.7 158.2 36.7 157.7 36.7z\"></path><path d=\"M169 26.3c0.4 0.6 0.7 1.2 0.9 1.8 0.2 0.6 0.3 1.2 0.3 1.8 0 1-0.3 2-0.8 3 -0.5 0.9-1.3 1.8-2.4 2.6l-1.4-0.8c-0.1-0.1-0.2-0.2-0.3-0.3 -0.1-0.1-0.1-0.2-0.1-0.3 0-0.1 0-0.2 0.1-0.3 0-0.1 0.1-0.2 0.2-0.2 0.1-0.1 0.2-0.3 0.4-0.4 0.1-0.2 0.3-0.4 0.4-0.6 0.1-0.2 0.2-0.5 0.3-0.8 0.1-0.3 0.1-0.6 0.1-0.9 0-0.3-0.1-0.7-0.2-1.1 -0.1-0.4-0.3-0.8-0.6-1.3 -0.1-0.2-0.1-0.3-0.1-0.5 0-0.2 0.1-0.3 0.2-0.5 0.1-0.1 0.3-0.2 0.5-0.3L169 26.3z\"></path><path d=\"M180.4 37.1c-0.1 0.2-0.2 0.3-0.4 0.4 -0.1 0.1-0.3 0.1-0.5 0.1 -0.2 0-0.4 0-0.6-0.1 -0.2-0.1-0.4-0.2-0.7-0.3 -0.2-0.1-0.5-0.2-0.8-0.3s-0.7-0.1-1.1-0.1c-0.6 0-1 0.1-1.3 0.3 -0.3 0.2-0.5 0.5-0.5 0.9 0 0.3 0.1 0.5 0.3 0.7s0.5 0.3 0.8 0.5c0.3 0.1 0.7 0.3 1.1 0.4 0.4 0.1 0.8 0.3 1.3 0.4 0.4 0.2 0.9 0.3 1.3 0.5 0.4 0.2 0.8 0.5 1.1 0.8 0.3 0.3 0.6 0.7 0.8 1.1 0.2 0.4 0.3 1 0.3 1.6 0 0.7-0.1 1.4-0.4 2.1 -0.3 0.6-0.7 1.2-1.2 1.6 -0.5 0.5-1.2 0.8-2 1.1s-1.7 0.4-2.7 0.4c-0.5 0-1 0-1.5-0.1s-1-0.2-1.5-0.4c-0.5-0.2-0.9-0.4-1.3-0.6 -0.4-0.2-0.8-0.5-1-0.7l1-1.7c0.1-0.2 0.3-0.3 0.5-0.5 0.2-0.1 0.4-0.2 0.7-0.2 0.3 0 0.5 0.1 0.7 0.2 0.2 0.1 0.4 0.2 0.7 0.4 0.2 0.1 0.5 0.3 0.9 0.4 0.3 0.1 0.7 0.2 1.2 0.2 0.3 0 0.6 0 0.9-0.1 0.2-0.1 0.4-0.2 0.6-0.3 0.1-0.1 0.3-0.3 0.3-0.4 0.1-0.2 0.1-0.3 0.1-0.5 0-0.3-0.1-0.5-0.3-0.7s-0.5-0.4-0.8-0.5 -0.7-0.3-1.1-0.4c-0.4-0.1-0.9-0.3-1.3-0.4 -0.4-0.2-0.9-0.3-1.3-0.6 -0.4-0.2-0.8-0.5-1.1-0.8 -0.3-0.3-0.6-0.7-0.8-1.2s-0.3-1.1-0.3-1.8c0-0.6 0.1-1.2 0.4-1.8 0.2-0.6 0.6-1.1 1.1-1.5 0.5-0.4 1.1-0.8 1.9-1 0.7-0.3 1.6-0.4 2.6-0.4 0.5 0 1.1 0 1.6 0.1 0.5 0.1 1 0.2 1.4 0.4 0.4 0.2 0.9 0.4 1.2 0.6 0.4 0.2 0.7 0.5 1 0.8L180.4 37.1z\"></path><path d=\"M72.4 77h-2.3c-0.3 0-0.5-0.1-0.7-0.2 -0.2-0.1-0.3-0.3-0.4-0.5L67 71H57L55 76.3c-0.1 0.2-0.2 0.4-0.4 0.5S54.2 77 53.9 77h-2.3l8.9-22.2h3.1L72.4 77zM57.9 68.8h8.3l-3.5-9c-0.2-0.6-0.4-1.3-0.7-2.1 -0.1 0.4-0.2 0.8-0.3 1.2 -0.1 0.4-0.2 0.7-0.3 0.9L57.9 68.8z\"></path><path d=\"M84.1 63.9c-0.1 0.2-0.3 0.3-0.6 0.3 -0.2 0-0.3-0.1-0.5-0.2 -0.2-0.1-0.4-0.2-0.7-0.4 -0.3-0.1-0.6-0.3-1-0.4 -0.4-0.1-0.9-0.2-1.4-0.2 -0.5 0-0.9 0.1-1.3 0.2 -0.4 0.1-0.7 0.3-1 0.5 -0.3 0.2-0.5 0.4-0.6 0.7 -0.1 0.3-0.2 0.6-0.2 0.9 0 0.4 0.1 0.7 0.3 1 0.2 0.3 0.5 0.5 0.9 0.7s0.8 0.4 1.3 0.5c0.5 0.1 1 0.3 1.5 0.5s1 0.4 1.5 0.6c0.5 0.2 0.9 0.5 1.3 0.8 0.4 0.3 0.7 0.7 0.9 1.1 0.2 0.5 0.3 1 0.3 1.6 0 0.7-0.1 1.4-0.4 2 -0.3 0.6-0.6 1.1-1.1 1.6 -0.5 0.5-1.1 0.8-1.9 1.1 -0.7 0.3-1.6 0.4-2.5 0.4 -1.1 0-2.1-0.2-3-0.5s-1.6-0.8-2.3-1.4l0.7-1.1c0.1-0.1 0.2-0.2 0.3-0.3s0.3-0.1 0.4-0.1 0.4 0.1 0.6 0.2c0.2 0.1 0.5 0.3 0.8 0.5s0.7 0.3 1.1 0.5c0.4 0.1 0.9 0.2 1.6 0.2 0.5 0 1-0.1 1.4-0.2 0.4-0.1 0.7-0.3 1-0.6 0.3-0.2 0.5-0.5 0.6-0.8 0.1-0.3 0.2-0.6 0.2-1 0-0.4-0.1-0.8-0.3-1.1 -0.2-0.3-0.5-0.5-0.9-0.7 -0.4-0.2-0.8-0.4-1.3-0.5 -0.5-0.1-1-0.3-1.5-0.5s-1-0.4-1.5-0.6c-0.5-0.2-0.9-0.5-1.3-0.8s-0.7-0.7-0.9-1.2 -0.3-1-0.3-1.7c0-0.6 0.1-1.2 0.4-1.7 0.2-0.6 0.6-1 1.1-1.5 0.5-0.4 1.1-0.8 1.8-1 0.7-0.2 1.5-0.4 2.4-0.4 1 0 2 0.2 2.8 0.5 0.8 0.3 1.5 0.8 2.1 1.3L84.1 63.9z\"></path><path d=\"M97.1 63.9c-0.1 0.2-0.3 0.3-0.6 0.3 -0.2 0-0.3-0.1-0.5-0.2 -0.2-0.1-0.4-0.2-0.7-0.4 -0.3-0.1-0.6-0.3-1-0.4 -0.4-0.1-0.9-0.2-1.4-0.2 -0.5 0-0.9 0.1-1.3 0.2 -0.4 0.1-0.7 0.3-1 0.5 -0.3 0.2-0.5 0.4-0.6 0.7 -0.1 0.3-0.2 0.6-0.2 0.9 0 0.4 0.1 0.7 0.3 1 0.2 0.3 0.5 0.5 0.9 0.7s0.8 0.4 1.3 0.5c0.5 0.1 1 0.3 1.5 0.5s1 0.4 1.5 0.6c0.5 0.2 0.9 0.5 1.3 0.8 0.4 0.3 0.7 0.7 0.9 1.1 0.2 0.5 0.3 1 0.3 1.6 0 0.7-0.1 1.4-0.4 2 -0.3 0.6-0.6 1.1-1.1 1.6 -0.5 0.5-1.1 0.8-1.9 1.1 -0.7 0.3-1.6 0.4-2.5 0.4 -1.1 0-2.1-0.2-3-0.5s-1.6-0.8-2.3-1.4l0.7-1.1c0.1-0.1 0.2-0.2 0.3-0.3s0.3-0.1 0.4-0.1 0.4 0.1 0.6 0.2c0.2 0.1 0.5 0.3 0.8 0.5s0.7 0.3 1.1 0.5c0.4 0.1 0.9 0.2 1.6 0.2 0.5 0 1-0.1 1.4-0.2 0.4-0.1 0.7-0.3 1-0.6 0.3-0.2 0.5-0.5 0.6-0.8 0.1-0.3 0.2-0.6 0.2-1 0-0.4-0.1-0.8-0.3-1.1 -0.2-0.3-0.5-0.5-0.9-0.7 -0.4-0.2-0.8-0.4-1.3-0.5 -0.5-0.1-1-0.3-1.5-0.5s-1-0.4-1.5-0.6c-0.5-0.2-0.9-0.5-1.3-0.8s-0.7-0.7-0.9-1.2 -0.3-1-0.3-1.7c0-0.6 0.1-1.2 0.4-1.7 0.2-0.6 0.6-1 1.1-1.5 0.5-0.4 1.1-0.8 1.8-1 0.7-0.2 1.5-0.4 2.4-0.4 1 0 2 0.2 2.8 0.5 0.8 0.3 1.5 0.8 2.1 1.3L97.1 63.9z\"></path><path d=\"M107.3 61.1c0.9 0 1.8 0.2 2.6 0.5 0.8 0.3 1.5 0.8 2.1 1.4 0.6 0.6 1 1.3 1.4 2.2 0.3 0.9 0.5 1.9 0.5 3 0 0.4 0 0.7-0.1 0.9 -0.1 0.1-0.3 0.2-0.5 0.2h-10.5c0 1 0.2 1.9 0.4 2.6 0.2 0.7 0.6 1.3 1 1.8s1 0.9 1.6 1.1c0.6 0.2 1.3 0.4 2 0.4 0.7 0 1.3-0.1 1.8-0.2 0.5-0.2 0.9-0.3 1.3-0.5 0.4-0.2 0.7-0.4 0.9-0.5 0.2-0.2 0.5-0.2 0.6-0.2 0.2 0 0.4 0.1 0.5 0.3l0.8 1c-0.3 0.4-0.7 0.8-1.2 1.1s-1 0.6-1.5 0.8c-0.5 0.2-1.1 0.3-1.7 0.4 -0.6 0.1-1.2 0.1-1.7 0.1 -1.1 0-2.1-0.2-3-0.5 -0.9-0.4-1.7-0.9-2.4-1.6 -0.7-0.7-1.2-1.6-1.6-2.6s-0.6-2.2-0.6-3.6c0-1.1 0.2-2.1 0.5-3.1s0.8-1.8 1.4-2.5c0.6-0.7 1.4-1.2 2.3-1.6C105.2 61.3 106.2 61.1 107.3 61.1zM107.4 63.1c-1.3 0-2.4 0.4-3.1 1.2 -0.8 0.8-1.2 1.8-1.4 3.2h8.5c0-0.6-0.1-1.2-0.3-1.8s-0.4-1-0.8-1.4 -0.8-0.7-1.2-0.9C108.6 63.2 108 63.1 107.4 63.1z\"></path><path d=\"M116.9 77V61.3h1.6c0.4 0 0.6 0.2 0.7 0.6l0.2 1.6c0.6-0.7 1.2-1.3 1.9-1.8 0.7-0.5 1.6-0.7 2.5-0.7 1.1 0 1.9 0.3 2.6 0.9 0.7 0.6 1.1 1.4 1.4 2.4 0.2-0.6 0.5-1.1 0.9-1.5 0.4-0.4 0.8-0.8 1.2-1 0.4-0.3 0.9-0.5 1.4-0.6 0.5-0.1 1-0.2 1.5-0.2 0.8 0 1.6 0.1 2.2 0.4s1.2 0.6 1.6 1.2 0.8 1.1 1 1.9c0.2 0.7 0.4 1.6 0.4 2.5v10h-2.8V67c0-1.2-0.3-2.2-0.8-2.8s-1.3-1-2.3-1c-0.5 0-0.9 0.1-1.3 0.2 -0.4 0.2-0.8 0.4-1.1 0.7 -0.3 0.3-0.6 0.7-0.7 1.2 -0.2 0.5-0.3 1-0.3 1.6v10h-2.8V67c0-1.3-0.3-2.2-0.8-2.8 -0.5-0.6-1.2-0.9-2.2-0.9 -0.7 0-1.3 0.2-1.9 0.6 -0.6 0.4-1.1 0.9-1.6 1.5V77H116.9z\"></path><path d=\"M142 77V54.2h2.8v9.4c0.7-0.8 1.4-1.4 2.2-1.8 0.8-0.5 1.8-0.7 2.9-0.7 0.9 0 1.7 0.2 2.5 0.5s1.4 0.9 1.9 1.5c0.5 0.7 0.9 1.5 1.2 2.5 0.3 1 0.4 2.1 0.4 3.5 0 1.2-0.2 2.2-0.5 3.2 -0.3 1-0.8 1.9-1.3 2.6 -0.6 0.7-1.3 1.3-2.1 1.7 -0.8 0.4-1.8 0.6-2.8 0.6 -1 0-1.9-0.2-2.6-0.6 -0.7-0.4-1.3-0.9-1.9-1.6l-0.1 1.4c-0.1 0.4-0.3 0.6-0.7 0.6H142zM149 63.3c-0.9 0-1.7 0.2-2.4 0.6 -0.7 0.4-1.3 1-1.9 1.8v7.6c0.5 0.7 1 1.2 1.7 1.4 0.6 0.3 1.3 0.4 2 0.4 1.5 0 2.6-0.5 3.4-1.6 0.8-1 1.2-2.5 1.2-4.5 0-1-0.1-1.9-0.3-2.6 -0.2-0.7-0.4-1.3-0.8-1.8 -0.3-0.5-0.8-0.8-1.3-1C150.2 63.4 149.6 63.3 149 63.3z\"></path><path d=\"M161.9 54.2V77h-2.8V54.2H161.9z\"></path><path d=\"M170.9 81.7c-0.1 0.2-0.2 0.4-0.3 0.5s-0.4 0.2-0.6 0.2h-2l2.9-6.2 -6.5-14.8h2.4c0.2 0 0.4 0.1 0.6 0.2s0.2 0.3 0.3 0.4l4.2 9.9c0.1 0.2 0.2 0.5 0.2 0.7s0.1 0.5 0.2 0.7c0.1-0.2 0.1-0.5 0.2-0.7 0.1-0.2 0.2-0.5 0.2-0.7l4.1-9.9c0.1-0.2 0.2-0.3 0.3-0.4s0.3-0.2 0.5-0.2h2.2L170.9 81.7z\"></path></svg>\n",
       "</a>\n",
       "<a aria-label=\"Home\" class=\"logo no-svg-fallback-logo\" href=\"/\">People's Assembly</a>\n",
       "<p class=\"logo-tagline\">Connecting people with their representatives</p>\n",
       "<div class=\"about-this-site-menu\">\n",
       "<ul aria-label=\"Help menu\" role=\"menubar\">\n",
       "<li>\n",
       "<a aria-haspopup=\"true\" href=\"/info/about\" role=\"menuitem\">About us</a>\n",
       "<ul class=\"js-hover-dropdown\" role=\"menu\">\n",
       "<li><a href=\"/info/about\" role=\"menuitem\">Who we are</a></li>\n",
       "<li><a href=\"/info/source-data\" role=\"menuitem\">Source Data</a></li>\n",
       "<li><a href=\"/info/for-representatives\" role=\"menuitem\">For Representatives</a></li>\n",
       "</ul>\n",
       "</li>\n",
       "<li><a href=\"/info/contact-us\" role=\"menuitem\">Contact us</a></li>\n",
       "</ul>\n",
       "</div>\n",
       "<ul aria-label=\"Social links\" class=\"social-links-list\">\n",
       "<li><a class=\"email-social-icon\" href=\"https://mail4.marketingautomation.services/prospector/form/MzawMDE2MrUwBwA/SzMyMjE3NErSNTAzSdI1SbFI07VITLTQTTZJM05NSjOzNEy1AAA\">Email</a></li>\n",
       "<li><a class=\"facebook-social-icon\" href=\"https://www.facebook.com/peoplesassemblysa\">Facebook</a></li>\n",
       "<li><a class=\"twitter-social-icon\" href=\"https://twitter.com/PeoplesAssem_SA\">Twitter</a></li>\n",
       "<!--<li><a href=\"#\" class=\"youtube-social-icon\">YouTube</a></li>\n",
       "    <li><a href=\"#\" class=\"rss-social-icon\">RSS</a></li> -->\n",
       "</ul>\n",
       "<menu id=\"mobile-top-tools\">\n",
       "<ul>\n",
       "<li><a class=\"m-icon-nav\" href=\"#footer-menu\">menu</a></li>\n",
       "<li><a class=\"icon-search\" href=\"/search/\"><img alt=\"search\" src=\"/static/images/search-icon.95c861f1f8ad.png\"/></a></li>\n",
       "</ul>\n",
       "</menu>\n",
       "</div>\n",
       "</header>\n",
       "<div id=\"main-menu\">\n",
       "<nav class=\"wrapper\">\n",
       "<ul aria-label=\"Main menu\" role=\"menubar\">\n",
       "<li><a href=\"/\" role=\"menuitem\">Home</a></li>\n",
       "<li><a href=\"/search/location/\" role=\"menuitem\">Rep Locator</a></li>\n",
       "<li>\n",
       "<a aria-haspopup=\"true\" class=\"has-dropdown\" role=\"menuitem\">People</a>\n",
       "<ul class=\"js-hover-dropdown\" id=\"parliament-overview\" role=\"menu\">\n",
       "<li><a href=\"/search/?section=persons\" role=\"menuitem\">Find by name</a></li>\n",
       "<li><a href=\"/organisation/is/parliament/\" role=\"menuitem\">Parliament</a>\n",
       "<ul>\n",
       "<li><a href=\"/organisation/national-assembly/\" role=\"menuitem\">National Assembly</a></li>\n",
       "<li><a href=\"/organisation/ncop/\" role=\"menuitem\">National Council of Provinces</a></li>\n",
       "</ul>\n",
       "</li>\n",
       "<li><a href=\"/place/is/province/\" role=\"menuitem\">Provinces</a>\n",
       "<ul id=\"provinces-overview\">\n",
       "<li><a href=\"/place/eastern-cape/\" role=\"menuitem\">Eastern Cape</a></li>\n",
       "<li><a href=\"/place/free-state/\" role=\"menuitem\">Free State</a></li>\n",
       "<li><a href=\"/place/gauteng/\" role=\"menuitem\">Gauteng</a></li>\n",
       "<li><a href=\"/place/kwazulu-natal/\" role=\"menuitem\">KwaZulu-Natal</a></li>\n",
       "<li><a href=\"/place/limpopo/\" role=\"menuitem\">Limpopo</a></li>\n",
       "<li><a href=\"/place/mpumalanga/\" role=\"menuitem\">Mpumalanga</a></li>\n",
       "<li><a href=\"/place/northern-cape/\" role=\"menuitem\">Northern Cape</a></li>\n",
       "<li><a href=\"/place/north-west/\" role=\"menuitem\">North West</a></li>\n",
       "<li><a href=\"/place/western-cape/\" role=\"menuitem\">Western Cape</a></li>\n",
       "</ul>\n",
       "</li>\n",
       "</ul>\n",
       "</li>\n",
       "<li><a href=\"/blog/\" role=\"menuitem\">Blog</a></li>\n",
       "<li><a href=\"/position/member/parliament/?order=name&amp;a=1\" role=\"menuitem\">MP Profiles</a></li>\n",
       "<li><a href=\"/mp-attendance/\" role=\"menuitem\">MP Attendance</a></li>\n",
       "<li>\n",
       "<a aria-haspopup=\"true\" class=\"has-dropdown\" href=\"/info/public-participation\" role=\"menuitem\">Public Participation</a>\n",
       "<ul class=\"js-hover-dropdown\" id=\"extras-overview\" role=\"menu\">\n",
       "<li><a href=\"/info/make-yourself-heard\" role=\"menuitem\">Make yourself heard</a></li>\n",
       "<li>\n",
       "<a href=\"/info/elections\" role=\"menuitem\">Elections</a>\n",
       "<ul>\n",
       "<li><a href=\"/election/2014/\" role=\"menuitem\">Election 2014 Candidates</a></li>\n",
       "<li><a href=\"/election/2019/\" role=\"menuitem\">Election 2019 Candidates</a></li>\n",
       "</ul>\n",
       "</li>\n",
       "<li><a href=\"/info/petitions\" role=\"menuitem\">Petitions</a></li>\n",
       "<li><a href=\"/committees/\" role=\"menuitem\">Write to a Committee</a></li>\n",
       "</ul>\n",
       "</li>\n",
       "<li>\n",
       "<a aria-haspopup=\"true\" class=\"has-dropdown\" href=\"/info/hot-topics\" role=\"menuitem\">Hot Topics</a>\n",
       "<ul class=\"js-hover-dropdown\" id=\"extras-overview\" role=\"menu\">\n",
       "<li><a href=\"/question\" role=\"menuitem\">Questions</a></li>\n",
       "<li><a href=\"/interests/\" role=\"menuitem\">MP Assets</a></li>\n",
       "<li><a href=\"/blog/category/mp-corner\" role=\"menuitem\">MP Corner</a></li>\n",
       "<li><a href=\"/info/infographics\" role=\"menuitem\">Infographics</a></li>\n",
       "</ul>\n",
       "</li>\n",
       "<li class=\"header-search\" role=\"search\">\n",
       "<form action=\"/search/\" id=\"header-search\" method=\"get\">\n",
       "<input class=\"search-autocomplete-name\" name=\"q\" placeholder=\"Search pa.org.za\" type=\"text\"/>\n",
       "<button type=\"submit\">Submit</button>\n",
       "</form>\n",
       "</li>\n",
       "</ul>\n",
       "</nav>\n",
       "</div>\n",
       "<div id=\"breadcrumb\">\n",
       "<nav class=\"wrapper\">\n",
       "<ul>\n",
       "<li><a href=\"/\" title=\"Breadcrumb link to the homepage.\">Home</a> <span class=\"sep\">»</span> </li><li><a href=\"/person/all/\" title=\"Breadcrumb link to Politicians\">Politicians</a> <span class=\"sep\">»</span> </li><li>Alexandra Lilian Amelia Abrahams</li>\n",
       "</ul>\n",
       "</nav>\n",
       "</div>\n",
       "<div id=\"page\">\n",
       "<div class=\"page-wrapper wrapper\">\n",
       "<script type=\"text/javascript\">\n",
       "\n",
       "  var disqus_shortname = 'peoplesassembly';\n",
       "\n",
       "  var disqus_config = function () {\n",
       "    var disqus_identifier = 'person\\u002D14995';\n",
       "    this.page.url = 'http://www.pa.org.za/person/alexandra\\u002Dlilian\\u002Damelia\\u002Dabrahams/';\n",
       "    \n",
       "    this.page.title = 'Alexandra Lilian Amelia Abrahams (' + disqus_identifier + ')';\n",
       "    \n",
       "      this.page.identifier = disqus_identifier;\n",
       "    \n",
       "  };\n",
       "\n",
       "  var disqusScriptTagsAdded = {};\n",
       "\n",
       "  function addDisqusScriptTag (name) {\n",
       "    if (!disqusScriptTagsAdded[name]) {\n",
       "      var dsq = document.createElement('script');\n",
       "      dsq.type  = 'text/javascript';\n",
       "      dsq.async = true;\n",
       "      dsq.src   = 'https://' + disqus_shortname + '.disqus.com/' + name + '.js';\n",
       "      (document.getElementsByTagName('head')[0] || document.getElementsByTagName('body')[0]).appendChild(dsq);\n",
       "      disqusScriptTagsAdded[name] = true;\n",
       "    }\n",
       "  }\n",
       "\n",
       "  // Load the correct tag using either of these lines in your code. Don't worry\n",
       "  // about repeating them, subsequent calls are ignored. Annoyingly the 'embed'\n",
       "  // one produces an exception if it can't find the element it wants :(\n",
       "  //\n",
       "  // addDisqusScriptTag('embed');\n",
       "  // addDisqusScriptTag('count');\n",
       "\n",
       "</script>\n",
       "<div class=\"title-space\">\n",
       "<h1> Alexandra Lilian Amelia Abrahams</h1>\n",
       "<div class=\"important-positions\">\n",
       "<p>\n",
       "<span class=\"position-title\">National Assembly</span>\n",
       "</p>\n",
       "</div>\n",
       "<div class=\"contact-actions\">\n",
       "<div class=\"contact-actions__email\">\n",
       "<span class=\"email-address preferred\"><a href=\"mailto:alexandra.abrahams@gmail.com\">alexandra.abrahams@gmail.com</a></span>\n",
       "<span class=\"email-address\"><a href=\"mailto:aabrahams@parliament.gov.za\">aabrahams@parliament.gov.za</a></span>\n",
       "</div>\n",
       "</div>\n",
       "<div class=\"object_menu\">\n",
       "<nav>\n",
       "<ul>\n",
       "</ul>\n",
       "</nav>\n",
       "</div>\n",
       "</div>\n",
       "<div class=\"profile-pic\">\n",
       "<img alt=\"Alexandra Lilian Amelia Abrahams\" src=\"/media_root/cache/30/1b/301b79188d6bc9fbaf2fbed88cb92104.jpg\" srcset=\"/media_root/cache/ba/b3/bab3bb39573cf6ff4edac7ced7648d24.jpg 640w\"/>\n",
       "</div>\n",
       "<div class=\"profile-info\">\n",
       "<div class=\"sidebar\">\n",
       "<div class=\"constituency-party\">\n",
       "<h3>Party</h3>\n",
       "<ul class=\"party-memberships\">\n",
       "<li><a class=\"party-membership party-membership--party\" data-identifier-org.mysociety.za=\"/party/da\" data-identifier-wikidata=\"Q761877\" href=\"/organisation/da/\">Democratic Alliance (DA)</a></li>\n",
       "</ul>\n",
       "<h3>Phone</h3>\n",
       "<ul>\n",
       "<li><a href=\"tel:082 335 7740\">082 335 7740</a></li>\n",
       "</ul>\n",
       "<h3>Constituency Offices</h3>\n",
       "<ul>\n",
       "<li>Not associated with any constituency offices</li>\n",
       "</ul>\n",
       "<h3>Province</h3>\n",
       "<ul>\n",
       "<li><a data-identifier-wikidata=\"Q127167\" href=\"/place/western-cape/\">Western Cape</a></li>\n",
       "</ul>\n",
       "</div>\n",
       "</div>\n",
       "<div class=\"social-and-tools\">\n",
       "</div>\n",
       "</div>\n",
       "<div class=\"large-container\">\n",
       "<div class=\"person-summary\">\n",
       "<h3>About Alexandra Lilian Amelia Abrahams</h3>\n",
       "</div>\n",
       "<div class=\"tabs ui-tabs ui-widget person-tabs\">\n",
       "<ul class=\"tab-links ui-tabs-nav ui-helper-reset ui-helper-clearfix ui-widget-header\">\n",
       "<li class=\"ui-state-default\">\n",
       "<a class=\"ui-tabs-anchor\" href=\"#attendance\">Committee Attendance</a>\n",
       "</li>\n",
       "<li class=\"ui-state-default\">\n",
       "<a class=\"ui-tabs-anchor\" href=\"#experience\">Positions held</a>\n",
       "</li>\n",
       "<li class=\"ui-state-default\">\n",
       "<a class=\"ui-tabs-anchor\" href=\"#appearances\">Appearances</a>\n",
       "</li>\n",
       "</ul>\n",
       "<div class=\"tab-content ui-tabs-panel ui-widget-content\" id=\"attendance\">\n",
       "<div class=\"fifty-fifty-layout\">\n",
       "<div class=\"column\">\n",
       "<header>\n",
       "<h3 class=\"attendance__heading\">2019 committee attendance as mp</h3>\n",
       "</header>\n",
       "<p class=\"attendance__percentage\">100% attendance rate</p>\n",
       "<p class=\"attendance__context\">Attended 5 meetings out of 5</p>\n",
       "<ul class=\"attendance__notes\">\n",
       "<li>Attendance records reflect Committee not Plenary Attendance</li>\n",
       "<li>Minister/Deputy Minister attendance is not compulsory.</li>\n",
       "<li>MP attendance is compulsory unless an apology is given</li>\n",
       "<li>MPs are recorded as absent whether they have, or have not submitted apologies.</li>\n",
       "<li>This is not the official committee attendance record of Parliament.</li>\n",
       "<li>Plenary Attendance is not made public by Parliament although it has been requested.</li>\n",
       "</ul>\n",
       "</div>\n",
       "<div class=\"column\">\n",
       "<h3>Recent meetings attended</h3>\n",
       "<ul class=\"unstyled attendance__recently-attended\">\n",
       "<li><span class=\"committee-name\">Social Development — </span> <a href=\"https://pmg.org.za/committee-meeting/28865/\"><span class=\"meeting-title\">Induction Workshop: AGSA briefing; High Level Panel recommendations: Department of Social Development response</span></a> — <span class=\"meeting-date\">11 Sep 2019</span></li>\n",
       "<li><span class=\"committee-name\">Social Development — </span> <a href=\"https://pmg.org.za/committee-meeting/28808/\"><span class=\"meeting-title\">Foster Care System backlog: progress report; with Deputy Minister</span></a> — <span class=\"meeting-date\">4 Sep 2019</span></li>\n",
       "<li><span class=\"committee-name\">Social Development — </span> <a href=\"https://pmg.org.za/committee-meeting/28729/\"><span class=\"meeting-title\">Department of Social Development Quarterly performance, with Deputy Minister</span></a> — <span class=\"meeting-date\">21 Aug 2019</span></li>\n",
       "<li><span class=\"committee-name\">Social Development — </span> <a href=\"https://pmg.org.za/committee-meeting/28550/\"><span class=\"meeting-title\">Social Development Budget: Committee Report</span></a> — <span class=\"meeting-date\">10 Jul 2019</span></li>\n",
       "<li><span class=\"committee-name\">Social Development — </span> <a href=\"https://pmg.org.za/committee-meeting/28460/\"><span class=\"meeting-title\">Election of Committee Chairperson</span></a> — <span class=\"meeting-date\">2 Jul 2019</span></li>\n",
       "</ul>\n",
       "<p><a href=\"/person/alexandra-lilian-amelia-abrahams/attendances/\">All meetings attended</a></p>\n",
       "</div>\n",
       "</div>\n",
       "<p class=\"attendance__disclaimer\">DISCLAIMER: This information has been obtained via the Parliamentary Monitoring Group. PMG makes every effort to compile reliable and comprehensive information, but does not claim that the data is 100% accurate and complete.\n",
       "          </p>\n",
       "</div> <!-- .attendance -->\n",
       "<div class=\"tab-content ui-tabs-panel ui-widget-content\" id=\"experience\">\n",
       "<div class=\"person-experience\">\n",
       "<h3>Currently</h3>\n",
       "<ul class=\"current-positions positions\">\n",
       "<li>\n",
       "\n",
       "\n",
       "  Alternate Member\n",
       "    \n",
       "      \n",
       "        at <a href=\"/organisation/portfolio-committee-on-social-development/\">Portfolio Committee on Social Development (National Assembly Committees)</a>\n",
       "      \n",
       "    \n",
       "\n",
       "\n",
       "                       since 27th June 2019\n",
       "                    </li>\n",
       "<li>\n",
       "\n",
       "\n",
       "  Member\n",
       "    \n",
       "      \n",
       "        at <a href=\"/organisation/national-assembly/\">National Assembly (Parliament)</a>\n",
       "      \n",
       "    \n",
       "\n",
       "\n",
       "                       since 22nd May 2019\n",
       "                    </li>\n",
       "<li>\n",
       "\n",
       "\n",
       "  Member\n",
       "    \n",
       "      \n",
       "        at <a href=\"/organisation/da/\">Democratic Alliance (DA) (Party)</a>\n",
       "</li>\n",
       "</ul>\n",
       "<h3>Formerly</h3>\n",
       "<ul class=\"former-positions positions\">\n",
       "<li>\n",
       "\n",
       "\n",
       "  3rd Candidate\n",
       "    \n",
       "      \n",
       "        \n",
       "          \n",
       "            at <a href=\"/election/2019/national/western-cape/da/\">Democratic Alliance Regional Western Cape Election List 2019 (Election List)</a>\n",
       "          \n",
       "        \n",
       "      \n",
       "    \n",
       "\n",
       "\n",
       "                    \n",
       "                      from 23rd April 2019\n",
       "                    \n",
       "                    until 8th May 2019\n",
       "                  </li>\n",
       "</ul>\n",
       "</div> <!-- .person-experience -->\n",
       "</div> <!-- #experience -->\n",
       "<div class=\"tab-content ui-tabs-panel ui-widget-content\" id=\"appearances\">\n",
       "<section class=\"person-appearances\">\n",
       "<h3>Committee appearances</h3>\n",
       "<ul class=\"unstyled speeches\">\n",
       "<li>\n",
       "<p>\n",
       "<span class=\"speech-title\">\n",
       "<a href=\"/committee-minutes/social-development/04-september-2019/backlogs-in-foster-care-system-and-plans-to-addres#s139899398\">\n",
       "                    \n",
       "                        Backlogs in Foster Care System and plans to address it: DSD briefing\n",
       "                    \n",
       "                </a>\n",
       "</span>\n",
       "<span class=\"speech-date\">\n",
       "                4 Sep 2019\n",
       "            </span>\n",
       "</p>\n",
       "<div class=\"speech-text\">\n",
       "            Ms A Abrahams (DA) asked how many veterans will be employed and how will they be paid and can it confirm if the 566 social workers are currently employed? DSD is forcing NGOs to close down by taking away their adoption agency fees, yet DSD is complaining about the workload ...\n",
       "        </div>\n",
       "</li>\n",
       "<li>\n",
       "<p>\n",
       "<span class=\"speech-title\">\n",
       "<a href=\"/committee-minutes/social-development/21-august-2019/department-of-social-development-quarterly-perfoma#s139934071\">\n",
       "                    \n",
       "                        Department of Social Development Quarterly perfomance, Committee Programme\n",
       "                    \n",
       "                </a>\n",
       "</span>\n",
       "<span class=\"speech-date\">\n",
       "                21 Aug 2019\n",
       "            </span>\n",
       "</p>\n",
       "<div class=\"speech-text\">\n",
       "            Ms A Abrahams (DA) urged the DSD to send documents to the Committee ahead of future meetings. This helps Members to familiarise themselves with the contents of the documents. Underspending, no matter how little, is unacceptable and those responsible should be held accountable. There should not be any justification for ...\n",
       "        </div>\n",
       "</li>\n",
       "<li>\n",
       "<p>\n",
       "<span class=\"speech-title\">\n",
       "<a href=\"/committee-minutes/social-development/10-july-2019/social-development-budget-committee-report#s140003485\">\n",
       "                    \n",
       "                        Social Development Budget: Committee Report\n",
       "                    \n",
       "                </a>\n",
       "</span>\n",
       "<span class=\"speech-date\">\n",
       "                10 Jul 2019\n",
       "            </span>\n",
       "</p>\n",
       "<div class=\"speech-text\">\n",
       "            Ms A Abrahams (DA) observed that the incorporation of the Batho Pele principle into the attitude of the DSD's staff in relation to customer care -- as the mentioned by Minister during the meeting -- had not been captured in the report. She suggested that entities within the DSD should integrate ...\n",
       "        </div>\n",
       "</li>\n",
       "<li>\n",
       "<p>\n",
       "<span class=\"speech-title\">\n",
       "<a href=\"/committee-minutes/social-development/03-july-2019/department-of-social-development-national-developm#s139947863\">\n",
       "                    \n",
       "                        Department of Social Development &amp; National Development Agency 2019/20 Annual Performance Plan\n",
       "                    \n",
       "                </a>\n",
       "</span>\n",
       "<span class=\"speech-date\">\n",
       "                3 Jul 2019\n",
       "            </span>\n",
       "</p>\n",
       "<div class=\"speech-text\">\n",
       "            Ms A Abrahams (DA) asked why SASSA did not attach conditions to receiving grants. Conditions might help in alleviating the problem of children having children, and parents using the money for drugs and alcohol. She also raised a concern that at 15h45, some SASSA employees were slamming doors in the ...\n",
       "        </div>\n",
       "</li>\n",
       "<li>\n",
       "<p>\n",
       "<span class=\"speech-title\">\n",
       "<a href=\"/committee-minutes/social-development/02-july-2019/election-of-chairperson#s139951596\">\n",
       "                    \n",
       "                        Election of Chairperson\n",
       "                    \n",
       "                </a>\n",
       "</span>\n",
       "<span class=\"speech-date\">\n",
       "                2 Jul 2019\n",
       "            </span>\n",
       "</p>\n",
       "<div class=\"speech-text\">\n",
       "            Ms A Abrahams (DA) requested that the next meeting of the Committee be moved to Thursday, 4 July 2019.\n",
       "        </div>\n",
       "</li>\n",
       "</ul>\n",
       "<p><a href=\"/person/alexandra-lilian-amelia-abrahams/appearances/committee\">All Committee Appearances</a></p>\n",
       "</section>\n",
       "<section class=\"person-appearances\">\n",
       "<h3>Questions</h3>\n",
       "<ul class=\"unstyled speeches\">\n",
       "    \n",
       "        No questions found\n",
       "    \n",
       "</ul>\n",
       "</section>\n",
       "<section class=\"person-appearances\">\n",
       "<h3>Plenary appearances</h3>\n",
       "<ul class=\"unstyled speeches\">\n",
       "    \n",
       "        No appearances found\n",
       "    \n",
       "</ul>\n",
       "</section>\n",
       "</div>\n",
       "</div> <!-- tabs -->\n",
       "</div>\n",
       "<br clear=\"both\"/>\n",
       "<a class=\"feedback-button button feedback_link\" href=\"/feedback/?url=http://www.pa.org.za/person/alexandra-lilian-amelia-abrahams/\">Correct this page</a>\n",
       "</div>\n",
       "</div>\n",
       "<footer id=\"site-footer\">\n",
       "<div class=\"wrapper\">\n",
       "<div class=\"footer-section\">\n",
       "<h4>Sign up to our mailing list</h4>\n",
       "<div class=\"email-signup\">\n",
       "<form action=\"https://mail4.marketingautomation.services/prospector/thanks/MzawMDE2MrUwBwA/f224712b-064b-4d8f-8aa8-c4f3ebf691e8\" enctype=\"multipart/form-data\" id=\"form_f224712b-064b-4d8f-8aa8-c4f3ebf691e8\" method=\"post\" target=\"_blank\">\n",
       "<label class=\"visuallyhidden\" for=\"field_350159876\">Email</label>\n",
       "<input class=\"required email\" id=\"350159876\" maxlength=\"255\" name=\"field_350159876\" placeholder=\"Your email\" type=\"email\" value=\"\"/>\n",
       "<input name=\"formid__sb\" type=\"hidden\" value=\"f224712b-064b-4d8f-8aa8-c4f3ebf691e8\">\n",
       "<input name=\"companyprofileid__sb\" type=\"hidden\" value=\"MzawMDE2MrUwBwA\"/>\n",
       "<button class=\"button mailing-list-button\" id=\"submit_button\" name=\"submit__sb\" type=\"submit\">Sign up </button>\n",
       "</input></form>\n",
       "</div>\n",
       "<h4>Follow us</h4>\n",
       "<ul class=\"social-links-list\">\n",
       "<li><a class=\"email-social-icon\" href=\"https://mail4.marketingautomation.services/prospector/form/MzawMDE2MrUwBwA/SzMyMjE3NErSNTAzSdI1SbFI07VITLTQTTZJM05NSjOzNEy1AAA\">Email</a></li>\n",
       "<li><a class=\"facebook-social-icon\" href=\"https://www.facebook.com/peoplesassemblysa\">Facebook</a></li>\n",
       "<li><a class=\"twitter-social-icon\" href=\"https://twitter.com/PeoplesAssem_SA\">Twitter</a></li>\n",
       "<!--<li><a href=\"#\" class=\"youtube-social-icon\">YouTube</a></li>\n",
       "        <li><a href=\"#\" class=\"rss-social-icon\">RSS</a></li> -->\n",
       "</ul>\n",
       "</div>\n",
       "<div class=\"footer-section\" id=\"footer-menu\">\n",
       "<h4>Sitemap</h4>\n",
       "<ul class=\"nav\">\n",
       "<li><a href=\"/\" role=\"menuitem\">Home</a></li>\n",
       "<li><a href=\"/search/location/\" role=\"menuitem\">Rep Locator</a></li>\n",
       "<li>\n",
       "<a aria-haspopup=\"true\" class=\"has-dropdown\" role=\"menuitem\">People</a>\n",
       "<ul class=\"js-hover-dropdown\" id=\"parliament-overview\" role=\"menu\">\n",
       "<li><a href=\"/search/?section=persons\" role=\"menuitem\">Find by name</a></li>\n",
       "<li><a href=\"/organisation/is/parliament/\" role=\"menuitem\">Parliament</a>\n",
       "<ul>\n",
       "<li><a href=\"/organisation/national-assembly/\" role=\"menuitem\">National Assembly</a></li>\n",
       "<li><a href=\"/organisation/ncop/\" role=\"menuitem\">National Council of Provinces</a></li>\n",
       "</ul>\n",
       "</li>\n",
       "<li><a href=\"/place/is/province/\" role=\"menuitem\">Provinces</a>\n",
       "<ul id=\"provinces-overview\">\n",
       "<li><a href=\"/place/eastern-cape/\" role=\"menuitem\">Eastern Cape</a></li>\n",
       "<li><a href=\"/place/free-state/\" role=\"menuitem\">Free State</a></li>\n",
       "<li><a href=\"/place/gauteng/\" role=\"menuitem\">Gauteng</a></li>\n",
       "<li><a href=\"/place/kwazulu-natal/\" role=\"menuitem\">KwaZulu-Natal</a></li>\n",
       "<li><a href=\"/place/limpopo/\" role=\"menuitem\">Limpopo</a></li>\n",
       "<li><a href=\"/place/mpumalanga/\" role=\"menuitem\">Mpumalanga</a></li>\n",
       "<li><a href=\"/place/northern-cape/\" role=\"menuitem\">Northern Cape</a></li>\n",
       "<li><a href=\"/place/north-west/\" role=\"menuitem\">North West</a></li>\n",
       "<li><a href=\"/place/western-cape/\" role=\"menuitem\">Western Cape</a></li>\n",
       "</ul>\n",
       "</li>\n",
       "</ul>\n",
       "</li>\n",
       "<li><a href=\"/blog/\" role=\"menuitem\">Blog</a></li>\n",
       "<li><a href=\"/position/member/parliament/?order=name&amp;a=1\" role=\"menuitem\">MP Profiles</a></li>\n",
       "<li><a href=\"/mp-attendance/\" role=\"menuitem\">MP Attendance</a></li>\n",
       "<li>\n",
       "<a aria-haspopup=\"true\" class=\"has-dropdown\" href=\"/info/public-participation\" role=\"menuitem\">Public Participation</a>\n",
       "<ul class=\"js-hover-dropdown\" id=\"extras-overview\" role=\"menu\">\n",
       "<li><a href=\"/info/make-yourself-heard\" role=\"menuitem\">Make yourself heard</a></li>\n",
       "<li>\n",
       "<a href=\"/info/elections\" role=\"menuitem\">Elections</a>\n",
       "<ul>\n",
       "<li><a href=\"/election/2014/\" role=\"menuitem\">Election 2014 Candidates</a></li>\n",
       "<li><a href=\"/election/2019/\" role=\"menuitem\">Election 2019 Candidates</a></li>\n",
       "</ul>\n",
       "</li>\n",
       "<li><a href=\"/info/petitions\" role=\"menuitem\">Petitions</a></li>\n",
       "<li><a href=\"/committees/\" role=\"menuitem\">Write to a Committee</a></li>\n",
       "</ul>\n",
       "</li>\n",
       "<li>\n",
       "<a aria-haspopup=\"true\" class=\"has-dropdown\" href=\"/info/hot-topics\" role=\"menuitem\">Hot Topics</a>\n",
       "<ul class=\"js-hover-dropdown\" id=\"extras-overview\" role=\"menu\">\n",
       "<li><a href=\"/question\" role=\"menuitem\">Questions</a></li>\n",
       "<li><a href=\"/interests/\" role=\"menuitem\">MP Assets</a></li>\n",
       "<li><a href=\"/blog/category/mp-corner\" role=\"menuitem\">MP Corner</a></li>\n",
       "<li><a href=\"/info/infographics\" role=\"menuitem\">Infographics</a></li>\n",
       "</ul>\n",
       "</li>\n",
       "<li class=\"header-search\" role=\"search\">\n",
       "<form action=\"/search/\" id=\"header-search\" method=\"get\">\n",
       "<input class=\"search-autocomplete-name\" name=\"q\" placeholder=\"Search pa.org.za\" type=\"text\"/>\n",
       "<button type=\"submit\">Submit</button>\n",
       "</form>\n",
       "</li>\n",
       "<li><a href=\"/info/links\">Links</a></li>\n",
       "<li><a href=\"/help/api\">Get the data</a>\n",
       "</li></ul>\n",
       "</div>\n",
       "<div class=\"footer-section vcard contact-details\">\n",
       "<h4>Contact us</h4>\n",
       "<h5 class=\"fn org\">People's Assembly</h5>\n",
       "<div class=\"col-one\">\n",
       "<a class=\"email block\" href=\"mailto:contact@pa.org.za\">contact@pa.org.za</a>\n",
       "<p class=\"block\">Tel: <span class=\"tel\">(021) 465 8885</span></p>\n",
       "<p class=\"block\">Fax: (021) 465 8887</p>\n",
       "</div>\n",
       "<div class=\"adr col-two\">\n",
       "<div class=\"street-address block\">\n",
       "<span class=\"block\">2nd floor, Associated Magazines</span>\n",
       "<span class=\"block\">21 St Johns Street</span>\n",
       "</div>\n",
       "<div class=\"block\">\n",
       "<span class=\"locality\">Cape Town</span>\n",
       "<span class=\"postal-code\">8001</span>\n",
       "</div>\n",
       "</div>\n",
       "</div>\n",
       "<div class=\"footer-full-width\">\n",
       "<div class=\"layout-major-minor thirds\">\n",
       "<div class=\"disclaimer major-column\">\n",
       "<h4>Disclaimer</h4>\n",
       "<p>The data for this site has been sourced form a range of organisations and websites and often received in formats that are hard to process. As a result, errors can occur - if you see something that you think is an error, please click on the \"Correct This Page\" button and let us know so that we can investigate. Please <a href=\"/info/source-data\">click here</a> to read more about our source data.</p>\n",
       "</div>\n",
       "<ul class=\"utilities minor-column\">\n",
       "<li><a href=\"/info/policies\">Privacy</a></li>\n",
       "<li><a class=\"feedback_link\" href=\"/feedback/?url=http://www.pa.org.za/person/alexandra-lilian-amelia-abrahams/\">Give us feedback</a></li>\n",
       "</ul>\n",
       "</div>\n",
       "</div>\n",
       "</div>\n",
       "<div class=\"attribution\">\n",
       "<p>This site runs on <a href=\"https://www.mysociety.org/projects/parliamentary-monitoring/pombola/\">open source code</a> written by <a href=\"http://www.mysociety.org\">mySociety</a>.</p>\n",
       "</div>\n",
       "</footer>\n",
       "<script src=\"//ajax.googleapis.com/ajax/libs/jquery/1.7.1/jquery.min.js\"></script>\n",
       "<script src=\"//www.google.com/jsapi\"></script>\n",
       "<script charset=\"utf-8\" src=\"/static/js/base.fdc922693c30.js\" type=\"text/javascript\"></script>\n",
       "<script charset=\"utf-8\" src=\"/static/js/survey.e2b394461e8c.js\" type=\"text/javascript\"></script>\n",
       "<script charset=\"utf-8\" src=\"/static/js/tabs.469035429a02.js\" type=\"text/javascript\"></script>\n",
       "<script charset=\"utf-8\" src=\"/static/js/person-messages-ajax.c6c77c6cca5a.js\" type=\"text/javascript\"></script>\n",
       "<div id=\"fb-root\"></div>\n",
       "</body>\n",
       "</html>"
      ]
     },
     "execution_count": 136,
     "metadata": {},
     "output_type": "execute_result"
    }
   ],
   "source": [
    "html = BeautifulSoup(response.content, 'html.parser')\n",
    "html"
   ]
  },
  {
   "cell_type": "code",
   "execution_count": 137,
   "metadata": {},
   "outputs": [
    {
     "data": {
      "text/plain": [
       "bs4.BeautifulSoup"
      ]
     },
     "execution_count": 137,
     "metadata": {},
     "output_type": "execute_result"
    }
   ],
   "source": [
    "type(html)"
   ]
  },
  {
   "cell_type": "markdown",
   "metadata": {},
   "source": [
    "Superficially the document looks cleaner. However, the `BeautifulSoup` objects puts a slew of additional functionality at our disposal."
   ]
  },
  {
   "cell_type": "markdown",
   "metadata": {},
   "source": [
    "Let's wrap all of that up in a function which will reliably return parsed HTML for a page."
   ]
  },
  {
   "cell_type": "code",
   "execution_count": 138,
   "metadata": {},
   "outputs": [],
   "source": [
    "def read_html(url):\n",
    "    try:\n",
    "        # Use closing() to ensure that network resources are freed up after leaving context.\n",
    "        response = get(url, stream=True)\n",
    "        #\n",
    "        status_code  = response.status_code\n",
    "        content_type = response.headers['Content-Type'].lower()\n",
    "    except RequestException as e:\n",
    "        print('Error during requests to {0} : {1}'.format(url, str(e)))\n",
    "        return None\n",
    "    \n",
    "    if status_code == 200 and content_type is not None and content_type.find('html') > -1:\n",
    "        return BeautifulSoup(response.content, 'html.parser')\n",
    "    else:\n",
    "        return None"
   ]
  },
  {
   "cell_type": "markdown",
   "metadata": {},
   "source": [
    "Give it a test run."
   ]
  },
  {
   "cell_type": "code",
   "execution_count": 139,
   "metadata": {},
   "outputs": [
    {
     "data": {
      "text/plain": [
       "<!DOCTYPE html>\n",
       "\n",
       "<html class=\"no-js\" lang=\"en\">\n",
       "<head>\n",
       "<meta charset=\"utf-8\"/>\n",
       "<title>\n",
       "            Alexandra Lilian Amelia Abrahams\n",
       "             :: People's Assembly \n",
       "        </title>\n",
       "<meta content=\"text/html; charset=utf-8\" http-equiv=\"Content-Type\"/>\n",
       "<meta content=\"initial-scale=1\" name=\"viewport\"/>\n",
       "<meta content=\"on\" http-equiv=\"cleartype\"/>\n",
       "<meta content=\"IE=edge,chrome=1\" http-equiv=\"X-UA-Compatible\"/>\n",
       "<link href=\"//peoplesassembly.disqus.com\" rel=\"dns-prefetch\"/>\n",
       "<!--[if IE 9]>\n",
       "      <link href=\"http://peoplesassembly.disqus.com/\" rel=\"prefetch\" />\n",
       "    <![endif]-->\n",
       "<meta content=\"14995\" name=\"pombola-person-id\"/>\n",
       "<meta content=\"8607130053089\" name=\"pa:identifier-elections_2019\"/>\n",
       "<meta content=\"1275\" name=\"pa:identifier-za.org.pmg.api/member\"/>\n",
       "<meta content=\"1619725741628189\" property=\"fb:app_id\">\n",
       "<meta content=\"Alexandra Lilian Amelia Abrahams\" property=\"og:title\">\n",
       "<meta content=\"People's Assembly\" property=\"og:site_name\">\n",
       "<meta content=\"profile\" property=\"og:type\">\n",
       "<meta content=\"http://www.pa.org.za/media_root/images/Alexandra_Abrahams.jpg\" property=\"og:image\">\n",
       "<meta content=\"http://www.pa.org.za/person/alexandra-lilian-amelia-abrahams/\" property=\"og:url\">\n",
       "<meta content=\"Alexandra Lilian Amelia\" property=\"profile:first_name\">\n",
       "<meta content=\"Abrahams\" property=\"profile:last_name\">\n",
       "<link href=\"/static/css/south-africa.d4b46b75a67d.css\" rel=\"stylesheet\" type=\"text/css\"/>\n",
       "<script charset=\"utf-8\" type=\"text/javascript\">\n",
       "\n",
       "            window.pombola_settings = {\n",
       "                google_analytics_account : 'UA-47810266-1',\n",
       "                static_url:                '/static/',\n",
       "                map_bounds: {\n",
       "                  north: -22.06,\n",
       "                  east:  32.95,\n",
       "                  south: -35.0,\n",
       "                  west:  16.3\n",
       "                },\n",
       "                crosshairs_image: '/static/images/crosshairs.9809ff8a2f7f.png'\n",
       "            };\n",
       "\n",
       "            (function(i,s,o,g,r,a,m){i['GoogleAnalyticsObject']=r;i[r]=i[r]||function(){\n",
       "            (i[r].q=i[r].q||[]).push(arguments)},i[r].l=1*new Date();a=s.createElement(o),\n",
       "            m=s.getElementsByTagName(o)[0];a.async=1;a.src=g;m.parentNode.insertBefore(a,m)\n",
       "            })(window,document,'script','//www.google-analytics.com/analytics.js','ga');\n",
       "\n",
       "            ga('create', pombola_settings.google_analytics_account);\n",
       "            ga('send', 'pageview');\n",
       "\n",
       "        </script>\n",
       "<script charset=\"utf-8\" src=\"/static/js/modernizr.9cb2884d418d.js\" type=\"text/javascript\"></script>\n",
       "<!--[if (lt IE 9) & (!IEMobile)]>\n",
       "            <script type=\"text/javascript\" src=\"/static/js/respond.1d1b2e4f5263.js\" charset=\"utf-8\"></script>\n",
       "        <![endif]-->\n",
       "<link href=\"/static/images/favicon.c0fda3ea8617.png\" rel=\"icon\" type=\"image/png\"/>\n",
       "</meta></meta></meta></meta></meta></meta></meta></meta></head>\n",
       "<body>\n",
       "<header id=\"site-header\">\n",
       "<div class=\"wrapper\">\n",
       "<a aria-label=\"Home\" class=\"logo site-logo-svg\" href=\"/\"><svg class=\"site-logo-svg__svg\" enable-background=\"new 0 0 184 90\" height=\"90px\" id=\"Layer_1\" version=\"1.1\" viewbox=\"0 0 184 90\" width=\"184px\" x=\"0\" xml:space=\"preserve\" xmlns=\"http://www.w3.org/2000/svg\" xmlns:xlink=\"http://www.w3.org/1999/xlink\" y=\"0\"><path d=\"M44.2 2.5c-4.6 0-9.2 0.8-13.7 2.3C19.8 8.4 11.2 16 6.2 26.2 -4 47.1 4.6 72.5 25.6 82.7c5.8 2.9 12.1 4.3 18.4 4.3l0-8c-5.1 0-10.2-1.2-14.9-3.5 -17-8.3-24-28.9-15.7-45.9 4-8.2 11-14.4 19.7-17.3 3.6-1.2 7.4-1.9 11.1-1.9 5.2 0 10.3 1.2 15.1 3.5 2.4 1.2 4.6 2.6 6.6 4.2l5.1-6.2c-2.5-2-5.2-3.8-8.2-5.2C56.9 3.9 50.6 2.5 44.2 2.5\" fill=\"#007C59\"></path><path d=\"M44.2 17.4c-10.1 0-19.8 5.6-24.6 15.3 -6.6 13.5-1 29.9 12.5 36.6 3.8 1.8 7.8 2.8 11.9 2.8l0-8c-2.9 0-5.7-0.7-8.3-2 -9.6-4.7-13.5-16.3-8.8-25.9 3.4-6.8 10.2-10.8 17.4-10.8 2.9 0 5.8 0.6 8.5 2 1.4 0.7 2.6 1.5 3.8 2.4l5.1-6.2c-1.6-1.3-3.4-2.5-5.3-3.4C52.4 18.3 48.3 17.4 44.2 17.4\" fill=\"#E23D28\"></path><path d=\"M44.2 33.5c-4.2 0-8.2 2.3-10.1 6.3 -1.3 2.7-1.5 5.8-0.5 8.6 1 2.8 3 5.1 5.7 6.5 1.5 0.7 3.1 1.1 4.8 1.2l0-8c-0.4 0-0.9-0.1-1.3-0.3 -0.8-0.4-1.4-1.1-1.7-1.9 -0.3-0.8-0.2-1.7 0.2-2.5 0.4-0.8 1.1-1.4 1.9-1.7 0.3-0.1 0.7-0.2 1.1-0.2 0.5 0 1 0.1 1.4 0.3 0.3 0.1 0.5 0.3 0.7 0.5l5.1-6.2c-0.7-0.6-1.4-1-2.2-1.4C47.5 33.9 45.9 33.5 44.2 33.5\" fill=\"#FCB514\"></path><defs><polyline points=\"-1355.2 -3029.4 1405.1 -3029.4 1405.1 3239.4 -1355.2 3239.4 -1355.2 -3029.4 \"></polyline></defs><clippath><use overflow=\"visible\" xlink:href=\"#SVGID_1_\"></use></clippath><path d=\"M81.5 41.8v7.1h-4.9V27.7h7.5c1.5 0 2.8 0.2 3.8 0.5 1.1 0.4 2 0.8 2.6 1.5 0.7 0.6 1.2 1.4 1.5 2.2s0.5 1.8 0.5 2.7c0 1.1-0.2 2-0.5 2.9 -0.3 0.9-0.9 1.6-1.6 2.3 -0.7 0.6-1.6 1.1-2.7 1.5 -1.1 0.4-2.3 0.5-3.8 0.5H81.5zM81.5 38.1h2.6c1.3 0 2.2-0.3 2.8-0.9 0.6-0.6 0.8-1.5 0.8-2.6 0-0.5-0.1-0.9-0.2-1.3 -0.1-0.4-0.4-0.7-0.7-1 -0.3-0.3-0.7-0.5-1.1-0.7 -0.5-0.2-1-0.2-1.6-0.2h-2.6V38.1z\"></path><path d=\"M100.8 33.5c1 0 1.9 0.2 2.7 0.5 0.8 0.3 1.5 0.8 2.1 1.4s1.1 1.3 1.4 2.2c0.3 0.9 0.5 1.8 0.5 2.9 0 0.3 0 0.6 0 0.8 0 0.2-0.1 0.4-0.2 0.5s-0.2 0.2-0.3 0.3 -0.3 0.1-0.5 0.1h-8.7c0.1 1.3 0.5 2.2 1.1 2.7 0.6 0.6 1.4 0.9 2.4 0.9 0.5 0 1-0.1 1.4-0.2 0.4-0.1 0.7-0.3 1-0.4 0.3-0.2 0.6-0.3 0.8-0.4 0.2-0.1 0.5-0.2 0.8-0.2 0.4 0 0.6 0.1 0.8 0.4l1.3 1.6c-0.5 0.5-1 1-1.5 1.3 -0.5 0.3-1.1 0.6-1.7 0.8 -0.6 0.2-1.1 0.3-1.7 0.4 -0.6 0.1-1.1 0.1-1.6 0.1 -1.1 0-2-0.2-3-0.5 -0.9-0.3-1.7-0.9-2.4-1.5s-1.2-1.5-1.6-2.5c-0.4-1-0.6-2.2-0.6-3.5 0-1 0.2-2 0.5-2.9 0.3-0.9 0.8-1.7 1.5-2.4 0.6-0.7 1.4-1.2 2.3-1.6S99.7 33.5 100.8 33.5zM100.9 36.7c-0.9 0-1.5 0.2-2 0.7 -0.5 0.5-0.8 1.2-1 2.1h5.6c0-0.4 0-0.7-0.1-1 -0.1-0.3-0.2-0.6-0.5-0.9s-0.5-0.5-0.8-0.6C101.8 36.7 101.4 36.7 100.9 36.7z\"></path><path d=\"M116.7 33.5c1.1 0 2.2 0.2 3.1 0.5 0.9 0.4 1.7 0.9 2.4 1.5 0.7 0.7 1.2 1.5 1.6 2.4 0.4 1 0.6 2 0.6 3.2 0 1.2-0.2 2.3-0.6 3.2 -0.4 1-0.9 1.8-1.6 2.5 -0.7 0.7-1.5 1.2-2.4 1.6 -0.9 0.4-2 0.5-3.1 0.5 -1.2 0-2.2-0.2-3.1-0.5s-1.8-0.9-2.4-1.6c-0.7-0.7-1.2-1.5-1.6-2.5 -0.4-1-0.6-2-0.6-3.2 0-1.2 0.2-2.3 0.6-3.2 0.4-1 0.9-1.8 1.6-2.4 0.7-0.7 1.5-1.2 2.4-1.5C114.5 33.7 115.6 33.5 116.7 33.5zM116.7 45.7c1 0 1.8-0.4 2.3-1.1 0.5-0.7 0.7-1.8 0.7-3.3s-0.2-2.6-0.7-3.3c-0.5-0.7-1.3-1.1-2.3-1.1 -1.1 0-1.8 0.4-2.3 1.1 -0.5 0.7-0.7 1.8-0.7 3.3s0.2 2.6 0.7 3.3C114.9 45.4 115.7 45.7 116.7 45.7z\"></path><path d=\"M126.6 53.6V33.8h2.8c0.3 0 0.5 0.1 0.7 0.2s0.3 0.3 0.4 0.6l0.3 1.1c0.3-0.3 0.6-0.6 0.9-0.9s0.7-0.5 1.1-0.7 0.8-0.3 1.2-0.4c0.4-0.1 0.9-0.2 1.4-0.2 0.8 0 1.5 0.2 2.2 0.5s1.2 0.9 1.7 1.5c0.5 0.7 0.9 1.5 1.1 2.4 0.3 1 0.4 2 0.4 3.2 0 1.1-0.2 2.2-0.5 3.1s-0.8 1.8-1.3 2.5c-0.6 0.7-1.2 1.3-2 1.7s-1.7 0.6-2.6 0.6c-0.8 0-1.4-0.1-2-0.3 -0.5-0.2-1-0.5-1.5-0.9v5.8H126.6zM134 36.9c-0.3 0-0.6 0-0.9 0.1 -0.3 0.1-0.5 0.2-0.7 0.3s-0.4 0.3-0.6 0.4c-0.2 0.2-0.4 0.4-0.6 0.6v6.4c0.3 0.4 0.7 0.6 1.1 0.8s0.8 0.2 1.3 0.2c0.4 0 0.8-0.1 1.1-0.2 0.3-0.2 0.7-0.4 0.9-0.8 0.3-0.4 0.5-0.8 0.6-1.4 0.1-0.6 0.2-1.3 0.2-2.1 0-0.8-0.1-1.5-0.2-2 -0.1-0.5-0.3-1-0.5-1.3s-0.5-0.6-0.7-0.7C134.7 37 134.3 36.9 134 36.9z\"></path><path d=\"M147.9 27.1v21.8h-4.5V27.1H147.9z\"></path><path d=\"M157.6 33.5c1 0 1.9 0.2 2.7 0.5 0.8 0.3 1.5 0.8 2.1 1.4s1.1 1.3 1.4 2.2c0.3 0.9 0.5 1.8 0.5 2.9 0 0.3 0 0.6 0 0.8 0 0.2-0.1 0.4-0.2 0.5S164 42 163.9 42s-0.3 0.1-0.5 0.1h-8.7c0.1 1.3 0.5 2.2 1.1 2.7 0.6 0.6 1.4 0.9 2.4 0.9 0.5 0 1-0.1 1.4-0.2 0.4-0.1 0.7-0.3 1-0.4 0.3-0.2 0.6-0.3 0.8-0.4 0.2-0.1 0.5-0.2 0.8-0.2 0.4 0 0.6 0.1 0.8 0.4l1.3 1.6c-0.5 0.5-1 1-1.5 1.3 -0.5 0.3-1.1 0.6-1.7 0.8 -0.6 0.2-1.1 0.3-1.7 0.4 -0.6 0.1-1.1 0.1-1.6 0.1 -1.1 0-2-0.2-3-0.5 -0.9-0.3-1.7-0.9-2.4-1.5s-1.2-1.5-1.6-2.5c-0.4-1-0.6-2.2-0.6-3.5 0-1 0.2-2 0.5-2.9 0.3-0.9 0.8-1.7 1.5-2.4 0.6-0.7 1.4-1.2 2.3-1.6S156.5 33.5 157.6 33.5zM157.7 36.7c-0.9 0-1.5 0.2-2 0.7 -0.5 0.5-0.8 1.2-1 2.1h5.6c0-0.4 0-0.7-0.1-1 -0.1-0.3-0.2-0.6-0.5-0.9s-0.5-0.5-0.8-0.6C158.6 36.7 158.2 36.7 157.7 36.7z\"></path><path d=\"M169 26.3c0.4 0.6 0.7 1.2 0.9 1.8 0.2 0.6 0.3 1.2 0.3 1.8 0 1-0.3 2-0.8 3 -0.5 0.9-1.3 1.8-2.4 2.6l-1.4-0.8c-0.1-0.1-0.2-0.2-0.3-0.3 -0.1-0.1-0.1-0.2-0.1-0.3 0-0.1 0-0.2 0.1-0.3 0-0.1 0.1-0.2 0.2-0.2 0.1-0.1 0.2-0.3 0.4-0.4 0.1-0.2 0.3-0.4 0.4-0.6 0.1-0.2 0.2-0.5 0.3-0.8 0.1-0.3 0.1-0.6 0.1-0.9 0-0.3-0.1-0.7-0.2-1.1 -0.1-0.4-0.3-0.8-0.6-1.3 -0.1-0.2-0.1-0.3-0.1-0.5 0-0.2 0.1-0.3 0.2-0.5 0.1-0.1 0.3-0.2 0.5-0.3L169 26.3z\"></path><path d=\"M180.4 37.1c-0.1 0.2-0.2 0.3-0.4 0.4 -0.1 0.1-0.3 0.1-0.5 0.1 -0.2 0-0.4 0-0.6-0.1 -0.2-0.1-0.4-0.2-0.7-0.3 -0.2-0.1-0.5-0.2-0.8-0.3s-0.7-0.1-1.1-0.1c-0.6 0-1 0.1-1.3 0.3 -0.3 0.2-0.5 0.5-0.5 0.9 0 0.3 0.1 0.5 0.3 0.7s0.5 0.3 0.8 0.5c0.3 0.1 0.7 0.3 1.1 0.4 0.4 0.1 0.8 0.3 1.3 0.4 0.4 0.2 0.9 0.3 1.3 0.5 0.4 0.2 0.8 0.5 1.1 0.8 0.3 0.3 0.6 0.7 0.8 1.1 0.2 0.4 0.3 1 0.3 1.6 0 0.7-0.1 1.4-0.4 2.1 -0.3 0.6-0.7 1.2-1.2 1.6 -0.5 0.5-1.2 0.8-2 1.1s-1.7 0.4-2.7 0.4c-0.5 0-1 0-1.5-0.1s-1-0.2-1.5-0.4c-0.5-0.2-0.9-0.4-1.3-0.6 -0.4-0.2-0.8-0.5-1-0.7l1-1.7c0.1-0.2 0.3-0.3 0.5-0.5 0.2-0.1 0.4-0.2 0.7-0.2 0.3 0 0.5 0.1 0.7 0.2 0.2 0.1 0.4 0.2 0.7 0.4 0.2 0.1 0.5 0.3 0.9 0.4 0.3 0.1 0.7 0.2 1.2 0.2 0.3 0 0.6 0 0.9-0.1 0.2-0.1 0.4-0.2 0.6-0.3 0.1-0.1 0.3-0.3 0.3-0.4 0.1-0.2 0.1-0.3 0.1-0.5 0-0.3-0.1-0.5-0.3-0.7s-0.5-0.4-0.8-0.5 -0.7-0.3-1.1-0.4c-0.4-0.1-0.9-0.3-1.3-0.4 -0.4-0.2-0.9-0.3-1.3-0.6 -0.4-0.2-0.8-0.5-1.1-0.8 -0.3-0.3-0.6-0.7-0.8-1.2s-0.3-1.1-0.3-1.8c0-0.6 0.1-1.2 0.4-1.8 0.2-0.6 0.6-1.1 1.1-1.5 0.5-0.4 1.1-0.8 1.9-1 0.7-0.3 1.6-0.4 2.6-0.4 0.5 0 1.1 0 1.6 0.1 0.5 0.1 1 0.2 1.4 0.4 0.4 0.2 0.9 0.4 1.2 0.6 0.4 0.2 0.7 0.5 1 0.8L180.4 37.1z\"></path><path d=\"M72.4 77h-2.3c-0.3 0-0.5-0.1-0.7-0.2 -0.2-0.1-0.3-0.3-0.4-0.5L67 71H57L55 76.3c-0.1 0.2-0.2 0.4-0.4 0.5S54.2 77 53.9 77h-2.3l8.9-22.2h3.1L72.4 77zM57.9 68.8h8.3l-3.5-9c-0.2-0.6-0.4-1.3-0.7-2.1 -0.1 0.4-0.2 0.8-0.3 1.2 -0.1 0.4-0.2 0.7-0.3 0.9L57.9 68.8z\"></path><path d=\"M84.1 63.9c-0.1 0.2-0.3 0.3-0.6 0.3 -0.2 0-0.3-0.1-0.5-0.2 -0.2-0.1-0.4-0.2-0.7-0.4 -0.3-0.1-0.6-0.3-1-0.4 -0.4-0.1-0.9-0.2-1.4-0.2 -0.5 0-0.9 0.1-1.3 0.2 -0.4 0.1-0.7 0.3-1 0.5 -0.3 0.2-0.5 0.4-0.6 0.7 -0.1 0.3-0.2 0.6-0.2 0.9 0 0.4 0.1 0.7 0.3 1 0.2 0.3 0.5 0.5 0.9 0.7s0.8 0.4 1.3 0.5c0.5 0.1 1 0.3 1.5 0.5s1 0.4 1.5 0.6c0.5 0.2 0.9 0.5 1.3 0.8 0.4 0.3 0.7 0.7 0.9 1.1 0.2 0.5 0.3 1 0.3 1.6 0 0.7-0.1 1.4-0.4 2 -0.3 0.6-0.6 1.1-1.1 1.6 -0.5 0.5-1.1 0.8-1.9 1.1 -0.7 0.3-1.6 0.4-2.5 0.4 -1.1 0-2.1-0.2-3-0.5s-1.6-0.8-2.3-1.4l0.7-1.1c0.1-0.1 0.2-0.2 0.3-0.3s0.3-0.1 0.4-0.1 0.4 0.1 0.6 0.2c0.2 0.1 0.5 0.3 0.8 0.5s0.7 0.3 1.1 0.5c0.4 0.1 0.9 0.2 1.6 0.2 0.5 0 1-0.1 1.4-0.2 0.4-0.1 0.7-0.3 1-0.6 0.3-0.2 0.5-0.5 0.6-0.8 0.1-0.3 0.2-0.6 0.2-1 0-0.4-0.1-0.8-0.3-1.1 -0.2-0.3-0.5-0.5-0.9-0.7 -0.4-0.2-0.8-0.4-1.3-0.5 -0.5-0.1-1-0.3-1.5-0.5s-1-0.4-1.5-0.6c-0.5-0.2-0.9-0.5-1.3-0.8s-0.7-0.7-0.9-1.2 -0.3-1-0.3-1.7c0-0.6 0.1-1.2 0.4-1.7 0.2-0.6 0.6-1 1.1-1.5 0.5-0.4 1.1-0.8 1.8-1 0.7-0.2 1.5-0.4 2.4-0.4 1 0 2 0.2 2.8 0.5 0.8 0.3 1.5 0.8 2.1 1.3L84.1 63.9z\"></path><path d=\"M97.1 63.9c-0.1 0.2-0.3 0.3-0.6 0.3 -0.2 0-0.3-0.1-0.5-0.2 -0.2-0.1-0.4-0.2-0.7-0.4 -0.3-0.1-0.6-0.3-1-0.4 -0.4-0.1-0.9-0.2-1.4-0.2 -0.5 0-0.9 0.1-1.3 0.2 -0.4 0.1-0.7 0.3-1 0.5 -0.3 0.2-0.5 0.4-0.6 0.7 -0.1 0.3-0.2 0.6-0.2 0.9 0 0.4 0.1 0.7 0.3 1 0.2 0.3 0.5 0.5 0.9 0.7s0.8 0.4 1.3 0.5c0.5 0.1 1 0.3 1.5 0.5s1 0.4 1.5 0.6c0.5 0.2 0.9 0.5 1.3 0.8 0.4 0.3 0.7 0.7 0.9 1.1 0.2 0.5 0.3 1 0.3 1.6 0 0.7-0.1 1.4-0.4 2 -0.3 0.6-0.6 1.1-1.1 1.6 -0.5 0.5-1.1 0.8-1.9 1.1 -0.7 0.3-1.6 0.4-2.5 0.4 -1.1 0-2.1-0.2-3-0.5s-1.6-0.8-2.3-1.4l0.7-1.1c0.1-0.1 0.2-0.2 0.3-0.3s0.3-0.1 0.4-0.1 0.4 0.1 0.6 0.2c0.2 0.1 0.5 0.3 0.8 0.5s0.7 0.3 1.1 0.5c0.4 0.1 0.9 0.2 1.6 0.2 0.5 0 1-0.1 1.4-0.2 0.4-0.1 0.7-0.3 1-0.6 0.3-0.2 0.5-0.5 0.6-0.8 0.1-0.3 0.2-0.6 0.2-1 0-0.4-0.1-0.8-0.3-1.1 -0.2-0.3-0.5-0.5-0.9-0.7 -0.4-0.2-0.8-0.4-1.3-0.5 -0.5-0.1-1-0.3-1.5-0.5s-1-0.4-1.5-0.6c-0.5-0.2-0.9-0.5-1.3-0.8s-0.7-0.7-0.9-1.2 -0.3-1-0.3-1.7c0-0.6 0.1-1.2 0.4-1.7 0.2-0.6 0.6-1 1.1-1.5 0.5-0.4 1.1-0.8 1.8-1 0.7-0.2 1.5-0.4 2.4-0.4 1 0 2 0.2 2.8 0.5 0.8 0.3 1.5 0.8 2.1 1.3L97.1 63.9z\"></path><path d=\"M107.3 61.1c0.9 0 1.8 0.2 2.6 0.5 0.8 0.3 1.5 0.8 2.1 1.4 0.6 0.6 1 1.3 1.4 2.2 0.3 0.9 0.5 1.9 0.5 3 0 0.4 0 0.7-0.1 0.9 -0.1 0.1-0.3 0.2-0.5 0.2h-10.5c0 1 0.2 1.9 0.4 2.6 0.2 0.7 0.6 1.3 1 1.8s1 0.9 1.6 1.1c0.6 0.2 1.3 0.4 2 0.4 0.7 0 1.3-0.1 1.8-0.2 0.5-0.2 0.9-0.3 1.3-0.5 0.4-0.2 0.7-0.4 0.9-0.5 0.2-0.2 0.5-0.2 0.6-0.2 0.2 0 0.4 0.1 0.5 0.3l0.8 1c-0.3 0.4-0.7 0.8-1.2 1.1s-1 0.6-1.5 0.8c-0.5 0.2-1.1 0.3-1.7 0.4 -0.6 0.1-1.2 0.1-1.7 0.1 -1.1 0-2.1-0.2-3-0.5 -0.9-0.4-1.7-0.9-2.4-1.6 -0.7-0.7-1.2-1.6-1.6-2.6s-0.6-2.2-0.6-3.6c0-1.1 0.2-2.1 0.5-3.1s0.8-1.8 1.4-2.5c0.6-0.7 1.4-1.2 2.3-1.6C105.2 61.3 106.2 61.1 107.3 61.1zM107.4 63.1c-1.3 0-2.4 0.4-3.1 1.2 -0.8 0.8-1.2 1.8-1.4 3.2h8.5c0-0.6-0.1-1.2-0.3-1.8s-0.4-1-0.8-1.4 -0.8-0.7-1.2-0.9C108.6 63.2 108 63.1 107.4 63.1z\"></path><path d=\"M116.9 77V61.3h1.6c0.4 0 0.6 0.2 0.7 0.6l0.2 1.6c0.6-0.7 1.2-1.3 1.9-1.8 0.7-0.5 1.6-0.7 2.5-0.7 1.1 0 1.9 0.3 2.6 0.9 0.7 0.6 1.1 1.4 1.4 2.4 0.2-0.6 0.5-1.1 0.9-1.5 0.4-0.4 0.8-0.8 1.2-1 0.4-0.3 0.9-0.5 1.4-0.6 0.5-0.1 1-0.2 1.5-0.2 0.8 0 1.6 0.1 2.2 0.4s1.2 0.6 1.6 1.2 0.8 1.1 1 1.9c0.2 0.7 0.4 1.6 0.4 2.5v10h-2.8V67c0-1.2-0.3-2.2-0.8-2.8s-1.3-1-2.3-1c-0.5 0-0.9 0.1-1.3 0.2 -0.4 0.2-0.8 0.4-1.1 0.7 -0.3 0.3-0.6 0.7-0.7 1.2 -0.2 0.5-0.3 1-0.3 1.6v10h-2.8V67c0-1.3-0.3-2.2-0.8-2.8 -0.5-0.6-1.2-0.9-2.2-0.9 -0.7 0-1.3 0.2-1.9 0.6 -0.6 0.4-1.1 0.9-1.6 1.5V77H116.9z\"></path><path d=\"M142 77V54.2h2.8v9.4c0.7-0.8 1.4-1.4 2.2-1.8 0.8-0.5 1.8-0.7 2.9-0.7 0.9 0 1.7 0.2 2.5 0.5s1.4 0.9 1.9 1.5c0.5 0.7 0.9 1.5 1.2 2.5 0.3 1 0.4 2.1 0.4 3.5 0 1.2-0.2 2.2-0.5 3.2 -0.3 1-0.8 1.9-1.3 2.6 -0.6 0.7-1.3 1.3-2.1 1.7 -0.8 0.4-1.8 0.6-2.8 0.6 -1 0-1.9-0.2-2.6-0.6 -0.7-0.4-1.3-0.9-1.9-1.6l-0.1 1.4c-0.1 0.4-0.3 0.6-0.7 0.6H142zM149 63.3c-0.9 0-1.7 0.2-2.4 0.6 -0.7 0.4-1.3 1-1.9 1.8v7.6c0.5 0.7 1 1.2 1.7 1.4 0.6 0.3 1.3 0.4 2 0.4 1.5 0 2.6-0.5 3.4-1.6 0.8-1 1.2-2.5 1.2-4.5 0-1-0.1-1.9-0.3-2.6 -0.2-0.7-0.4-1.3-0.8-1.8 -0.3-0.5-0.8-0.8-1.3-1C150.2 63.4 149.6 63.3 149 63.3z\"></path><path d=\"M161.9 54.2V77h-2.8V54.2H161.9z\"></path><path d=\"M170.9 81.7c-0.1 0.2-0.2 0.4-0.3 0.5s-0.4 0.2-0.6 0.2h-2l2.9-6.2 -6.5-14.8h2.4c0.2 0 0.4 0.1 0.6 0.2s0.2 0.3 0.3 0.4l4.2 9.9c0.1 0.2 0.2 0.5 0.2 0.7s0.1 0.5 0.2 0.7c0.1-0.2 0.1-0.5 0.2-0.7 0.1-0.2 0.2-0.5 0.2-0.7l4.1-9.9c0.1-0.2 0.2-0.3 0.3-0.4s0.3-0.2 0.5-0.2h2.2L170.9 81.7z\"></path></svg>\n",
       "</a>\n",
       "<a aria-label=\"Home\" class=\"logo no-svg-fallback-logo\" href=\"/\">People's Assembly</a>\n",
       "<p class=\"logo-tagline\">Connecting people with their representatives</p>\n",
       "<div class=\"about-this-site-menu\">\n",
       "<ul aria-label=\"Help menu\" role=\"menubar\">\n",
       "<li>\n",
       "<a aria-haspopup=\"true\" href=\"/info/about\" role=\"menuitem\">About us</a>\n",
       "<ul class=\"js-hover-dropdown\" role=\"menu\">\n",
       "<li><a href=\"/info/about\" role=\"menuitem\">Who we are</a></li>\n",
       "<li><a href=\"/info/source-data\" role=\"menuitem\">Source Data</a></li>\n",
       "<li><a href=\"/info/for-representatives\" role=\"menuitem\">For Representatives</a></li>\n",
       "</ul>\n",
       "</li>\n",
       "<li><a href=\"/info/contact-us\" role=\"menuitem\">Contact us</a></li>\n",
       "</ul>\n",
       "</div>\n",
       "<ul aria-label=\"Social links\" class=\"social-links-list\">\n",
       "<li><a class=\"email-social-icon\" href=\"https://mail4.marketingautomation.services/prospector/form/MzawMDE2MrUwBwA/SzMyMjE3NErSNTAzSdI1SbFI07VITLTQTTZJM05NSjOzNEy1AAA\">Email</a></li>\n",
       "<li><a class=\"facebook-social-icon\" href=\"https://www.facebook.com/peoplesassemblysa\">Facebook</a></li>\n",
       "<li><a class=\"twitter-social-icon\" href=\"https://twitter.com/PeoplesAssem_SA\">Twitter</a></li>\n",
       "<!--<li><a href=\"#\" class=\"youtube-social-icon\">YouTube</a></li>\n",
       "    <li><a href=\"#\" class=\"rss-social-icon\">RSS</a></li> -->\n",
       "</ul>\n",
       "<menu id=\"mobile-top-tools\">\n",
       "<ul>\n",
       "<li><a class=\"m-icon-nav\" href=\"#footer-menu\">menu</a></li>\n",
       "<li><a class=\"icon-search\" href=\"/search/\"><img alt=\"search\" src=\"/static/images/search-icon.95c861f1f8ad.png\"/></a></li>\n",
       "</ul>\n",
       "</menu>\n",
       "</div>\n",
       "</header>\n",
       "<div id=\"main-menu\">\n",
       "<nav class=\"wrapper\">\n",
       "<ul aria-label=\"Main menu\" role=\"menubar\">\n",
       "<li><a href=\"/\" role=\"menuitem\">Home</a></li>\n",
       "<li><a href=\"/search/location/\" role=\"menuitem\">Rep Locator</a></li>\n",
       "<li>\n",
       "<a aria-haspopup=\"true\" class=\"has-dropdown\" role=\"menuitem\">People</a>\n",
       "<ul class=\"js-hover-dropdown\" id=\"parliament-overview\" role=\"menu\">\n",
       "<li><a href=\"/search/?section=persons\" role=\"menuitem\">Find by name</a></li>\n",
       "<li><a href=\"/organisation/is/parliament/\" role=\"menuitem\">Parliament</a>\n",
       "<ul>\n",
       "<li><a href=\"/organisation/national-assembly/\" role=\"menuitem\">National Assembly</a></li>\n",
       "<li><a href=\"/organisation/ncop/\" role=\"menuitem\">National Council of Provinces</a></li>\n",
       "</ul>\n",
       "</li>\n",
       "<li><a href=\"/place/is/province/\" role=\"menuitem\">Provinces</a>\n",
       "<ul id=\"provinces-overview\">\n",
       "<li><a href=\"/place/eastern-cape/\" role=\"menuitem\">Eastern Cape</a></li>\n",
       "<li><a href=\"/place/free-state/\" role=\"menuitem\">Free State</a></li>\n",
       "<li><a href=\"/place/gauteng/\" role=\"menuitem\">Gauteng</a></li>\n",
       "<li><a href=\"/place/kwazulu-natal/\" role=\"menuitem\">KwaZulu-Natal</a></li>\n",
       "<li><a href=\"/place/limpopo/\" role=\"menuitem\">Limpopo</a></li>\n",
       "<li><a href=\"/place/mpumalanga/\" role=\"menuitem\">Mpumalanga</a></li>\n",
       "<li><a href=\"/place/northern-cape/\" role=\"menuitem\">Northern Cape</a></li>\n",
       "<li><a href=\"/place/north-west/\" role=\"menuitem\">North West</a></li>\n",
       "<li><a href=\"/place/western-cape/\" role=\"menuitem\">Western Cape</a></li>\n",
       "</ul>\n",
       "</li>\n",
       "</ul>\n",
       "</li>\n",
       "<li><a href=\"/blog/\" role=\"menuitem\">Blog</a></li>\n",
       "<li><a href=\"/position/member/parliament/?order=name&amp;a=1\" role=\"menuitem\">MP Profiles</a></li>\n",
       "<li><a href=\"/mp-attendance/\" role=\"menuitem\">MP Attendance</a></li>\n",
       "<li>\n",
       "<a aria-haspopup=\"true\" class=\"has-dropdown\" href=\"/info/public-participation\" role=\"menuitem\">Public Participation</a>\n",
       "<ul class=\"js-hover-dropdown\" id=\"extras-overview\" role=\"menu\">\n",
       "<li><a href=\"/info/make-yourself-heard\" role=\"menuitem\">Make yourself heard</a></li>\n",
       "<li>\n",
       "<a href=\"/info/elections\" role=\"menuitem\">Elections</a>\n",
       "<ul>\n",
       "<li><a href=\"/election/2014/\" role=\"menuitem\">Election 2014 Candidates</a></li>\n",
       "<li><a href=\"/election/2019/\" role=\"menuitem\">Election 2019 Candidates</a></li>\n",
       "</ul>\n",
       "</li>\n",
       "<li><a href=\"/info/petitions\" role=\"menuitem\">Petitions</a></li>\n",
       "<li><a href=\"/committees/\" role=\"menuitem\">Write to a Committee</a></li>\n",
       "</ul>\n",
       "</li>\n",
       "<li>\n",
       "<a aria-haspopup=\"true\" class=\"has-dropdown\" href=\"/info/hot-topics\" role=\"menuitem\">Hot Topics</a>\n",
       "<ul class=\"js-hover-dropdown\" id=\"extras-overview\" role=\"menu\">\n",
       "<li><a href=\"/question\" role=\"menuitem\">Questions</a></li>\n",
       "<li><a href=\"/interests/\" role=\"menuitem\">MP Assets</a></li>\n",
       "<li><a href=\"/blog/category/mp-corner\" role=\"menuitem\">MP Corner</a></li>\n",
       "<li><a href=\"/info/infographics\" role=\"menuitem\">Infographics</a></li>\n",
       "</ul>\n",
       "</li>\n",
       "<li class=\"header-search\" role=\"search\">\n",
       "<form action=\"/search/\" id=\"header-search\" method=\"get\">\n",
       "<input class=\"search-autocomplete-name\" name=\"q\" placeholder=\"Search pa.org.za\" type=\"text\"/>\n",
       "<button type=\"submit\">Submit</button>\n",
       "</form>\n",
       "</li>\n",
       "</ul>\n",
       "</nav>\n",
       "</div>\n",
       "<div id=\"breadcrumb\">\n",
       "<nav class=\"wrapper\">\n",
       "<ul>\n",
       "<li><a href=\"/\" title=\"Breadcrumb link to the homepage.\">Home</a> <span class=\"sep\">»</span> </li><li><a href=\"/person/all/\" title=\"Breadcrumb link to Politicians\">Politicians</a> <span class=\"sep\">»</span> </li><li>Alexandra Lilian Amelia Abrahams</li>\n",
       "</ul>\n",
       "</nav>\n",
       "</div>\n",
       "<div id=\"page\">\n",
       "<div class=\"page-wrapper wrapper\">\n",
       "<script type=\"text/javascript\">\n",
       "\n",
       "  var disqus_shortname = 'peoplesassembly';\n",
       "\n",
       "  var disqus_config = function () {\n",
       "    var disqus_identifier = 'person\\u002D14995';\n",
       "    this.page.url = 'http://www.pa.org.za/person/alexandra\\u002Dlilian\\u002Damelia\\u002Dabrahams/';\n",
       "    \n",
       "    this.page.title = 'Alexandra Lilian Amelia Abrahams (' + disqus_identifier + ')';\n",
       "    \n",
       "      this.page.identifier = disqus_identifier;\n",
       "    \n",
       "  };\n",
       "\n",
       "  var disqusScriptTagsAdded = {};\n",
       "\n",
       "  function addDisqusScriptTag (name) {\n",
       "    if (!disqusScriptTagsAdded[name]) {\n",
       "      var dsq = document.createElement('script');\n",
       "      dsq.type  = 'text/javascript';\n",
       "      dsq.async = true;\n",
       "      dsq.src   = 'https://' + disqus_shortname + '.disqus.com/' + name + '.js';\n",
       "      (document.getElementsByTagName('head')[0] || document.getElementsByTagName('body')[0]).appendChild(dsq);\n",
       "      disqusScriptTagsAdded[name] = true;\n",
       "    }\n",
       "  }\n",
       "\n",
       "  // Load the correct tag using either of these lines in your code. Don't worry\n",
       "  // about repeating them, subsequent calls are ignored. Annoyingly the 'embed'\n",
       "  // one produces an exception if it can't find the element it wants :(\n",
       "  //\n",
       "  // addDisqusScriptTag('embed');\n",
       "  // addDisqusScriptTag('count');\n",
       "\n",
       "</script>\n",
       "<div class=\"title-space\">\n",
       "<h1> Alexandra Lilian Amelia Abrahams</h1>\n",
       "<div class=\"important-positions\">\n",
       "<p>\n",
       "<span class=\"position-title\">National Assembly</span>\n",
       "</p>\n",
       "</div>\n",
       "<div class=\"contact-actions\">\n",
       "<div class=\"contact-actions__email\">\n",
       "<span class=\"email-address preferred\"><a href=\"mailto:alexandra.abrahams@gmail.com\">alexandra.abrahams@gmail.com</a></span>\n",
       "<span class=\"email-address\"><a href=\"mailto:aabrahams@parliament.gov.za\">aabrahams@parliament.gov.za</a></span>\n",
       "</div>\n",
       "</div>\n",
       "<div class=\"object_menu\">\n",
       "<nav>\n",
       "<ul>\n",
       "</ul>\n",
       "</nav>\n",
       "</div>\n",
       "</div>\n",
       "<div class=\"profile-pic\">\n",
       "<img alt=\"Alexandra Lilian Amelia Abrahams\" src=\"/media_root/cache/30/1b/301b79188d6bc9fbaf2fbed88cb92104.jpg\" srcset=\"/media_root/cache/ba/b3/bab3bb39573cf6ff4edac7ced7648d24.jpg 640w\"/>\n",
       "</div>\n",
       "<div class=\"profile-info\">\n",
       "<div class=\"sidebar\">\n",
       "<div class=\"constituency-party\">\n",
       "<h3>Party</h3>\n",
       "<ul class=\"party-memberships\">\n",
       "<li><a class=\"party-membership party-membership--party\" data-identifier-org.mysociety.za=\"/party/da\" data-identifier-wikidata=\"Q761877\" href=\"/organisation/da/\">Democratic Alliance (DA)</a></li>\n",
       "</ul>\n",
       "<h3>Phone</h3>\n",
       "<ul>\n",
       "<li><a href=\"tel:082 335 7740\">082 335 7740</a></li>\n",
       "</ul>\n",
       "<h3>Constituency Offices</h3>\n",
       "<ul>\n",
       "<li>Not associated with any constituency offices</li>\n",
       "</ul>\n",
       "<h3>Province</h3>\n",
       "<ul>\n",
       "<li><a data-identifier-wikidata=\"Q127167\" href=\"/place/western-cape/\">Western Cape</a></li>\n",
       "</ul>\n",
       "</div>\n",
       "</div>\n",
       "<div class=\"social-and-tools\">\n",
       "</div>\n",
       "</div>\n",
       "<div class=\"large-container\">\n",
       "<div class=\"person-summary\">\n",
       "<h3>About Alexandra Lilian Amelia Abrahams</h3>\n",
       "</div>\n",
       "<div class=\"tabs ui-tabs ui-widget person-tabs\">\n",
       "<ul class=\"tab-links ui-tabs-nav ui-helper-reset ui-helper-clearfix ui-widget-header\">\n",
       "<li class=\"ui-state-default\">\n",
       "<a class=\"ui-tabs-anchor\" href=\"#attendance\">Committee Attendance</a>\n",
       "</li>\n",
       "<li class=\"ui-state-default\">\n",
       "<a class=\"ui-tabs-anchor\" href=\"#experience\">Positions held</a>\n",
       "</li>\n",
       "<li class=\"ui-state-default\">\n",
       "<a class=\"ui-tabs-anchor\" href=\"#appearances\">Appearances</a>\n",
       "</li>\n",
       "</ul>\n",
       "<div class=\"tab-content ui-tabs-panel ui-widget-content\" id=\"attendance\">\n",
       "<div class=\"fifty-fifty-layout\">\n",
       "<div class=\"column\">\n",
       "<header>\n",
       "<h3 class=\"attendance__heading\">2019 committee attendance as mp</h3>\n",
       "</header>\n",
       "<p class=\"attendance__percentage\">100% attendance rate</p>\n",
       "<p class=\"attendance__context\">Attended 5 meetings out of 5</p>\n",
       "<ul class=\"attendance__notes\">\n",
       "<li>Attendance records reflect Committee not Plenary Attendance</li>\n",
       "<li>Minister/Deputy Minister attendance is not compulsory.</li>\n",
       "<li>MP attendance is compulsory unless an apology is given</li>\n",
       "<li>MPs are recorded as absent whether they have, or have not submitted apologies.</li>\n",
       "<li>This is not the official committee attendance record of Parliament.</li>\n",
       "<li>Plenary Attendance is not made public by Parliament although it has been requested.</li>\n",
       "</ul>\n",
       "</div>\n",
       "<div class=\"column\">\n",
       "<h3>Recent meetings attended</h3>\n",
       "<ul class=\"unstyled attendance__recently-attended\">\n",
       "<li><span class=\"committee-name\">Social Development — </span> <a href=\"https://pmg.org.za/committee-meeting/28865/\"><span class=\"meeting-title\">Induction Workshop: AGSA briefing; High Level Panel recommendations: Department of Social Development response</span></a> — <span class=\"meeting-date\">11 Sep 2019</span></li>\n",
       "<li><span class=\"committee-name\">Social Development — </span> <a href=\"https://pmg.org.za/committee-meeting/28808/\"><span class=\"meeting-title\">Foster Care System backlog: progress report; with Deputy Minister</span></a> — <span class=\"meeting-date\">4 Sep 2019</span></li>\n",
       "<li><span class=\"committee-name\">Social Development — </span> <a href=\"https://pmg.org.za/committee-meeting/28729/\"><span class=\"meeting-title\">Department of Social Development Quarterly performance, with Deputy Minister</span></a> — <span class=\"meeting-date\">21 Aug 2019</span></li>\n",
       "<li><span class=\"committee-name\">Social Development — </span> <a href=\"https://pmg.org.za/committee-meeting/28550/\"><span class=\"meeting-title\">Social Development Budget: Committee Report</span></a> — <span class=\"meeting-date\">10 Jul 2019</span></li>\n",
       "<li><span class=\"committee-name\">Social Development — </span> <a href=\"https://pmg.org.za/committee-meeting/28460/\"><span class=\"meeting-title\">Election of Committee Chairperson</span></a> — <span class=\"meeting-date\">2 Jul 2019</span></li>\n",
       "</ul>\n",
       "<p><a href=\"/person/alexandra-lilian-amelia-abrahams/attendances/\">All meetings attended</a></p>\n",
       "</div>\n",
       "</div>\n",
       "<p class=\"attendance__disclaimer\">DISCLAIMER: This information has been obtained via the Parliamentary Monitoring Group. PMG makes every effort to compile reliable and comprehensive information, but does not claim that the data is 100% accurate and complete.\n",
       "          </p>\n",
       "</div> <!-- .attendance -->\n",
       "<div class=\"tab-content ui-tabs-panel ui-widget-content\" id=\"experience\">\n",
       "<div class=\"person-experience\">\n",
       "<h3>Currently</h3>\n",
       "<ul class=\"current-positions positions\">\n",
       "<li>\n",
       "\n",
       "\n",
       "  Alternate Member\n",
       "    \n",
       "      \n",
       "        at <a href=\"/organisation/portfolio-committee-on-social-development/\">Portfolio Committee on Social Development (National Assembly Committees)</a>\n",
       "      \n",
       "    \n",
       "\n",
       "\n",
       "                       since 27th June 2019\n",
       "                    </li>\n",
       "<li>\n",
       "\n",
       "\n",
       "  Member\n",
       "    \n",
       "      \n",
       "        at <a href=\"/organisation/national-assembly/\">National Assembly (Parliament)</a>\n",
       "      \n",
       "    \n",
       "\n",
       "\n",
       "                       since 22nd May 2019\n",
       "                    </li>\n",
       "<li>\n",
       "\n",
       "\n",
       "  Member\n",
       "    \n",
       "      \n",
       "        at <a href=\"/organisation/da/\">Democratic Alliance (DA) (Party)</a>\n",
       "</li>\n",
       "</ul>\n",
       "<h3>Formerly</h3>\n",
       "<ul class=\"former-positions positions\">\n",
       "<li>\n",
       "\n",
       "\n",
       "  3rd Candidate\n",
       "    \n",
       "      \n",
       "        \n",
       "          \n",
       "            at <a href=\"/election/2019/national/western-cape/da/\">Democratic Alliance Regional Western Cape Election List 2019 (Election List)</a>\n",
       "          \n",
       "        \n",
       "      \n",
       "    \n",
       "\n",
       "\n",
       "                    \n",
       "                      from 23rd April 2019\n",
       "                    \n",
       "                    until 8th May 2019\n",
       "                  </li>\n",
       "</ul>\n",
       "</div> <!-- .person-experience -->\n",
       "</div> <!-- #experience -->\n",
       "<div class=\"tab-content ui-tabs-panel ui-widget-content\" id=\"appearances\">\n",
       "<section class=\"person-appearances\">\n",
       "<h3>Committee appearances</h3>\n",
       "<ul class=\"unstyled speeches\">\n",
       "<li>\n",
       "<p>\n",
       "<span class=\"speech-title\">\n",
       "<a href=\"/committee-minutes/social-development/04-september-2019/backlogs-in-foster-care-system-and-plans-to-addres#s139899398\">\n",
       "                    \n",
       "                        Backlogs in Foster Care System and plans to address it: DSD briefing\n",
       "                    \n",
       "                </a>\n",
       "</span>\n",
       "<span class=\"speech-date\">\n",
       "                4 Sep 2019\n",
       "            </span>\n",
       "</p>\n",
       "<div class=\"speech-text\">\n",
       "            Ms A Abrahams (DA) asked how many veterans will be employed and how will they be paid and can it confirm if the 566 social workers are currently employed? DSD is forcing NGOs to close down by taking away their adoption agency fees, yet DSD is complaining about the workload ...\n",
       "        </div>\n",
       "</li>\n",
       "<li>\n",
       "<p>\n",
       "<span class=\"speech-title\">\n",
       "<a href=\"/committee-minutes/social-development/21-august-2019/department-of-social-development-quarterly-perfoma#s139934071\">\n",
       "                    \n",
       "                        Department of Social Development Quarterly perfomance, Committee Programme\n",
       "                    \n",
       "                </a>\n",
       "</span>\n",
       "<span class=\"speech-date\">\n",
       "                21 Aug 2019\n",
       "            </span>\n",
       "</p>\n",
       "<div class=\"speech-text\">\n",
       "            Ms A Abrahams (DA) urged the DSD to send documents to the Committee ahead of future meetings. This helps Members to familiarise themselves with the contents of the documents. Underspending, no matter how little, is unacceptable and those responsible should be held accountable. There should not be any justification for ...\n",
       "        </div>\n",
       "</li>\n",
       "<li>\n",
       "<p>\n",
       "<span class=\"speech-title\">\n",
       "<a href=\"/committee-minutes/social-development/10-july-2019/social-development-budget-committee-report#s140003485\">\n",
       "                    \n",
       "                        Social Development Budget: Committee Report\n",
       "                    \n",
       "                </a>\n",
       "</span>\n",
       "<span class=\"speech-date\">\n",
       "                10 Jul 2019\n",
       "            </span>\n",
       "</p>\n",
       "<div class=\"speech-text\">\n",
       "            Ms A Abrahams (DA) observed that the incorporation of the Batho Pele principle into the attitude of the DSD's staff in relation to customer care -- as the mentioned by Minister during the meeting -- had not been captured in the report. She suggested that entities within the DSD should integrate ...\n",
       "        </div>\n",
       "</li>\n",
       "<li>\n",
       "<p>\n",
       "<span class=\"speech-title\">\n",
       "<a href=\"/committee-minutes/social-development/03-july-2019/department-of-social-development-national-developm#s139947863\">\n",
       "                    \n",
       "                        Department of Social Development &amp; National Development Agency 2019/20 Annual Performance Plan\n",
       "                    \n",
       "                </a>\n",
       "</span>\n",
       "<span class=\"speech-date\">\n",
       "                3 Jul 2019\n",
       "            </span>\n",
       "</p>\n",
       "<div class=\"speech-text\">\n",
       "            Ms A Abrahams (DA) asked why SASSA did not attach conditions to receiving grants. Conditions might help in alleviating the problem of children having children, and parents using the money for drugs and alcohol. She also raised a concern that at 15h45, some SASSA employees were slamming doors in the ...\n",
       "        </div>\n",
       "</li>\n",
       "<li>\n",
       "<p>\n",
       "<span class=\"speech-title\">\n",
       "<a href=\"/committee-minutes/social-development/02-july-2019/election-of-chairperson#s139951596\">\n",
       "                    \n",
       "                        Election of Chairperson\n",
       "                    \n",
       "                </a>\n",
       "</span>\n",
       "<span class=\"speech-date\">\n",
       "                2 Jul 2019\n",
       "            </span>\n",
       "</p>\n",
       "<div class=\"speech-text\">\n",
       "            Ms A Abrahams (DA) requested that the next meeting of the Committee be moved to Thursday, 4 July 2019.\n",
       "        </div>\n",
       "</li>\n",
       "</ul>\n",
       "<p><a href=\"/person/alexandra-lilian-amelia-abrahams/appearances/committee\">All Committee Appearances</a></p>\n",
       "</section>\n",
       "<section class=\"person-appearances\">\n",
       "<h3>Questions</h3>\n",
       "<ul class=\"unstyled speeches\">\n",
       "    \n",
       "        No questions found\n",
       "    \n",
       "</ul>\n",
       "</section>\n",
       "<section class=\"person-appearances\">\n",
       "<h3>Plenary appearances</h3>\n",
       "<ul class=\"unstyled speeches\">\n",
       "    \n",
       "        No appearances found\n",
       "    \n",
       "</ul>\n",
       "</section>\n",
       "</div>\n",
       "</div> <!-- tabs -->\n",
       "</div>\n",
       "<br clear=\"both\"/>\n",
       "<a class=\"feedback-button button feedback_link\" href=\"/feedback/?url=http://www.pa.org.za/person/alexandra-lilian-amelia-abrahams/\">Correct this page</a>\n",
       "</div>\n",
       "</div>\n",
       "<footer id=\"site-footer\">\n",
       "<div class=\"wrapper\">\n",
       "<div class=\"footer-section\">\n",
       "<h4>Sign up to our mailing list</h4>\n",
       "<div class=\"email-signup\">\n",
       "<form action=\"https://mail4.marketingautomation.services/prospector/thanks/MzawMDE2MrUwBwA/f224712b-064b-4d8f-8aa8-c4f3ebf691e8\" enctype=\"multipart/form-data\" id=\"form_f224712b-064b-4d8f-8aa8-c4f3ebf691e8\" method=\"post\" target=\"_blank\">\n",
       "<label class=\"visuallyhidden\" for=\"field_350159876\">Email</label>\n",
       "<input class=\"required email\" id=\"350159876\" maxlength=\"255\" name=\"field_350159876\" placeholder=\"Your email\" type=\"email\" value=\"\"/>\n",
       "<input name=\"formid__sb\" type=\"hidden\" value=\"f224712b-064b-4d8f-8aa8-c4f3ebf691e8\">\n",
       "<input name=\"companyprofileid__sb\" type=\"hidden\" value=\"MzawMDE2MrUwBwA\"/>\n",
       "<button class=\"button mailing-list-button\" id=\"submit_button\" name=\"submit__sb\" type=\"submit\">Sign up </button>\n",
       "</input></form>\n",
       "</div>\n",
       "<h4>Follow us</h4>\n",
       "<ul class=\"social-links-list\">\n",
       "<li><a class=\"email-social-icon\" href=\"https://mail4.marketingautomation.services/prospector/form/MzawMDE2MrUwBwA/SzMyMjE3NErSNTAzSdI1SbFI07VITLTQTTZJM05NSjOzNEy1AAA\">Email</a></li>\n",
       "<li><a class=\"facebook-social-icon\" href=\"https://www.facebook.com/peoplesassemblysa\">Facebook</a></li>\n",
       "<li><a class=\"twitter-social-icon\" href=\"https://twitter.com/PeoplesAssem_SA\">Twitter</a></li>\n",
       "<!--<li><a href=\"#\" class=\"youtube-social-icon\">YouTube</a></li>\n",
       "        <li><a href=\"#\" class=\"rss-social-icon\">RSS</a></li> -->\n",
       "</ul>\n",
       "</div>\n",
       "<div class=\"footer-section\" id=\"footer-menu\">\n",
       "<h4>Sitemap</h4>\n",
       "<ul class=\"nav\">\n",
       "<li><a href=\"/\" role=\"menuitem\">Home</a></li>\n",
       "<li><a href=\"/search/location/\" role=\"menuitem\">Rep Locator</a></li>\n",
       "<li>\n",
       "<a aria-haspopup=\"true\" class=\"has-dropdown\" role=\"menuitem\">People</a>\n",
       "<ul class=\"js-hover-dropdown\" id=\"parliament-overview\" role=\"menu\">\n",
       "<li><a href=\"/search/?section=persons\" role=\"menuitem\">Find by name</a></li>\n",
       "<li><a href=\"/organisation/is/parliament/\" role=\"menuitem\">Parliament</a>\n",
       "<ul>\n",
       "<li><a href=\"/organisation/national-assembly/\" role=\"menuitem\">National Assembly</a></li>\n",
       "<li><a href=\"/organisation/ncop/\" role=\"menuitem\">National Council of Provinces</a></li>\n",
       "</ul>\n",
       "</li>\n",
       "<li><a href=\"/place/is/province/\" role=\"menuitem\">Provinces</a>\n",
       "<ul id=\"provinces-overview\">\n",
       "<li><a href=\"/place/eastern-cape/\" role=\"menuitem\">Eastern Cape</a></li>\n",
       "<li><a href=\"/place/free-state/\" role=\"menuitem\">Free State</a></li>\n",
       "<li><a href=\"/place/gauteng/\" role=\"menuitem\">Gauteng</a></li>\n",
       "<li><a href=\"/place/kwazulu-natal/\" role=\"menuitem\">KwaZulu-Natal</a></li>\n",
       "<li><a href=\"/place/limpopo/\" role=\"menuitem\">Limpopo</a></li>\n",
       "<li><a href=\"/place/mpumalanga/\" role=\"menuitem\">Mpumalanga</a></li>\n",
       "<li><a href=\"/place/northern-cape/\" role=\"menuitem\">Northern Cape</a></li>\n",
       "<li><a href=\"/place/north-west/\" role=\"menuitem\">North West</a></li>\n",
       "<li><a href=\"/place/western-cape/\" role=\"menuitem\">Western Cape</a></li>\n",
       "</ul>\n",
       "</li>\n",
       "</ul>\n",
       "</li>\n",
       "<li><a href=\"/blog/\" role=\"menuitem\">Blog</a></li>\n",
       "<li><a href=\"/position/member/parliament/?order=name&amp;a=1\" role=\"menuitem\">MP Profiles</a></li>\n",
       "<li><a href=\"/mp-attendance/\" role=\"menuitem\">MP Attendance</a></li>\n",
       "<li>\n",
       "<a aria-haspopup=\"true\" class=\"has-dropdown\" href=\"/info/public-participation\" role=\"menuitem\">Public Participation</a>\n",
       "<ul class=\"js-hover-dropdown\" id=\"extras-overview\" role=\"menu\">\n",
       "<li><a href=\"/info/make-yourself-heard\" role=\"menuitem\">Make yourself heard</a></li>\n",
       "<li>\n",
       "<a href=\"/info/elections\" role=\"menuitem\">Elections</a>\n",
       "<ul>\n",
       "<li><a href=\"/election/2014/\" role=\"menuitem\">Election 2014 Candidates</a></li>\n",
       "<li><a href=\"/election/2019/\" role=\"menuitem\">Election 2019 Candidates</a></li>\n",
       "</ul>\n",
       "</li>\n",
       "<li><a href=\"/info/petitions\" role=\"menuitem\">Petitions</a></li>\n",
       "<li><a href=\"/committees/\" role=\"menuitem\">Write to a Committee</a></li>\n",
       "</ul>\n",
       "</li>\n",
       "<li>\n",
       "<a aria-haspopup=\"true\" class=\"has-dropdown\" href=\"/info/hot-topics\" role=\"menuitem\">Hot Topics</a>\n",
       "<ul class=\"js-hover-dropdown\" id=\"extras-overview\" role=\"menu\">\n",
       "<li><a href=\"/question\" role=\"menuitem\">Questions</a></li>\n",
       "<li><a href=\"/interests/\" role=\"menuitem\">MP Assets</a></li>\n",
       "<li><a href=\"/blog/category/mp-corner\" role=\"menuitem\">MP Corner</a></li>\n",
       "<li><a href=\"/info/infographics\" role=\"menuitem\">Infographics</a></li>\n",
       "</ul>\n",
       "</li>\n",
       "<li class=\"header-search\" role=\"search\">\n",
       "<form action=\"/search/\" id=\"header-search\" method=\"get\">\n",
       "<input class=\"search-autocomplete-name\" name=\"q\" placeholder=\"Search pa.org.za\" type=\"text\"/>\n",
       "<button type=\"submit\">Submit</button>\n",
       "</form>\n",
       "</li>\n",
       "<li><a href=\"/info/links\">Links</a></li>\n",
       "<li><a href=\"/help/api\">Get the data</a>\n",
       "</li></ul>\n",
       "</div>\n",
       "<div class=\"footer-section vcard contact-details\">\n",
       "<h4>Contact us</h4>\n",
       "<h5 class=\"fn org\">People's Assembly</h5>\n",
       "<div class=\"col-one\">\n",
       "<a class=\"email block\" href=\"mailto:contact@pa.org.za\">contact@pa.org.za</a>\n",
       "<p class=\"block\">Tel: <span class=\"tel\">(021) 465 8885</span></p>\n",
       "<p class=\"block\">Fax: (021) 465 8887</p>\n",
       "</div>\n",
       "<div class=\"adr col-two\">\n",
       "<div class=\"street-address block\">\n",
       "<span class=\"block\">2nd floor, Associated Magazines</span>\n",
       "<span class=\"block\">21 St Johns Street</span>\n",
       "</div>\n",
       "<div class=\"block\">\n",
       "<span class=\"locality\">Cape Town</span>\n",
       "<span class=\"postal-code\">8001</span>\n",
       "</div>\n",
       "</div>\n",
       "</div>\n",
       "<div class=\"footer-full-width\">\n",
       "<div class=\"layout-major-minor thirds\">\n",
       "<div class=\"disclaimer major-column\">\n",
       "<h4>Disclaimer</h4>\n",
       "<p>The data for this site has been sourced form a range of organisations and websites and often received in formats that are hard to process. As a result, errors can occur - if you see something that you think is an error, please click on the \"Correct This Page\" button and let us know so that we can investigate. Please <a href=\"/info/source-data\">click here</a> to read more about our source data.</p>\n",
       "</div>\n",
       "<ul class=\"utilities minor-column\">\n",
       "<li><a href=\"/info/policies\">Privacy</a></li>\n",
       "<li><a class=\"feedback_link\" href=\"/feedback/?url=http://www.pa.org.za/person/alexandra-lilian-amelia-abrahams/\">Give us feedback</a></li>\n",
       "</ul>\n",
       "</div>\n",
       "</div>\n",
       "</div>\n",
       "<div class=\"attribution\">\n",
       "<p>This site runs on <a href=\"https://www.mysociety.org/projects/parliamentary-monitoring/pombola/\">open source code</a> written by <a href=\"http://www.mysociety.org\">mySociety</a>.</p>\n",
       "</div>\n",
       "</footer>\n",
       "<script src=\"//ajax.googleapis.com/ajax/libs/jquery/1.7.1/jquery.min.js\"></script>\n",
       "<script src=\"//www.google.com/jsapi\"></script>\n",
       "<script charset=\"utf-8\" src=\"/static/js/base.fdc922693c30.js\" type=\"text/javascript\"></script>\n",
       "<script charset=\"utf-8\" src=\"/static/js/survey.e2b394461e8c.js\" type=\"text/javascript\"></script>\n",
       "<script charset=\"utf-8\" src=\"/static/js/tabs.469035429a02.js\" type=\"text/javascript\"></script>\n",
       "<script charset=\"utf-8\" src=\"/static/js/person-messages-ajax.c6c77c6cca5a.js\" type=\"text/javascript\"></script>\n",
       "<div id=\"fb-root\"></div>\n",
       "</body>\n",
       "</html>"
      ]
     },
     "execution_count": 139,
     "metadata": {},
     "output_type": "execute_result"
    }
   ],
   "source": [
    "person = read_html(url)\n",
    "person"
   ]
  },
  {
   "cell_type": "markdown",
   "metadata": {},
   "source": [
    "### Name\n",
    "\n",
    "Start by retrieving the person's name. Need to get the appropriate CSS selector. In this case it's easy: it's the only `<h1>` tag on the page."
   ]
  },
  {
   "cell_type": "code",
   "execution_count": 140,
   "metadata": {},
   "outputs": [
    {
     "data": {
      "text/plain": [
       "[<h1> Alexandra Lilian Amelia Abrahams</h1>]"
      ]
     },
     "execution_count": 140,
     "metadata": {},
     "output_type": "execute_result"
    }
   ],
   "source": [
    "person.select('h1')"
   ]
  },
  {
   "cell_type": "markdown",
   "metadata": {},
   "source": [
    "The `select()` method returns *all* tags which match the selector. If we want just the first one then use the `select_one()` method."
   ]
  },
  {
   "cell_type": "code",
   "execution_count": 141,
   "metadata": {},
   "outputs": [
    {
     "data": {
      "text/plain": [
       "<h1> Alexandra Lilian Amelia Abrahams</h1>"
      ]
     },
     "execution_count": 141,
     "metadata": {},
     "output_type": "execute_result"
    }
   ],
   "source": [
    "person.select_one('h1')"
   ]
  },
  {
   "cell_type": "code",
   "execution_count": 142,
   "metadata": {},
   "outputs": [
    {
     "data": {
      "text/plain": [
       "bs4.element.Tag"
      ]
     },
     "execution_count": 142,
     "metadata": {},
     "output_type": "execute_result"
    }
   ],
   "source": [
    "type(person.select_one('h1'))"
   ]
  },
  {
   "cell_type": "markdown",
   "metadata": {},
   "source": [
    "If we want the text enclosed by the tag then we access the `text` attribute."
   ]
  },
  {
   "cell_type": "code",
   "execution_count": 143,
   "metadata": {},
   "outputs": [
    {
     "data": {
      "text/plain": [
       "' Alexandra Lilian Amelia Abrahams'"
      ]
     },
     "execution_count": 143,
     "metadata": {},
     "output_type": "execute_result"
    }
   ],
   "source": [
    "person \\\n",
    "    .select_one('h1') \\\n",
    "    .text"
   ]
  },
  {
   "cell_type": "markdown",
   "metadata": {},
   "source": [
    "<span style=\"color: #3498db;\">**↯ Exercise**</span> Raw scraped data are often grubby. Remove excess whitespace."
   ]
  },
  {
   "cell_type": "code",
   "execution_count": 144,
   "metadata": {},
   "outputs": [],
   "source": [
    "# ------------------------------------------------------------------------------\n",
    "#\n",
    "# Your code goes here.\n",
    "#\n",
    "# ------------------------------------------------------------------------------"
   ]
  },
  {
   "cell_type": "code",
   "execution_count": 145,
   "metadata": {
    "tags": [
     "exercise",
     "solution"
    ]
   },
   "outputs": [
    {
     "data": {
      "text/plain": [
       "'Alexandra Lilian Amelia Abrahams'"
      ]
     },
     "execution_count": 145,
     "metadata": {},
     "output_type": "execute_result"
    }
   ],
   "source": [
    "person.select_one('h1').text \\\n",
    "    .strip()"
   ]
  },
  {
   "cell_type": "markdown",
   "metadata": {},
   "source": [
    "### Affiliation\n",
    "\n",
    "Next let's get party affiliation. This information is in an `<a>` tag but it's the only tag on the page which has the `party-membership--party` class."
   ]
  },
  {
   "cell_type": "code",
   "execution_count": 146,
   "metadata": {},
   "outputs": [
    {
     "data": {
      "text/plain": [
       "<a class=\"party-membership party-membership--party\" data-identifier-org.mysociety.za=\"/party/da\" data-identifier-wikidata=\"Q761877\" href=\"/organisation/da/\">Democratic Alliance (DA)</a>"
      ]
     },
     "execution_count": 146,
     "metadata": {},
     "output_type": "execute_result"
    }
   ],
   "source": [
    "affiliation = person.select_one('.party-membership--party')\n",
    "affiliation"
   ]
  },
  {
   "cell_type": "code",
   "execution_count": 147,
   "metadata": {},
   "outputs": [
    {
     "data": {
      "text/plain": [
       "'Democratic Alliance (DA)'"
      ]
     },
     "execution_count": 147,
     "metadata": {},
     "output_type": "execute_result"
    }
   ],
   "source": [
    "affiliation.text"
   ]
  },
  {
   "cell_type": "markdown",
   "metadata": {},
   "source": [
    "Let's take a moment to dig into the tag object."
   ]
  },
  {
   "cell_type": "code",
   "execution_count": 148,
   "metadata": {},
   "outputs": [
    {
     "data": {
      "text/plain": [
       "'a'"
      ]
     },
     "execution_count": 148,
     "metadata": {},
     "output_type": "execute_result"
    }
   ],
   "source": [
    "affiliation.name"
   ]
  },
  {
   "cell_type": "code",
   "execution_count": 149,
   "metadata": {},
   "outputs": [
    {
     "data": {
      "text/plain": [
       "{'href': '/organisation/da/',\n",
       " 'data-identifier-org.mysociety.za': '/party/da',\n",
       " 'data-identifier-wikidata': 'Q761877',\n",
       " 'class': ['party-membership', 'party-membership--party']}"
      ]
     },
     "execution_count": 149,
     "metadata": {},
     "output_type": "execute_result"
    }
   ],
   "source": [
    "affiliation.attrs"
   ]
  },
  {
   "cell_type": "markdown",
   "metadata": {},
   "source": [
    "This is a dictionary of attributes."
   ]
  },
  {
   "cell_type": "code",
   "execution_count": 150,
   "metadata": {},
   "outputs": [
    {
     "data": {
      "text/plain": [
       "'/organisation/da/'"
      ]
     },
     "execution_count": 150,
     "metadata": {},
     "output_type": "execute_result"
    }
   ],
   "source": [
    "affiliation.attrs['href']"
   ]
  },
  {
   "cell_type": "markdown",
   "metadata": {},
   "source": [
    "## Email Address\n",
    "\n",
    "Now let's get the email address. The address is in a `<a>` tag nested inside a `<span>` with class `email-address`. There might be multiple email addresses, so here we use `select()` to capture all of them."
   ]
  },
  {
   "cell_type": "code",
   "execution_count": 151,
   "metadata": {},
   "outputs": [
    {
     "data": {
      "text/plain": [
       "[<a href=\"mailto:alexandra.abrahams@gmail.com\">alexandra.abrahams@gmail.com</a>,\n",
       " <a href=\"mailto:aabrahams@parliament.gov.za\">aabrahams@parliament.gov.za</a>]"
      ]
     },
     "execution_count": 151,
     "metadata": {},
     "output_type": "execute_result"
    }
   ],
   "source": [
    "person.select('.email-address a')"
   ]
  },
  {
   "cell_type": "markdown",
   "metadata": {},
   "source": [
    "Access the text for each tag using a list comprehension."
   ]
  },
  {
   "cell_type": "code",
   "execution_count": 152,
   "metadata": {},
   "outputs": [
    {
     "data": {
      "text/plain": [
       "['alexandra.abrahams@gmail.com', 'aabrahams@parliament.gov.za']"
      ]
     },
     "execution_count": 152,
     "metadata": {},
     "output_type": "execute_result"
    }
   ],
   "source": [
    "[a.text for a in person.select('.email-address a')]"
   ]
  },
  {
   "cell_type": "markdown",
   "metadata": {},
   "source": [
    "<span style=\"color: #3498db;\">**↯ Exercise**</span> Concatenate multiple email addresses with a semicolon separator."
   ]
  },
  {
   "cell_type": "code",
   "execution_count": 153,
   "metadata": {},
   "outputs": [],
   "source": [
    "# ------------------------------------------------------------------------------\n",
    "#\n",
    "# Your code goes here.\n",
    "#\n",
    "# ------------------------------------------------------------------------------"
   ]
  },
  {
   "cell_type": "code",
   "execution_count": 154,
   "metadata": {
    "tags": [
     "exercise",
     "solution"
    ]
   },
   "outputs": [
    {
     "data": {
      "text/plain": [
       "'alexandra.abrahams@gmail.com; aabrahams@parliament.gov.za'"
      ]
     },
     "execution_count": 154,
     "metadata": {},
     "output_type": "execute_result"
    }
   ],
   "source": [
    "'; '.join([a.text for a in person.select('.email-address a')])"
   ]
  },
  {
   "cell_type": "markdown",
   "metadata": {},
   "source": [
    "## Phone Number\n",
    "\n",
    "Extracing the phone number requires a slightly more sophisticated selector."
   ]
  },
  {
   "cell_type": "code",
   "execution_count": 155,
   "metadata": {},
   "outputs": [
    {
     "data": {
      "text/plain": [
       "[<a href=\"tel:082 335 7740\">082 335 7740</a>]"
      ]
     },
     "execution_count": 155,
     "metadata": {},
     "output_type": "execute_result"
    }
   ],
   "source": [
    "person.select('a[href^=\"tel:\"]')"
   ]
  },
  {
   "cell_type": "markdown",
   "metadata": {},
   "source": [
    "Again we need to cater for multiple phone numbers."
   ]
  },
  {
   "cell_type": "code",
   "execution_count": 156,
   "metadata": {},
   "outputs": [
    {
     "data": {
      "text/plain": [
       "'082 335 7740'"
      ]
     },
     "execution_count": 156,
     "metadata": {},
     "output_type": "execute_result"
    }
   ],
   "source": [
    "'; '.join([a.text for a in person.select('[href^=\"tel:\"]')])"
   ]
  },
  {
   "cell_type": "markdown",
   "metadata": {},
   "source": [
    "This is good progress, but if we want to do this systematically across all members then we'll need to write another function."
   ]
  },
  {
   "cell_type": "markdown",
   "metadata": {},
   "source": [
    "## Scraping Function\n",
    "\n",
    "The function should accept an URL and return a dictionary with the scraped data."
   ]
  },
  {
   "cell_type": "code",
   "execution_count": 157,
   "metadata": {},
   "outputs": [],
   "source": [
    "def get_person(url):\n",
    "    person = read_html(url)\n",
    "    #\n",
    "    if person is None:\n",
    "        return None\n",
    "    else:\n",
    "        return {\n",
    "            'name': person.select_one('h1').text.strip(),\n",
    "            'party': person.select_one('.party-membership--party').text,\n",
    "            'phone': '; '.join([a.text for a in person.select('[href^=\"tel:\"]')]),\n",
    "            'email': '; '.join([a.text for a in person.select('.email-address a')])\n",
    "        }"
   ]
  },
  {
   "cell_type": "markdown",
   "metadata": {},
   "source": [
    "Let's run a few quick tests on the following members:\n",
    "\n",
    "- [Alexandra Lilian Amelia Abrahams](https://www.pa.org.za/person/alexandra-lilian-amelia-abrahams/)\n",
    "- [Rachel Cecilia Adams](https://www.pa.org.za/person/rachel-cecilia-adams/) and\n",
    "- [Mr Michael Bagraim](https://www.pa.org.za/person/michael-bagraim/)."
   ]
  },
  {
   "cell_type": "code",
   "execution_count": 158,
   "metadata": {},
   "outputs": [
    {
     "data": {
      "text/plain": [
       "{'name': 'Alexandra Lilian Amelia Abrahams',\n",
       " 'party': 'Democratic Alliance (DA)',\n",
       " 'phone': '082 335 7740',\n",
       " 'email': 'alexandra.abrahams@gmail.com; aabrahams@parliament.gov.za'}"
      ]
     },
     "execution_count": 158,
     "metadata": {},
     "output_type": "execute_result"
    }
   ],
   "source": [
    "get_person('https://www.pa.org.za/person/alexandra-lilian-amelia-abrahams/')"
   ]
  },
  {
   "cell_type": "code",
   "execution_count": 159,
   "metadata": {},
   "outputs": [
    {
     "data": {
      "text/plain": [
       "{'name': 'Rachel Cecilia Adams',\n",
       " 'party': 'African National Congress (ANC)',\n",
       " 'phone': '',\n",
       " 'email': 'radams@parliament.gov.za'}"
      ]
     },
     "execution_count": 159,
     "metadata": {},
     "output_type": "execute_result"
    }
   ],
   "source": [
    "get_person('https://www.pa.org.za/person/rachel-cecilia-adams/')"
   ]
  },
  {
   "cell_type": "code",
   "execution_count": 160,
   "metadata": {},
   "outputs": [
    {
     "data": {
      "text/plain": [
       "{'name': 'Mr Michael Bagraim',\n",
       " 'party': 'Democratic Alliance (DA)',\n",
       " 'phone': '082 557 7933; 021 403 3474',\n",
       " 'email': 'bagm@iafrica.com; michael@bagraims.co.za'}"
      ]
     },
     "execution_count": 160,
     "metadata": {},
     "output_type": "execute_result"
    }
   ],
   "source": [
    "get_person('https://www.pa.org.za/person/michael-bagraim/')"
   ]
  },
  {
   "cell_type": "markdown",
   "metadata": {},
   "source": [
    "Those all look good. I think we're ready to start scraping at scale!"
   ]
  },
  {
   "cell_type": "markdown",
   "metadata": {},
   "source": [
    "## Scraping All Members\n",
    "\n",
    "First get the HTML for the index page."
   ]
  },
  {
   "cell_type": "code",
   "execution_count": 161,
   "metadata": {},
   "outputs": [],
   "source": [
    "directory = read_html(URL)"
   ]
  },
  {
   "cell_type": "markdown",
   "metadata": {},
   "source": [
    "Extract all of the URLs for members' pages. These URLs are in `<div>` tags with `single-mp` class. Within the `<div>` is an `<a>` linking to the member page.\n",
    "\n",
    "Let's start by looking at a single anchor tag."
   ]
  },
  {
   "cell_type": "code",
   "execution_count": 162,
   "metadata": {},
   "outputs": [
    {
     "data": {
      "text/plain": [
       "<a class=\"content-card flex\" href=\"https://www.pa.org.za/person/noxolo-abraham-ntantiso/\">\n",
       "<img alt=\"Abraham-Ntantiso, Ms PN\" class=\"member-profile-pic\" src=\"http://pmg-assets.s3-website-eu-west-1.amazonaws.com/Abrahams_NP.jpg\"/>\n",
       "<div>\n",
       "<h4 class=\"card-title name\">Abraham-Ntantiso, Ms PN</h4></div></a>"
      ]
     },
     "execution_count": 162,
     "metadata": {},
     "output_type": "execute_result"
    }
   ],
   "source": [
    "directory.select_one('.single-mp a')"
   ]
  },
  {
   "cell_type": "markdown",
   "metadata": {},
   "source": [
    "Now we need to iterate over all of these tags and extract the `href` attribute from each one."
   ]
  },
  {
   "cell_type": "code",
   "execution_count": 163,
   "metadata": {},
   "outputs": [],
   "source": [
    "parliament = [a.attrs['href'] for a in directory.select('.single-mp a')]"
   ]
  },
  {
   "cell_type": "code",
   "execution_count": 164,
   "metadata": {},
   "outputs": [
    {
     "data": {
      "text/plain": [
       "454"
      ]
     },
     "execution_count": 164,
     "metadata": {},
     "output_type": "execute_result"
    }
   ],
   "source": [
    "# How many links?\n",
    "#\n",
    "len(parliament)"
   ]
  },
  {
   "cell_type": "code",
   "execution_count": 165,
   "metadata": {},
   "outputs": [
    {
     "data": {
      "text/plain": [
       "['https://www.pa.org.za/person/noxolo-abraham-ntantiso/',\n",
       " 'https://www.pa.org.za/person/alexandra-lilian-amelia-abrahams/',\n",
       " 'https://www.pa.org.za/person/rachel-cecilia-adams/',\n",
       " 'https://www.pa.org.za/person/nombuyiselo-gladys-adoons/',\n",
       " 'https://www.pa.org.za/person/heinrich-giovanni-april/',\n",
       " 'https://www.pa.org.za/person/laetitia-heloise-arries/',\n",
       " 'https://www.pa.org.za/person/shaun-nigel-august/',\n",
       " 'https://www.pa.org.za/person/michael-bagraim/',\n",
       " 'https://www.pa.org.za/person/kopeng-obed-bapela/',\n",
       " 'https://www.pa.org.za/person/leonard-jones-basson/']"
      ]
     },
     "execution_count": 165,
     "metadata": {},
     "output_type": "execute_result"
    }
   ],
   "source": [
    "# Take a look at the first few links.\n",
    "#\n",
    "parliament[:10]"
   ]
  },
  {
   "cell_type": "markdown",
   "metadata": {},
   "source": [
    "Keep only URLs which are on <https://www.pa.org.za/>."
   ]
  },
  {
   "cell_type": "code",
   "execution_count": 166,
   "metadata": {},
   "outputs": [],
   "source": [
    "pattern_url = re.compile('^https://www.pa.org.za/')\n",
    "\n",
    "parliament = [url for url in parliament if pattern_url.match(url)]"
   ]
  },
  {
   "cell_type": "markdown",
   "metadata": {},
   "source": [
    "How many are left?"
   ]
  },
  {
   "cell_type": "code",
   "execution_count": 167,
   "metadata": {},
   "outputs": [
    {
     "data": {
      "text/plain": [
       "452"
      ]
     },
     "execution_count": 167,
     "metadata": {},
     "output_type": "execute_result"
    }
   ],
   "source": [
    "len(parliament)"
   ]
  },
  {
   "cell_type": "markdown",
   "metadata": {},
   "source": [
    "Now iterate over a random subset of URLs, scraping each one in turn."
   ]
  },
  {
   "cell_type": "code",
   "execution_count": 168,
   "metadata": {},
   "outputs": [],
   "source": [
    "tic = time.time()\n",
    "#\n",
    "members = [get_person(url) for url in random.sample(parliament, 20)]\n",
    "#\n",
    "toc = time.time()"
   ]
  },
  {
   "cell_type": "code",
   "execution_count": 169,
   "metadata": {},
   "outputs": [
    {
     "data": {
      "text/plain": [
       "[{'name': 'Nonkosi Queenie Mvana',\n",
       "  'party': 'African National Congress (ANC)',\n",
       "  'phone': '082 494 9364',\n",
       "  'email': 'nmvana@parliament.gov.za'},\n",
       " {'name': 'Sibusiso Welcome Mdabe',\n",
       "  'party': 'African National Congress (ANC)',\n",
       "  'phone': '',\n",
       "  'email': 'smdabe@parliament.gov.za'},\n",
       " {'name': 'Ms Nkagisang Poppy Koni',\n",
       "  'party': 'Economic Freedom Fighters (EFF)',\n",
       "  'phone': '073 220 6647; 065 845 8619; 021 403 8871',\n",
       "  'email': 'nkagimok111@gmail.com'}]"
      ]
     },
     "execution_count": 169,
     "metadata": {},
     "output_type": "execute_result"
    }
   ],
   "source": [
    "members[:3]"
   ]
  },
  {
   "cell_type": "code",
   "execution_count": 170,
   "metadata": {},
   "outputs": [
    {
     "name": "stdout",
     "output_type": "stream",
     "text": [
      "Elapsed time: 19.320s\n"
     ]
    }
   ],
   "source": [
    "print('Elapsed time: %.3fs' % (toc - tic))"
   ]
  },
  {
   "cell_type": "markdown",
   "metadata": {},
   "source": [
    "<span style=\"color: #3498db;\">**↯ Exercise**</span> Make the code above a little more server-friendly by introducing a delay. *Hint:* Use `time.sleep()` to pause and `np.random.poisson()` to sample a random number of seconds."
   ]
  },
  {
   "cell_type": "code",
   "execution_count": 171,
   "metadata": {},
   "outputs": [],
   "source": [
    "# ------------------------------------------------------------------------------\n",
    "#\n",
    "# Your code goes here.\n",
    "#\n",
    "# ------------------------------------------------------------------------------"
   ]
  },
  {
   "cell_type": "code",
   "execution_count": 172,
   "metadata": {
    "tags": [
     "exercise",
     "solution"
    ]
   },
   "outputs": [
    {
     "name": "stdout",
     "output_type": "stream",
     "text": [
      "Elapsed time: 118.557s\n"
     ]
    }
   ],
   "source": [
    "def get_person_delay(url, mean):\n",
    "    time.sleep(np.random.poisson(mean))\n",
    "    return get_person(url)\n",
    "\n",
    "tic = time.time()\n",
    "#\n",
    "# Sleep (on average) 5 seconds before retrieving URL.\n",
    "members = [get_person_delay(url, 5)for url in random.sample(parliament, 20)]\n",
    "#\n",
    "toc = time.time()\n",
    "\n",
    "print('Elapsed time: %.3fs' % (toc - tic))"
   ]
  },
  {
   "cell_type": "markdown",
   "metadata": {},
   "source": [
    "Drop records without data."
   ]
  },
  {
   "cell_type": "code",
   "execution_count": 173,
   "metadata": {},
   "outputs": [],
   "source": [
    "members = [m for m in members if m is not None]"
   ]
  },
  {
   "cell_type": "markdown",
   "metadata": {},
   "source": [
    "Now convert to a data frame."
   ]
  },
  {
   "cell_type": "code",
   "execution_count": 174,
   "metadata": {},
   "outputs": [
    {
     "data": {
      "text/html": [
       "<div>\n",
       "<style scoped>\n",
       "    .dataframe tbody tr th:only-of-type {\n",
       "        vertical-align: middle;\n",
       "    }\n",
       "\n",
       "    .dataframe tbody tr th {\n",
       "        vertical-align: top;\n",
       "    }\n",
       "\n",
       "    .dataframe thead th {\n",
       "        text-align: right;\n",
       "    }\n",
       "</style>\n",
       "<table border=\"1\" class=\"dataframe\">\n",
       "  <thead>\n",
       "    <tr style=\"text-align: right;\">\n",
       "      <th></th>\n",
       "      <th>name</th>\n",
       "      <th>party</th>\n",
       "      <th>phone</th>\n",
       "      <th>email</th>\n",
       "    </tr>\n",
       "  </thead>\n",
       "  <tbody>\n",
       "    <tr>\n",
       "      <th>0</th>\n",
       "      <td>Ms Regina Mina Mpontseng Lesoma</td>\n",
       "      <td>African National Congress (ANC)</td>\n",
       "      <td>073 454 9545; 021 403 2911</td>\n",
       "      <td>mlesoma@parliament.gov.za</td>\n",
       "    </tr>\n",
       "    <tr>\n",
       "      <th>1</th>\n",
       "      <td>Ms Winnie Ngwenya</td>\n",
       "      <td>African National Congress (ANC)</td>\n",
       "      <td></td>\n",
       "      <td>wngwenya@parliament.gov.za</td>\n",
       "    </tr>\n",
       "    <tr>\n",
       "      <th>2</th>\n",
       "      <td>Thembi Portia Msane</td>\n",
       "      <td>Economic Freedom Fighters (EFF)</td>\n",
       "      <td>060 560 2959; 061 467 8169</td>\n",
       "      <td>msanethembi@gmail.com</td>\n",
       "    </tr>\n",
       "    <tr>\n",
       "      <th>3</th>\n",
       "      <td>Stephanus Franszouis Du Toit</td>\n",
       "      <td>Freedom Front + (Vryheidsfront Plus, FF+)</td>\n",
       "      <td></td>\n",
       "      <td></td>\n",
       "    </tr>\n",
       "    <tr>\n",
       "      <th>4</th>\n",
       "      <td>Ms Lusizo Sharon Makhubela-Mashele</td>\n",
       "      <td>African National Congress (ANC)</td>\n",
       "      <td>082 699 6732; 079 246 7887; 021 403 3051</td>\n",
       "      <td>lmakhubela-mashele@parliament.gov.za</td>\n",
       "    </tr>\n",
       "    <tr>\n",
       "      <th>5</th>\n",
       "      <td>Mr Maliyakhe Lymon Shelembe</td>\n",
       "      <td>Democratic Alliance (DA)</td>\n",
       "      <td>021 403 3036</td>\n",
       "      <td>maliyakhezn@gmail.com; mshelembe@parliament.go...</td>\n",
       "    </tr>\n",
       "    <tr>\n",
       "      <th>6</th>\n",
       "      <td>Moletsane Simon Moletsane</td>\n",
       "      <td>Economic Freedom Fighters (EFF)</td>\n",
       "      <td></td>\n",
       "      <td></td>\n",
       "    </tr>\n",
       "    <tr>\n",
       "      <th>7</th>\n",
       "      <td>Mr Dikgang Mathews Stock</td>\n",
       "      <td>African National Congress (ANC)</td>\n",
       "      <td>071 645 9014; 021 403 3949</td>\n",
       "      <td>dstock@parliament.gov.za</td>\n",
       "    </tr>\n",
       "    <tr>\n",
       "      <th>8</th>\n",
       "      <td>Ms Pam Tshwete</td>\n",
       "      <td>African National Congress (ANC)</td>\n",
       "      <td>076 786 5681; 012 336 6696</td>\n",
       "      <td>Eartha.Scholtz@dhs.gov.za; jonesn@dws.gov.za</td>\n",
       "    </tr>\n",
       "    <tr>\n",
       "      <th>9</th>\n",
       "      <td>Ms Bongiwe Pricilla Mbinqo-Gigaba</td>\n",
       "      <td>African National Congress (ANC)</td>\n",
       "      <td>083 709 8441; 021 403 2531</td>\n",
       "      <td>rnourse@parliament.gov.za</td>\n",
       "    </tr>\n",
       "    <tr>\n",
       "      <th>10</th>\n",
       "      <td>Mr Pravin Gordhan</td>\n",
       "      <td>African National Congress (ANC)</td>\n",
       "      <td>012 431 1098; 021 469 6762</td>\n",
       "      <td>busi.sokhulu@dpe.gov.za</td>\n",
       "    </tr>\n",
       "    <tr>\n",
       "      <th>11</th>\n",
       "      <td>Baxolile Babongile Nodada</td>\n",
       "      <td>Democratic Alliance (DA)</td>\n",
       "      <td>063 795 7519</td>\n",
       "      <td>baxolilenodada@gmail.com</td>\n",
       "    </tr>\n",
       "    <tr>\n",
       "      <th>12</th>\n",
       "      <td>Mr Bheki Cele</td>\n",
       "      <td>African National Congress (ANC)</td>\n",
       "      <td>079 302 0100; 012 467 7001</td>\n",
       "      <td>mubiana@saps.gov.za</td>\n",
       "    </tr>\n",
       "    <tr>\n",
       "      <th>13</th>\n",
       "      <td>Samantha Jane Graham</td>\n",
       "      <td>Democratic Alliance (DA)</td>\n",
       "      <td>083 409 9196</td>\n",
       "      <td>samanthajgraham27@gmail.com</td>\n",
       "    </tr>\n",
       "    <tr>\n",
       "      <th>14</th>\n",
       "      <td>Seneanye Betta Lehihi</td>\n",
       "      <td>Economic Freedom Fighters (EFF)</td>\n",
       "      <td></td>\n",
       "      <td></td>\n",
       "    </tr>\n",
       "    <tr>\n",
       "      <th>15</th>\n",
       "      <td>Mr Yunus Ismail Carrim</td>\n",
       "      <td>African National Congress (ANC)</td>\n",
       "      <td>082 553 0174; 021 403 3948</td>\n",
       "      <td>ycarrim@parliament.gov.za; lweb@parliament.gov.za</td>\n",
       "    </tr>\n",
       "    <tr>\n",
       "      <th>16</th>\n",
       "      <td>Isaac Mbulelo Sileku</td>\n",
       "      <td>Democratic Alliance (DA)</td>\n",
       "      <td>0836380574</td>\n",
       "      <td>silekuisaac104@gmail.com</td>\n",
       "    </tr>\n",
       "    <tr>\n",
       "      <th>17</th>\n",
       "      <td>Mr John Jeffery</td>\n",
       "      <td>African National Congress (ANC)</td>\n",
       "      <td>082 568 8322; 012 406 4854; 012 300 5530</td>\n",
       "      <td>jmhlarhi@justice.gov.za</td>\n",
       "    </tr>\n",
       "    <tr>\n",
       "      <th>18</th>\n",
       "      <td>Mr Mondli Gungubele</td>\n",
       "      <td>African National Congress (ANC)</td>\n",
       "      <td>066 478 0091; 021 403 3225</td>\n",
       "      <td>mgungubele@parliament.gov.za; tmarubelele@parl...</td>\n",
       "    </tr>\n",
       "    <tr>\n",
       "      <th>19</th>\n",
       "      <td>Sam Zandamela</td>\n",
       "      <td>Economic Freedom Fighters (EFF)</td>\n",
       "      <td></td>\n",
       "      <td></td>\n",
       "    </tr>\n",
       "  </tbody>\n",
       "</table>\n",
       "</div>"
      ],
      "text/plain": [
       "                                  name  \\\n",
       "0      Ms Regina Mina Mpontseng Lesoma   \n",
       "1                    Ms Winnie Ngwenya   \n",
       "2                  Thembi Portia Msane   \n",
       "3         Stephanus Franszouis Du Toit   \n",
       "4   Ms Lusizo Sharon Makhubela-Mashele   \n",
       "5          Mr Maliyakhe Lymon Shelembe   \n",
       "6            Moletsane Simon Moletsane   \n",
       "7             Mr Dikgang Mathews Stock   \n",
       "8                       Ms Pam Tshwete   \n",
       "9    Ms Bongiwe Pricilla Mbinqo-Gigaba   \n",
       "10                   Mr Pravin Gordhan   \n",
       "11           Baxolile Babongile Nodada   \n",
       "12                       Mr Bheki Cele   \n",
       "13                Samantha Jane Graham   \n",
       "14               Seneanye Betta Lehihi   \n",
       "15              Mr Yunus Ismail Carrim   \n",
       "16                Isaac Mbulelo Sileku   \n",
       "17                     Mr John Jeffery   \n",
       "18                 Mr Mondli Gungubele   \n",
       "19                       Sam Zandamela   \n",
       "\n",
       "                                        party  \\\n",
       "0             African National Congress (ANC)   \n",
       "1             African National Congress (ANC)   \n",
       "2             Economic Freedom Fighters (EFF)   \n",
       "3   Freedom Front + (Vryheidsfront Plus, FF+)   \n",
       "4             African National Congress (ANC)   \n",
       "5                    Democratic Alliance (DA)   \n",
       "6             Economic Freedom Fighters (EFF)   \n",
       "7             African National Congress (ANC)   \n",
       "8             African National Congress (ANC)   \n",
       "9             African National Congress (ANC)   \n",
       "10            African National Congress (ANC)   \n",
       "11                   Democratic Alliance (DA)   \n",
       "12            African National Congress (ANC)   \n",
       "13                   Democratic Alliance (DA)   \n",
       "14            Economic Freedom Fighters (EFF)   \n",
       "15            African National Congress (ANC)   \n",
       "16                   Democratic Alliance (DA)   \n",
       "17            African National Congress (ANC)   \n",
       "18            African National Congress (ANC)   \n",
       "19            Economic Freedom Fighters (EFF)   \n",
       "\n",
       "                                       phone  \\\n",
       "0                 073 454 9545; 021 403 2911   \n",
       "1                                              \n",
       "2                 060 560 2959; 061 467 8169   \n",
       "3                                              \n",
       "4   082 699 6732; 079 246 7887; 021 403 3051   \n",
       "5                               021 403 3036   \n",
       "6                                              \n",
       "7                 071 645 9014; 021 403 3949   \n",
       "8                 076 786 5681; 012 336 6696   \n",
       "9                 083 709 8441; 021 403 2531   \n",
       "10                012 431 1098; 021 469 6762   \n",
       "11                              063 795 7519   \n",
       "12                079 302 0100; 012 467 7001   \n",
       "13                              083 409 9196   \n",
       "14                                             \n",
       "15                082 553 0174; 021 403 3948   \n",
       "16                                0836380574   \n",
       "17  082 568 8322; 012 406 4854; 012 300 5530   \n",
       "18                066 478 0091; 021 403 3225   \n",
       "19                                             \n",
       "\n",
       "                                                email  \n",
       "0                           mlesoma@parliament.gov.za  \n",
       "1                          wngwenya@parliament.gov.za  \n",
       "2                               msanethembi@gmail.com  \n",
       "3                                                      \n",
       "4                lmakhubela-mashele@parliament.gov.za  \n",
       "5   maliyakhezn@gmail.com; mshelembe@parliament.go...  \n",
       "6                                                      \n",
       "7                            dstock@parliament.gov.za  \n",
       "8        Eartha.Scholtz@dhs.gov.za; jonesn@dws.gov.za  \n",
       "9                           rnourse@parliament.gov.za  \n",
       "10                            busi.sokhulu@dpe.gov.za  \n",
       "11                           baxolilenodada@gmail.com  \n",
       "12                                mubiana@saps.gov.za  \n",
       "13                        samanthajgraham27@gmail.com  \n",
       "14                                                     \n",
       "15  ycarrim@parliament.gov.za; lweb@parliament.gov.za  \n",
       "16                           silekuisaac104@gmail.com  \n",
       "17                            jmhlarhi@justice.gov.za  \n",
       "18  mgungubele@parliament.gov.za; tmarubelele@parl...  \n",
       "19                                                     "
      ]
     },
     "execution_count": 174,
     "metadata": {},
     "output_type": "execute_result"
    }
   ],
   "source": [
    "members = pd.DataFrame(members)\n",
    "members"
   ]
  },
  {
   "cell_type": "markdown",
   "metadata": {},
   "source": [
    "So there we have the contact details of members of parliament.\n",
    "\n",
    "Parliament is by no means static. Members come and go. Since we have a script though, we just have to run the script again to update the data."
   ]
  },
  {
   "cell_type": "markdown",
   "metadata": {},
   "source": [
    "## Database\n",
    "\n",
    "To finish off we'll save the data to a [SQLite](https://www.sqlite.org/index.html) database.\n",
    "\n",
    "Use a context manager to ensure that the connection to the database is closed neatly after the transaction."
   ]
  },
  {
   "cell_type": "code",
   "execution_count": 175,
   "metadata": {},
   "outputs": [],
   "source": [
    "with sqlite3.connect(SQLITEDB) as db:\n",
    "    members.to_sql('members', db, if_exists='replace')"
   ]
  },
  {
   "cell_type": "markdown",
   "metadata": {},
   "source": [
    "It'd be good to check on the content of the database. You can download a local copy as follows:\n",
    "\n",
    "- select File ⟶ Open;\n",
    "- check the box next to the file you've just created; and\n",
    "- press the Download button.\n",
    "\n",
    "You can open the file with something like [DB Browser for SQLite](https://sqlitebrowser.org/)."
   ]
  },
  {
   "cell_type": "markdown",
   "metadata": {},
   "source": [
    "## Resources\n",
    "\n",
    "- [Beautiful Soup Documentation](https://www.crummy.com/software/BeautifulSoup/bs4/doc/)"
   ]
  },
  {
   "cell_type": "code",
   "execution_count": null,
   "metadata": {},
   "outputs": [],
   "source": []
  }
 ],
 "metadata": {
  "celltoolbar": "Tags",
  "kernelspec": {
   "display_name": "Python 3",
   "language": "python",
   "name": "python3"
  },
  "language_info": {
   "codemirror_mode": {
    "name": "ipython",
    "version": 3
   },
   "file_extension": ".py",
   "mimetype": "text/x-python",
   "name": "python",
   "nbconvert_exporter": "python",
   "pygments_lexer": "ipython3",
   "version": "3.7.3"
  }
 },
 "nbformat": 4,
 "nbformat_minor": 2
}
