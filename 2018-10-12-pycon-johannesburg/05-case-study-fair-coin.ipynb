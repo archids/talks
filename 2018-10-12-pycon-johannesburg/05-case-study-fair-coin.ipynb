{
 "cells": [
  {
   "cell_type": "markdown",
   "metadata": {},
   "source": [
    "# Fair Coin\n",
    "\n",
    "Denote by $\\theta$ the probability of a coin flip results in heads.\n",
    "\n",
    "Interpretation of a \"fair coin\":\n",
    "\n",
    "- **Frequentist** - $\\theta$ is 0.5; but\n",
    "- **Bayesian** - $\\theta$ is distributed around 0.5.\n",
    "\n",
    "The experimental approach would differ as well:\n",
    "\n",
    "- **Frequentist** - use data to test the null hypothesis\n",
    "- **Bayesian** - use data to refine prior beliefs."
   ]
  },
  {
   "cell_type": "code",
   "execution_count": 1,
   "metadata": {},
   "outputs": [],
   "source": [
    "%matplotlib inline\n",
    "\n",
    "import math\n",
    "from scipy import stats\n",
    "import pandas as pd\n",
    "import numpy as np\n",
    "\n",
    "np.random.seed(seed=13)\n",
    "\n",
    "import matplotlib.pyplot as plt\n",
    "\n",
    "import pystan\n",
    "import arviz as az"
   ]
  },
  {
   "cell_type": "markdown",
   "metadata": {},
   "source": [
    "Suppose that we record the number of head ($k$) as a versus the number of flips ($n$). How could we determine whether a coin was fair?"
   ]
  },
  {
   "cell_type": "code",
   "execution_count": 2,
   "metadata": {},
   "outputs": [],
   "source": [
    "# Number of flips per experiment (or sample).\n",
    "n = 500"
   ]
  },
  {
   "cell_type": "markdown",
   "metadata": {},
   "source": [
    "## Frequentist Approach"
   ]
  },
  {
   "cell_type": "markdown",
   "metadata": {},
   "source": [
    "First let's formulate the hypotheses:\n",
    "\n",
    "- $H_0$: The coin is fair.\n",
    "- $H_1$: The coin is not fair.\n",
    "\n",
    "A lot of Frequentist Statistics relies on the Central Limit Theorem."
   ]
  },
  {
   "cell_type": "markdown",
   "metadata": {},
   "source": [
    "### Central Limit Theorem"
   ]
  },
  {
   "cell_type": "markdown",
   "metadata": {},
   "source": [
    "Let's take a short digression: why can we treat the sampled proportion with a Normal Distribution?\n",
    "\n",
    "> The Central Limit Theorem states that the sampling distribution of the sample means approaches a Normal Distribution as the sample size gets larger, regardless of the shape of the population distribution.\n",
    "\n",
    "The key phrase here is \"as the sample size gets larger\". The Central Limit Theorem assumes a large sample size!"
   ]
  },
  {
   "cell_type": "code",
   "execution_count": 3,
   "metadata": {},
   "outputs": [],
   "source": [
    "# Number of experiments (or samples).\n",
    "N = 10000\n",
    "# Generate samples for a fair coin using Binomial Distribution.\n",
    "k = stats.binom.rvs(n, 0.5, size=N)"
   ]
  },
  {
   "cell_type": "code",
   "execution_count": 4,
   "metadata": {},
   "outputs": [
    {
     "data": {
      "text/plain": [
       "array([0.496, 0.554, 0.506, ..., 0.462, 0.528, 0.492])"
      ]
     },
     "execution_count": 4,
     "metadata": {},
     "output_type": "execute_result"
    }
   ],
   "source": [
    "# Estimates of success probability per experiment.\n",
    "k / n"
   ]
  },
  {
   "cell_type": "markdown",
   "metadata": {},
   "source": [
    "Let's look at the distribution of those estimates."
   ]
  },
  {
   "cell_type": "code",
   "execution_count": 5,
   "metadata": {},
   "outputs": [
    {
     "data": {
      "image/png": "[encoded data removed]",
      "text/plain": [
       "<Figure size 1152x432 with 1 Axes>"
      ]
     },
     "metadata": {
      "needs_background": "light"
     },
     "output_type": "display_data"
    }
   ],
   "source": [
    "plt.figure(figsize=(16, 6))\n",
    "plt.hist(k/n, bins=np.linspace(0, 1, 101), density=True);\n",
    "plt.xticks(ticks=np.linspace(0, 1, 5));"
   ]
  },
  {
   "cell_type": "markdown",
   "metadata": {},
   "source": [
    "### Hypothesis Test\n",
    "\n",
    "Suppose that we flip a coin a number of times, recording the number of flips and the number of heads."
   ]
  },
  {
   "cell_type": "code",
   "execution_count": 6,
   "metadata": {},
   "outputs": [],
   "source": [
    "# Number of heads.\n",
    "k = 230"
   ]
  },
  {
   "cell_type": "markdown",
   "metadata": {},
   "source": [
    "We can think of this as a long sequence of values which are either `1` (head) or `0` (tail). What are the mean and standard error of the sequence?"
   ]
  },
  {
   "cell_type": "code",
   "execution_count": 7,
   "metadata": {},
   "outputs": [
    {
     "data": {
      "text/plain": [
       "0.46"
      ]
     },
     "execution_count": 7,
     "metadata": {},
     "output_type": "execute_result"
    }
   ],
   "source": [
    "p = k / n\n",
    "p"
   ]
  },
  {
   "cell_type": "code",
   "execution_count": 8,
   "metadata": {},
   "outputs": [
    {
     "data": {
      "text/plain": [
       "0.022289010745208053"
      ]
     },
     "execution_count": 8,
     "metadata": {},
     "output_type": "execute_result"
    }
   ],
   "source": [
    "sigma = math.sqrt(p * (1 - p) / n)\n",
    "sigma"
   ]
  },
  {
   "cell_type": "markdown",
   "metadata": {},
   "source": [
    "What are the corresponding $z$ score and (one sided) $p$-value?"
   ]
  },
  {
   "cell_type": "code",
   "execution_count": 9,
   "metadata": {},
   "outputs": [
    {
     "data": {
      "text/plain": [
       "-1.794606340193884"
      ]
     },
     "execution_count": 9,
     "metadata": {},
     "output_type": "execute_result"
    }
   ],
   "source": [
    "z = (p - 0.5) / sigma\n",
    "z"
   ]
  },
  {
   "cell_type": "code",
   "execution_count": 10,
   "metadata": {},
   "outputs": [
    {
     "data": {
      "text/plain": [
       "0.03635822113987841"
      ]
     },
     "execution_count": 10,
     "metadata": {},
     "output_type": "execute_result"
    }
   ],
   "source": [
    "1 - stats.norm.cdf(abs(z))"
   ]
  },
  {
   "cell_type": "markdown",
   "metadata": {},
   "source": [
    "**Note:** For the Normal approximation to be valid, the proportion should not be too close to 0 or 1. For coin flipping this should not be a problem, but for other situations involving proportions it can be a concern.\n",
    "\n",
    "Another (more direct) approach would be to use a binomial test."
   ]
  },
  {
   "cell_type": "code",
   "execution_count": 11,
   "metadata": {},
   "outputs": [
    {
     "data": {
      "text/plain": [
       "0.04051617480460322"
      ]
     },
     "execution_count": 11,
     "metadata": {},
     "output_type": "execute_result"
    }
   ],
   "source": [
    "stats.binom_test(k, n, p=0.5, alternative='less')"
   ]
  },
  {
   "cell_type": "markdown",
   "metadata": {},
   "source": [
    "Either approach seems significant: there is little chance that this observation could have arisen from chance alone. The Frequentist would reject the null hypothesis."
   ]
  },
  {
   "cell_type": "markdown",
   "metadata": {},
   "source": [
    "## Bayesian Approach"
   ]
  },
  {
   "cell_type": "markdown",
   "metadata": {},
   "source": [
    "### Grid Approximation\n",
    "\n",
    "What's the likelihood of k success from n trials given specific value for theta?\n",
    "\n",
    "Strictly this should include the binomial coefficient, but since this is not a function of theta we can\n",
    "safely leave it out. Normalisation will take care of it."
   ]
  },
  {
   "cell_type": "code",
   "execution_count": 12,
   "metadata": {},
   "outputs": [],
   "source": [
    "def binomial_likelihood(theta, k, n):\n",
    "    return theta**k * (1 - theta)**(n - k)"
   ]
  },
  {
   "cell_type": "markdown",
   "metadata": {},
   "source": [
    "Choose parameters for the $\\beta$ prior. We have fairly strong reasons to believe that $\\theta$ lies close to 0.5."
   ]
  },
  {
   "cell_type": "code",
   "execution_count": 13,
   "metadata": {},
   "outputs": [],
   "source": [
    "a = 100\n",
    "b = 100"
   ]
  },
  {
   "cell_type": "code",
   "execution_count": 14,
   "metadata": {},
   "outputs": [],
   "source": [
    "theta = np.linspace(0, 1, 500)\n",
    "#\n",
    "param = pd.DataFrame(data={\n",
    "    'theta': theta,\n",
    "    'prior': stats.beta.pdf(theta, a, b),\n",
    "    'likelihood': None,\n",
    "    'posterior': None\n",
    "})\n",
    "#\n",
    "del(theta)"
   ]
  },
  {
   "cell_type": "code",
   "execution_count": 15,
   "metadata": {},
   "outputs": [],
   "source": [
    "# Fix column order (by default alphabetical).\n",
    "param = param[['theta', 'prior', 'likelihood', 'posterior']]"
   ]
  },
  {
   "cell_type": "code",
   "execution_count": 16,
   "metadata": {},
   "outputs": [],
   "source": [
    "param['likelihood'] = [binomial_likelihood(x, k, n) for x in param['theta']]"
   ]
  },
  {
   "cell_type": "markdown",
   "metadata": {},
   "source": [
    "Now invoke Bayes' Theorem to get the posterior from the likelihood and the prior."
   ]
  },
  {
   "cell_type": "code",
   "execution_count": 17,
   "metadata": {},
   "outputs": [],
   "source": [
    "param['posterior'] = param['likelihood'] * param['prior']"
   ]
  },
  {
   "cell_type": "markdown",
   "metadata": {},
   "source": [
    "We still need to normalise the posterior because (1) the likelihood was not normalised and (2) we have not factored in the evidence."
   ]
  },
  {
   "cell_type": "code",
   "execution_count": 18,
   "metadata": {},
   "outputs": [],
   "source": [
    "param['posterior'] = param['posterior'] / np.trapz(param['posterior'], x=param['theta'])"
   ]
  },
  {
   "cell_type": "code",
   "execution_count": 19,
   "metadata": {},
   "outputs": [
    {
     "data": {
      "image/png": "[encoded data removed]",
      "text/plain": [
       "<Figure size 1152x648 with 3 Axes>"
      ]
     },
     "metadata": {
      "needs_background": "light"
     },
     "output_type": "display_data"
    }
   ],
   "source": [
    "fig, ax = plt.subplots(nrows=3, figsize=(16,9), sharex=True)\n",
    "ax[0].plot(param['theta'], param['prior'])\n",
    "ax[1].plot(param['theta'], param['likelihood'])\n",
    "ax[2].plot(param['theta'], param['posterior'])\n",
    "fig.subplots_adjust(hspace=0)"
   ]
  },
  {
   "cell_type": "markdown",
   "metadata": {},
   "source": [
    "### Using Stan: Binomial Distribution"
   ]
  },
  {
   "cell_type": "code",
   "execution_count": 20,
   "metadata": {},
   "outputs": [],
   "source": [
    "stan_binomial = \"\"\"\n",
    "data {\n",
    "  int  heads;\n",
    "  int  flips;\n",
    "  real a;\n",
    "  real b;\n",
    "}\n",
    "parameters {\n",
    "  real<lower=0,upper=1> theta;\n",
    "}\n",
    "model {\n",
    "  heads ~ binomial(flips, theta);      // Likelihood\n",
    "  theta ~ beta(a, b);                  // Prior\n",
    "}\n",
    "\"\"\""
   ]
  },
  {
   "cell_type": "markdown",
   "metadata": {},
   "source": [
    "Translate the model into C++ and compile. This is a time consuming process, so avoid recompilation if the model has already been compiled."
   ]
  },
  {
   "cell_type": "code",
   "execution_count": 21,
   "metadata": {},
   "outputs": [
    {
     "name": "stderr",
     "output_type": "stream",
     "text": [
      "INFO:pystan:COMPILING THE C++ CODE FOR MODEL anon_model_5d6d4a2fca5f6422c368aec7fb680f23 NOW.\n"
     ]
    }
   ],
   "source": [
    "try:\n",
    "    model_binomial\n",
    "except NameError:\n",
    "    model_binomial = pystan.StanModel(model_code=stan_binomial)"
   ]
  },
  {
   "cell_type": "markdown",
   "metadata": {},
   "source": [
    "The compiled model captures the original Stan code."
   ]
  },
  {
   "cell_type": "code",
   "execution_count": 22,
   "metadata": {},
   "outputs": [
    {
     "name": "stdout",
     "output_type": "stream",
     "text": [
      "StanModel object 'anon_model_5d6d4a2fca5f6422c368aec7fb680f23' coded as follows:\n",
      "\n",
      "data {\n",
      "  int  heads;\n",
      "  int  flips;\n",
      "  real a;\n",
      "  real b;\n",
      "}\n",
      "parameters {\n",
      "  real<lower=0,upper=1> theta;\n",
      "}\n",
      "model {\n",
      "  heads ~ binomial(flips, theta);      // Likelihood\n",
      "  theta ~ beta(a, b);                  // Prior\n",
      "}\n",
      "\n"
     ]
    }
   ],
   "source": [
    "model_binomial.show()"
   ]
  },
  {
   "cell_type": "markdown",
   "metadata": {},
   "source": [
    "It's also possible to take a look at the model translated into C++ (if you are that sort of masochist)."
   ]
  },
  {
   "cell_type": "code",
   "execution_count": 23,
   "metadata": {
    "scrolled": false
   },
   "outputs": [
    {
     "data": {
      "text/plain": [
       "'// Code generated by Stan version 2.18.0\\n\\n#include <stan/model/model_header.hpp>\\n\\nnamespace anon_model_5d6d4a2fca5f6422c368aec7fb680f23_namespace {\\n\\nusing std::istream;\\nusing std::string;\\nusing std::stringstream;\\nusing std::vector;\\nusing stan::io::dump;\\nusing stan::math::lgamma;\\nusing stan::model::prob_grad;\\nusing namespace stan::math;\\n\\nstatic int current_statement_begin__;\\n\\nstan::io::program_reader prog_reader__() {\\n    stan::io::program_reader reader;\\n    reader.add_event(0, 0, \"start\", \"unknown file name\");\\n    reader.add_event(16, 14, \"end\", \"unknown file name\");\\n    return reader;\\n}\\n\\nclass anon_model_5d6d4a2fca5f6422c368aec7fb680f23 : public prob_grad {\\nprivate:\\n    int heads;\\n    int flips;\\n    double a;\\n    double b;\\npublic:\\n    anon_model_5d6d4a2fca5f6422c368aec7fb680f23(stan::io::var_context& context__,\\n        std::ostream* pstream__ = 0)\\n        : prob_grad(0) {\\n        ctor_body(context__, 0, pstream__);\\n    }\\n\\n    anon_model_5d6d4a2fca5f6422c368aec7fb680f23(stan::io::var_context& context__,\\n        unsigned int random_seed__,\\n        std::ostream* pstream__ = 0)\\n        : prob_grad(0) {\\n        ctor_body(context__, random_seed__, pstream__);\\n    }\\n\\n    void ctor_body(stan::io::var_context& context__,\\n                   unsigned int random_seed__,\\n                   std::ostream* pstream__) {\\n        typedef double local_scalar_t__;\\n\\n        boost::ecuyer1988 base_rng__ =\\n          stan::services::util::create_rng(random_seed__, 0);\\n        (void) base_rng__;  // suppress unused var warning\\n\\n        current_statement_begin__ = -1;\\n\\n        static const char* function__ = \"anon_model_5d6d4a2fca5f6422c368aec7fb680f23_namespace::anon_model_5d6d4a2fca5f6422c368aec7fb680f23\";\\n        (void) function__;  // dummy to suppress unused var warning\\n        size_t pos__;\\n        (void) pos__;  // dummy to suppress unused var warning\\n        std::vector<int> vals_i__;\\n        std::vector<double> vals_r__;\\n        local_scalar_t__ DUMMY_VAR__(std::numeric_limits<double>::quiet_NaN());\\n        (void) DUMMY_VAR__;  // suppress unused var warning\\n\\n        // initialize member variables\\n        try {\\n            current_statement_begin__ = 3;\\n            context__.validate_dims(\"data initialization\", \"heads\", \"int\", context__.to_vec());\\n            heads = int(0);\\n            vals_i__ = context__.vals_i(\"heads\");\\n            pos__ = 0;\\n            heads = vals_i__[pos__++];\\n            current_statement_begin__ = 4;\\n            context__.validate_dims(\"data initialization\", \"flips\", \"int\", context__.to_vec());\\n            flips = int(0);\\n            vals_i__ = context__.vals_i(\"flips\");\\n            pos__ = 0;\\n            flips = vals_i__[pos__++];\\n            current_statement_begin__ = 5;\\n            context__.validate_dims(\"data initialization\", \"a\", \"double\", context__.to_vec());\\n            a = double(0);\\n            vals_r__ = context__.vals_r(\"a\");\\n            pos__ = 0;\\n            a = vals_r__[pos__++];\\n            current_statement_begin__ = 6;\\n            context__.validate_dims(\"data initialization\", \"b\", \"double\", context__.to_vec());\\n            b = double(0);\\n            vals_r__ = context__.vals_r(\"b\");\\n            pos__ = 0;\\n            b = vals_r__[pos__++];\\n\\n            // validate, data variables\\n            current_statement_begin__ = 3;\\n            current_statement_begin__ = 4;\\n            current_statement_begin__ = 5;\\n            current_statement_begin__ = 6;\\n            // initialize data variables\\n\\n\\n            // validate transformed data\\n\\n            // validate, set parameter ranges\\n            num_params_r__ = 0U;\\n            param_ranges_i__.clear();\\n            current_statement_begin__ = 9;\\n            ++num_params_r__;\\n        } catch (const std::exception& e) {\\n            stan::lang::rethrow_located(e, current_statement_begin__, prog_reader__());\\n            // Next line prevents compiler griping about no return\\n            throw std::runtime_error(\"*** IF YOU SEE THIS, PLEASE REPORT A BUG ***\");\\n        }\\n    }\\n\\n    ~anon_model_5d6d4a2fca5f6422c368aec7fb680f23() { }\\n\\n\\n    void transform_inits(const stan::io::var_context& context__,\\n                         std::vector<int>& params_i__,\\n                         std::vector<double>& params_r__,\\n                         std::ostream* pstream__) const {\\n        stan::io::writer<double> writer__(params_r__,params_i__);\\n        size_t pos__;\\n        (void) pos__; // dummy call to supress warning\\n        std::vector<double> vals_r__;\\n        std::vector<int> vals_i__;\\n\\n        if (!(context__.contains_r(\"theta\")))\\n            throw std::runtime_error(\"variable theta missing\");\\n        vals_r__ = context__.vals_r(\"theta\");\\n        pos__ = 0U;\\n        context__.validate_dims(\"initialization\", \"theta\", \"double\", context__.to_vec());\\n        double theta(0);\\n        theta = vals_r__[pos__++];\\n        try {\\n            writer__.scalar_lub_unconstrain(0,1,theta);\\n        } catch (const std::exception& e) { \\n            throw std::runtime_error(std::string(\"Error transforming variable theta: \") + e.what());\\n        }\\n\\n        params_r__ = writer__.data_r();\\n        params_i__ = writer__.data_i();\\n    }\\n\\n    void transform_inits(const stan::io::var_context& context,\\n                         Eigen::Matrix<double,Eigen::Dynamic,1>& params_r,\\n                         std::ostream* pstream__) const {\\n      std::vector<double> params_r_vec;\\n      std::vector<int> params_i_vec;\\n      transform_inits(context, params_i_vec, params_r_vec, pstream__);\\n      params_r.resize(params_r_vec.size());\\n      for (int i = 0; i < params_r.size(); ++i)\\n        params_r(i) = params_r_vec[i];\\n    }\\n\\n\\n    template <bool propto__, bool jacobian__, typename T__>\\n    T__ log_prob(vector<T__>& params_r__,\\n                 vector<int>& params_i__,\\n                 std::ostream* pstream__ = 0) const {\\n\\n        typedef T__ local_scalar_t__;\\n\\n        local_scalar_t__ DUMMY_VAR__(std::numeric_limits<double>::quiet_NaN());\\n        (void) DUMMY_VAR__;  // suppress unused var warning\\n\\n        T__ lp__(0.0);\\n        stan::math::accumulator<T__> lp_accum__;\\n\\n        try {\\n            // model parameters\\n            stan::io::reader<local_scalar_t__> in__(params_r__,params_i__);\\n\\n            local_scalar_t__ theta;\\n            (void) theta;  // dummy to suppress unused var warning\\n            if (jacobian__)\\n                theta = in__.scalar_lub_constrain(0,1,lp__);\\n            else\\n                theta = in__.scalar_lub_constrain(0,1);\\n\\n\\n            // transformed parameters\\n\\n\\n\\n            // validate transformed parameters\\n\\n            const char* function__ = \"validate transformed params\";\\n            (void) function__;  // dummy to suppress unused var warning\\n\\n            // model body\\n\\n            current_statement_begin__ = 12;\\n            lp_accum__.add(binomial_log<propto__>(heads, flips, theta));\\n            current_statement_begin__ = 13;\\n            lp_accum__.add(beta_log<propto__>(theta, a, b));\\n\\n        } catch (const std::exception& e) {\\n            stan::lang::rethrow_located(e, current_statement_begin__, prog_reader__());\\n            // Next line prevents compiler griping about no return\\n            throw std::runtime_error(\"*** IF YOU SEE THIS, PLEASE REPORT A BUG ***\");\\n        }\\n\\n        lp_accum__.add(lp__);\\n        return lp_accum__.sum();\\n\\n    } // log_prob()\\n\\n    template <bool propto, bool jacobian, typename T_>\\n    T_ log_prob(Eigen::Matrix<T_,Eigen::Dynamic,1>& params_r,\\n               std::ostream* pstream = 0) const {\\n      std::vector<T_> vec_params_r;\\n      vec_params_r.reserve(params_r.size());\\n      for (int i = 0; i < params_r.size(); ++i)\\n        vec_params_r.push_back(params_r(i));\\n      std::vector<int> vec_params_i;\\n      return log_prob<propto,jacobian,T_>(vec_params_r, vec_params_i, pstream);\\n    }\\n\\n\\n    void get_param_names(std::vector<std::string>& names__) const {\\n        names__.resize(0);\\n        names__.push_back(\"theta\");\\n    }\\n\\n\\n    void get_dims(std::vector<std::vector<size_t> >& dimss__) const {\\n        dimss__.resize(0);\\n        std::vector<size_t> dims__;\\n        dims__.resize(0);\\n        dimss__.push_back(dims__);\\n    }\\n\\n    template <typename RNG>\\n    void write_array(RNG& base_rng__,\\n                     std::vector<double>& params_r__,\\n                     std::vector<int>& params_i__,\\n                     std::vector<double>& vars__,\\n                     bool include_tparams__ = true,\\n                     bool include_gqs__ = true,\\n                     std::ostream* pstream__ = 0) const {\\n        typedef double local_scalar_t__;\\n\\n        vars__.resize(0);\\n        stan::io::reader<local_scalar_t__> in__(params_r__,params_i__);\\n        static const char* function__ = \"anon_model_5d6d4a2fca5f6422c368aec7fb680f23_namespace::write_array\";\\n        (void) function__;  // dummy to suppress unused var warning\\n        // read-transform, write parameters\\n        double theta = in__.scalar_lub_constrain(0,1);\\n        vars__.push_back(theta);\\n\\n        // declare and define transformed parameters\\n        double lp__ = 0.0;\\n        (void) lp__;  // dummy to suppress unused var warning\\n        stan::math::accumulator<double> lp_accum__;\\n\\n        local_scalar_t__ DUMMY_VAR__(std::numeric_limits<double>::quiet_NaN());\\n        (void) DUMMY_VAR__;  // suppress unused var warning\\n\\n        try {\\n\\n\\n\\n            // validate transformed parameters\\n\\n            // write transformed parameters\\n            if (include_tparams__) {\\n            }\\n            if (!include_gqs__) return;\\n            // declare and define generated quantities\\n\\n\\n\\n            // validate generated quantities\\n\\n            // write generated quantities\\n        } catch (const std::exception& e) {\\n            stan::lang::rethrow_located(e, current_statement_begin__, prog_reader__());\\n            // Next line prevents compiler griping about no return\\n            throw std::runtime_error(\"*** IF YOU SEE THIS, PLEASE REPORT A BUG ***\");\\n        }\\n    }\\n\\n    template <typename RNG>\\n    void write_array(RNG& base_rng,\\n                     Eigen::Matrix<double,Eigen::Dynamic,1>& params_r,\\n                     Eigen::Matrix<double,Eigen::Dynamic,1>& vars,\\n                     bool include_tparams = true,\\n                     bool include_gqs = true,\\n                     std::ostream* pstream = 0) const {\\n      std::vector<double> params_r_vec(params_r.size());\\n      for (int i = 0; i < params_r.size(); ++i)\\n        params_r_vec[i] = params_r(i);\\n      std::vector<double> vars_vec;\\n      std::vector<int> params_i_vec;\\n      write_array(base_rng,params_r_vec,params_i_vec,vars_vec,include_tparams,include_gqs,pstream);\\n      vars.resize(vars_vec.size());\\n      for (int i = 0; i < vars.size(); ++i)\\n        vars(i) = vars_vec[i];\\n    }\\n\\n    static std::string model_name() {\\n        return \"anon_model_5d6d4a2fca5f6422c368aec7fb680f23\";\\n    }\\n\\n\\n    void constrained_param_names(std::vector<std::string>& param_names__,\\n                                 bool include_tparams__ = true,\\n                                 bool include_gqs__ = true) const {\\n        std::stringstream param_name_stream__;\\n        param_name_stream__.str(std::string());\\n        param_name_stream__ << \"theta\";\\n        param_names__.push_back(param_name_stream__.str());\\n\\n        if (!include_gqs__ && !include_tparams__) return;\\n\\n        if (include_tparams__) {\\n        }\\n\\n\\n        if (!include_gqs__) return;\\n    }\\n\\n\\n    void unconstrained_param_names(std::vector<std::string>& param_names__,\\n                                   bool include_tparams__ = true,\\n                                   bool include_gqs__ = true) const {\\n        std::stringstream param_name_stream__;\\n        param_name_stream__.str(std::string());\\n        param_name_stream__ << \"theta\";\\n        param_names__.push_back(param_name_stream__.str());\\n\\n        if (!include_gqs__ && !include_tparams__) return;\\n\\n        if (include_tparams__) {\\n        }\\n\\n\\n        if (!include_gqs__) return;\\n    }\\n\\n}; // model\\n\\n}\\n\\ntypedef anon_model_5d6d4a2fca5f6422c368aec7fb680f23_namespace::anon_model_5d6d4a2fca5f6422c368aec7fb680f23 stan_model;\\n\\n'"
      ]
     },
     "execution_count": 23,
     "metadata": {},
     "output_type": "execute_result"
    }
   ],
   "source": [
    "model_binomial.get_cppcode()"
   ]
  },
  {
   "cell_type": "markdown",
   "metadata": {},
   "source": [
    "Set up a dictionary with the model parameters. This dictionary maps variables in Python to the corresponding variables in the Stan code."
   ]
  },
  {
   "cell_type": "code",
   "execution_count": 24,
   "metadata": {},
   "outputs": [],
   "source": [
    "coin_data = {\n",
    "    'heads': k,\n",
    "    'flips': n,\n",
    "    'a':     a,\n",
    "    'b':     b\n",
    "}"
   ]
  },
  {
   "cell_type": "markdown",
   "metadata": {},
   "source": [
    "Generate samples."
   ]
  },
  {
   "cell_type": "code",
   "execution_count": 25,
   "metadata": {},
   "outputs": [],
   "source": [
    "fit = model_binomial.sampling(data=coin_data)\n",
    "#\n",
    "# Default options:\n",
    "#\n",
    "# chains - 4\n",
    "# iter   - 2000\n",
    "# warmup - 1000"
   ]
  },
  {
   "cell_type": "markdown",
   "metadata": {},
   "source": [
    "Once we have generated samples from the posterior distribution we can view summary results for each of the model parameters."
   ]
  },
  {
   "cell_type": "code",
   "execution_count": 26,
   "metadata": {},
   "outputs": [
    {
     "data": {
      "text/plain": [
       "Inference for Stan model: anon_model_5d6d4a2fca5f6422c368aec7fb680f23.\n",
       "4 chains, each with iter=2000; warmup=1000; thin=1; \n",
       "post-warmup draws per chain=1000, total post-warmup draws=4000.\n",
       "\n",
       "        mean se_mean     sd   2.5%    25%    50%    75%  97.5%  n_eff   Rhat\n",
       "theta   0.47  5.0e-4   0.02   0.44   0.46   0.47   0.49   0.51   1446    1.0\n",
       "lp__  -484.5    0.02   0.71 -486.6 -484.7 -484.2 -484.1 -484.0   1902    1.0\n",
       "\n",
       "Samples were drawn using NUTS at Fri Oct 12 12:05:13 2018.\n",
       "For each parameter, n_eff is a crude measure of effective sample size,\n",
       "and Rhat is the potential scale reduction factor on split chains (at \n",
       "convergence, Rhat=1)."
      ]
     },
     "execution_count": 26,
     "metadata": {},
     "output_type": "execute_result"
    }
   ],
   "source": [
    "fit"
   ]
  },
  {
   "cell_type": "markdown",
   "metadata": {},
   "source": [
    "**Diagnostics**\n",
    "\n",
    "1. `Rhat` should be close to 1.\n",
    "2. `n_eff` should not be massively smaller than the number of iterations.\n",
    "\n",
    "If either of these conditions is not satisfied then it might indicate \"poor mixing\" of the Markov Chains, where they have failed to successfully explore the parameter space.\n",
    "\n",
    "There are some diagnostic functions which will indicate possible problems with the model. Ideally we want them all to return `True`."
   ]
  },
  {
   "cell_type": "code",
   "execution_count": 27,
   "metadata": {},
   "outputs": [
    {
     "data": {
      "text/plain": [
       "True"
      ]
     },
     "execution_count": 27,
     "metadata": {},
     "output_type": "execute_result"
    }
   ],
   "source": [
    "pystan.diagnostics.check_div(fit)"
   ]
  },
  {
   "cell_type": "code",
   "execution_count": 28,
   "metadata": {},
   "outputs": [
    {
     "data": {
      "text/plain": [
       "True"
      ]
     },
     "execution_count": 28,
     "metadata": {},
     "output_type": "execute_result"
    }
   ],
   "source": [
    "pystan.diagnostics.check_treedepth(fit)"
   ]
  },
  {
   "cell_type": "code",
   "execution_count": 29,
   "metadata": {},
   "outputs": [
    {
     "data": {
      "text/plain": [
       "True"
      ]
     },
     "execution_count": 29,
     "metadata": {},
     "output_type": "execute_result"
    }
   ],
   "source": [
    "pystan.diagnostics.check_energy(fit)"
   ]
  },
  {
   "cell_type": "markdown",
   "metadata": {},
   "source": [
    "Let's take a look at the distribution of the posterior."
   ]
  },
  {
   "cell_type": "code",
   "execution_count": 30,
   "metadata": {},
   "outputs": [
    {
     "name": "stderr",
     "output_type": "stream",
     "text": [
      "/home/jupyter/.local/lib/python3.6/site-packages/matplotlib/axes/_base.py:3449: MatplotlibDeprecationWarning: \n",
      "The `ymin` argument was deprecated in Matplotlib 3.0 and will be removed in 3.2. Use `bottom` instead.\n",
      "  alternative='`bottom`', obj_type='argument')\n"
     ]
    },
    {
     "data": {
      "image/png": "[encoded data removed]",
      "text/plain": [
       "<Figure size 864x288 with 2 Axes>"
      ]
     },
     "metadata": {
      "needs_background": "light"
     },
     "output_type": "display_data"
    }
   ],
   "source": [
    "az.plot_trace(fit, figsize = (12, 4));"
   ]
  },
  {
   "cell_type": "code",
   "execution_count": 31,
   "metadata": {},
   "outputs": [
    {
     "data": {
      "image/png": "[encoded data removed]",
      "text/plain": [
       "<Figure size 576x288 with 1 Axes>"
      ]
     },
     "metadata": {
      "needs_background": "light"
     },
     "output_type": "display_data"
    }
   ],
   "source": [
    "az.plot_density(fit, figsize = (8, 4));"
   ]
  },
  {
   "cell_type": "code",
   "execution_count": 32,
   "metadata": {},
   "outputs": [
    {
     "data": {
      "image/png": "[encoded data removed]",
      "text/plain": [
       "<Figure size 576x288 with 1 Axes>"
      ]
     },
     "metadata": {
      "needs_background": "light"
     },
     "output_type": "display_data"
    }
   ],
   "source": [
    "az.plot_posterior(fit, figsize = (8, 4));"
   ]
  },
  {
   "cell_type": "markdown",
   "metadata": {},
   "source": [
    "We can access the actual samples from the posterior."
   ]
  },
  {
   "cell_type": "code",
   "execution_count": 33,
   "metadata": {},
   "outputs": [
    {
     "data": {
      "text/plain": [
       "array([0.49558415, 0.44782556, 0.44889089, ..., 0.51915812, 0.4822485 ,\n",
       "       0.5114579 ])"
      ]
     },
     "execution_count": 33,
     "metadata": {},
     "output_type": "execute_result"
    }
   ],
   "source": [
    "samples = fit.extract('theta')\n",
    "\n",
    "theta = samples['theta']\n",
    "theta"
   ]
  },
  {
   "cell_type": "code",
   "execution_count": 34,
   "metadata": {},
   "outputs": [
    {
     "data": {
      "text/html": [
       "<div>\n",
       "<style scoped>\n",
       "    .dataframe tbody tr th:only-of-type {\n",
       "        vertical-align: middle;\n",
       "    }\n",
       "\n",
       "    .dataframe tbody tr th {\n",
       "        vertical-align: top;\n",
       "    }\n",
       "\n",
       "    .dataframe thead th {\n",
       "        text-align: right;\n",
       "    }\n",
       "</style>\n",
       "<table border=\"1\" class=\"dataframe\">\n",
       "  <thead>\n",
       "    <tr style=\"text-align: right;\">\n",
       "      <th></th>\n",
       "      <th>chain</th>\n",
       "      <th>chain_idx</th>\n",
       "      <th>warmup</th>\n",
       "      <th>divergent__</th>\n",
       "      <th>energy__</th>\n",
       "      <th>treedepth__</th>\n",
       "      <th>accept_stat__</th>\n",
       "      <th>stepsize__</th>\n",
       "      <th>n_leapfrog__</th>\n",
       "      <th>theta</th>\n",
       "    </tr>\n",
       "  </thead>\n",
       "  <tbody>\n",
       "    <tr>\n",
       "      <th>0</th>\n",
       "      <td>1</td>\n",
       "      <td>1</td>\n",
       "      <td>0</td>\n",
       "      <td>0</td>\n",
       "      <td>484.250572</td>\n",
       "      <td>1</td>\n",
       "      <td>1.000000</td>\n",
       "      <td>1.005291</td>\n",
       "      <td>3</td>\n",
       "      <td>0.469179</td>\n",
       "    </tr>\n",
       "    <tr>\n",
       "      <th>1</th>\n",
       "      <td>1</td>\n",
       "      <td>2</td>\n",
       "      <td>0</td>\n",
       "      <td>0</td>\n",
       "      <td>484.551081</td>\n",
       "      <td>1</td>\n",
       "      <td>0.895146</td>\n",
       "      <td>1.005291</td>\n",
       "      <td>3</td>\n",
       "      <td>0.453444</td>\n",
       "    </tr>\n",
       "    <tr>\n",
       "      <th>2</th>\n",
       "      <td>1</td>\n",
       "      <td>3</td>\n",
       "      <td>0</td>\n",
       "      <td>0</td>\n",
       "      <td>484.538795</td>\n",
       "      <td>2</td>\n",
       "      <td>1.000000</td>\n",
       "      <td>1.005291</td>\n",
       "      <td>3</td>\n",
       "      <td>0.456525</td>\n",
       "    </tr>\n",
       "    <tr>\n",
       "      <th>3</th>\n",
       "      <td>1</td>\n",
       "      <td>4</td>\n",
       "      <td>0</td>\n",
       "      <td>0</td>\n",
       "      <td>484.887676</td>\n",
       "      <td>2</td>\n",
       "      <td>0.931184</td>\n",
       "      <td>1.005291</td>\n",
       "      <td>3</td>\n",
       "      <td>0.462491</td>\n",
       "    </tr>\n",
       "    <tr>\n",
       "      <th>4</th>\n",
       "      <td>1</td>\n",
       "      <td>5</td>\n",
       "      <td>0</td>\n",
       "      <td>0</td>\n",
       "      <td>484.322460</td>\n",
       "      <td>1</td>\n",
       "      <td>0.961277</td>\n",
       "      <td>1.005291</td>\n",
       "      <td>1</td>\n",
       "      <td>0.458109</td>\n",
       "    </tr>\n",
       "    <tr>\n",
       "      <th>5</th>\n",
       "      <td>1</td>\n",
       "      <td>6</td>\n",
       "      <td>0</td>\n",
       "      <td>0</td>\n",
       "      <td>484.410080</td>\n",
       "      <td>2</td>\n",
       "      <td>0.983053</td>\n",
       "      <td>1.005291</td>\n",
       "      <td>3</td>\n",
       "      <td>0.469866</td>\n",
       "    </tr>\n",
       "    <tr>\n",
       "      <th>6</th>\n",
       "      <td>1</td>\n",
       "      <td>7</td>\n",
       "      <td>0</td>\n",
       "      <td>0</td>\n",
       "      <td>484.143345</td>\n",
       "      <td>1</td>\n",
       "      <td>0.983330</td>\n",
       "      <td>1.005291</td>\n",
       "      <td>3</td>\n",
       "      <td>0.478011</td>\n",
       "    </tr>\n",
       "    <tr>\n",
       "      <th>7</th>\n",
       "      <td>1</td>\n",
       "      <td>8</td>\n",
       "      <td>0</td>\n",
       "      <td>0</td>\n",
       "      <td>484.665610</td>\n",
       "      <td>2</td>\n",
       "      <td>0.909517</td>\n",
       "      <td>1.005291</td>\n",
       "      <td>3</td>\n",
       "      <td>0.459286</td>\n",
       "    </tr>\n",
       "    <tr>\n",
       "      <th>8</th>\n",
       "      <td>1</td>\n",
       "      <td>9</td>\n",
       "      <td>0</td>\n",
       "      <td>0</td>\n",
       "      <td>484.970977</td>\n",
       "      <td>2</td>\n",
       "      <td>0.929804</td>\n",
       "      <td>1.005291</td>\n",
       "      <td>3</td>\n",
       "      <td>0.496557</td>\n",
       "    </tr>\n",
       "    <tr>\n",
       "      <th>9</th>\n",
       "      <td>1</td>\n",
       "      <td>10</td>\n",
       "      <td>0</td>\n",
       "      <td>0</td>\n",
       "      <td>484.956869</td>\n",
       "      <td>1</td>\n",
       "      <td>1.000000</td>\n",
       "      <td>1.005291</td>\n",
       "      <td>1</td>\n",
       "      <td>0.491412</td>\n",
       "    </tr>\n",
       "    <tr>\n",
       "      <th>10</th>\n",
       "      <td>1</td>\n",
       "      <td>11</td>\n",
       "      <td>0</td>\n",
       "      <td>0</td>\n",
       "      <td>484.572947</td>\n",
       "      <td>2</td>\n",
       "      <td>1.000000</td>\n",
       "      <td>1.005291</td>\n",
       "      <td>3</td>\n",
       "      <td>0.466448</td>\n",
       "    </tr>\n",
       "    <tr>\n",
       "      <th>11</th>\n",
       "      <td>1</td>\n",
       "      <td>12</td>\n",
       "      <td>0</td>\n",
       "      <td>0</td>\n",
       "      <td>484.181783</td>\n",
       "      <td>1</td>\n",
       "      <td>0.975544</td>\n",
       "      <td>1.005291</td>\n",
       "      <td>1</td>\n",
       "      <td>0.462158</td>\n",
       "    </tr>\n",
       "    <tr>\n",
       "      <th>12</th>\n",
       "      <td>1</td>\n",
       "      <td>13</td>\n",
       "      <td>0</td>\n",
       "      <td>0</td>\n",
       "      <td>484.646330</td>\n",
       "      <td>1</td>\n",
       "      <td>0.930994</td>\n",
       "      <td>1.005291</td>\n",
       "      <td>3</td>\n",
       "      <td>0.485983</td>\n",
       "    </tr>\n",
       "    <tr>\n",
       "      <th>13</th>\n",
       "      <td>1</td>\n",
       "      <td>14</td>\n",
       "      <td>0</td>\n",
       "      <td>0</td>\n",
       "      <td>484.292409</td>\n",
       "      <td>1</td>\n",
       "      <td>1.000000</td>\n",
       "      <td>1.005291</td>\n",
       "      <td>1</td>\n",
       "      <td>0.478543</td>\n",
       "    </tr>\n",
       "    <tr>\n",
       "      <th>14</th>\n",
       "      <td>1</td>\n",
       "      <td>15</td>\n",
       "      <td>0</td>\n",
       "      <td>0</td>\n",
       "      <td>484.382418</td>\n",
       "      <td>1</td>\n",
       "      <td>0.930009</td>\n",
       "      <td>1.005291</td>\n",
       "      <td>1</td>\n",
       "      <td>0.486590</td>\n",
       "    </tr>\n",
       "    <tr>\n",
       "      <th>15</th>\n",
       "      <td>1</td>\n",
       "      <td>16</td>\n",
       "      <td>0</td>\n",
       "      <td>0</td>\n",
       "      <td>485.037890</td>\n",
       "      <td>1</td>\n",
       "      <td>0.832188</td>\n",
       "      <td>1.005291</td>\n",
       "      <td>1</td>\n",
       "      <td>0.497574</td>\n",
       "    </tr>\n",
       "    <tr>\n",
       "      <th>16</th>\n",
       "      <td>1</td>\n",
       "      <td>17</td>\n",
       "      <td>0</td>\n",
       "      <td>0</td>\n",
       "      <td>485.984922</td>\n",
       "      <td>1</td>\n",
       "      <td>0.705703</td>\n",
       "      <td>1.005291</td>\n",
       "      <td>1</td>\n",
       "      <td>0.497574</td>\n",
       "    </tr>\n",
       "    <tr>\n",
       "      <th>17</th>\n",
       "      <td>1</td>\n",
       "      <td>18</td>\n",
       "      <td>0</td>\n",
       "      <td>0</td>\n",
       "      <td>484.787894</td>\n",
       "      <td>1</td>\n",
       "      <td>1.000000</td>\n",
       "      <td>1.005291</td>\n",
       "      <td>3</td>\n",
       "      <td>0.482244</td>\n",
       "    </tr>\n",
       "    <tr>\n",
       "      <th>18</th>\n",
       "      <td>1</td>\n",
       "      <td>19</td>\n",
       "      <td>0</td>\n",
       "      <td>0</td>\n",
       "      <td>485.725113</td>\n",
       "      <td>2</td>\n",
       "      <td>0.780972</td>\n",
       "      <td>1.005291</td>\n",
       "      <td>3</td>\n",
       "      <td>0.492772</td>\n",
       "    </tr>\n",
       "    <tr>\n",
       "      <th>19</th>\n",
       "      <td>1</td>\n",
       "      <td>20</td>\n",
       "      <td>0</td>\n",
       "      <td>0</td>\n",
       "      <td>485.458491</td>\n",
       "      <td>1</td>\n",
       "      <td>0.822798</td>\n",
       "      <td>1.005291</td>\n",
       "      <td>1</td>\n",
       "      <td>0.502043</td>\n",
       "    </tr>\n",
       "    <tr>\n",
       "      <th>20</th>\n",
       "      <td>1</td>\n",
       "      <td>21</td>\n",
       "      <td>0</td>\n",
       "      <td>0</td>\n",
       "      <td>485.177420</td>\n",
       "      <td>1</td>\n",
       "      <td>1.000000</td>\n",
       "      <td>1.005291</td>\n",
       "      <td>3</td>\n",
       "      <td>0.472041</td>\n",
       "    </tr>\n",
       "    <tr>\n",
       "      <th>21</th>\n",
       "      <td>1</td>\n",
       "      <td>22</td>\n",
       "      <td>0</td>\n",
       "      <td>0</td>\n",
       "      <td>484.723977</td>\n",
       "      <td>1</td>\n",
       "      <td>0.861852</td>\n",
       "      <td>1.005291</td>\n",
       "      <td>3</td>\n",
       "      <td>0.451448</td>\n",
       "    </tr>\n",
       "    <tr>\n",
       "      <th>22</th>\n",
       "      <td>1</td>\n",
       "      <td>23</td>\n",
       "      <td>0</td>\n",
       "      <td>0</td>\n",
       "      <td>485.156516</td>\n",
       "      <td>1</td>\n",
       "      <td>0.880832</td>\n",
       "      <td>1.005291</td>\n",
       "      <td>1</td>\n",
       "      <td>0.444736</td>\n",
       "    </tr>\n",
       "    <tr>\n",
       "      <th>23</th>\n",
       "      <td>1</td>\n",
       "      <td>24</td>\n",
       "      <td>0</td>\n",
       "      <td>0</td>\n",
       "      <td>485.247213</td>\n",
       "      <td>1</td>\n",
       "      <td>1.000000</td>\n",
       "      <td>1.005291</td>\n",
       "      <td>1</td>\n",
       "      <td>0.446639</td>\n",
       "    </tr>\n",
       "    <tr>\n",
       "      <th>24</th>\n",
       "      <td>1</td>\n",
       "      <td>25</td>\n",
       "      <td>0</td>\n",
       "      <td>0</td>\n",
       "      <td>486.279038</td>\n",
       "      <td>1</td>\n",
       "      <td>0.594112</td>\n",
       "      <td>1.005291</td>\n",
       "      <td>1</td>\n",
       "      <td>0.446639</td>\n",
       "    </tr>\n",
       "    <tr>\n",
       "      <th>25</th>\n",
       "      <td>1</td>\n",
       "      <td>26</td>\n",
       "      <td>0</td>\n",
       "      <td>0</td>\n",
       "      <td>485.253933</td>\n",
       "      <td>1</td>\n",
       "      <td>0.937209</td>\n",
       "      <td>1.005291</td>\n",
       "      <td>3</td>\n",
       "      <td>0.481808</td>\n",
       "    </tr>\n",
       "    <tr>\n",
       "      <th>26</th>\n",
       "      <td>1</td>\n",
       "      <td>27</td>\n",
       "      <td>0</td>\n",
       "      <td>0</td>\n",
       "      <td>484.909202</td>\n",
       "      <td>2</td>\n",
       "      <td>0.896217</td>\n",
       "      <td>1.005291</td>\n",
       "      <td>3</td>\n",
       "      <td>0.454937</td>\n",
       "    </tr>\n",
       "    <tr>\n",
       "      <th>27</th>\n",
       "      <td>1</td>\n",
       "      <td>28</td>\n",
       "      <td>0</td>\n",
       "      <td>0</td>\n",
       "      <td>486.686119</td>\n",
       "      <td>1</td>\n",
       "      <td>0.626590</td>\n",
       "      <td>1.005291</td>\n",
       "      <td>3</td>\n",
       "      <td>0.428448</td>\n",
       "    </tr>\n",
       "    <tr>\n",
       "      <th>28</th>\n",
       "      <td>1</td>\n",
       "      <td>29</td>\n",
       "      <td>0</td>\n",
       "      <td>0</td>\n",
       "      <td>486.376283</td>\n",
       "      <td>1</td>\n",
       "      <td>0.990944</td>\n",
       "      <td>1.005291</td>\n",
       "      <td>3</td>\n",
       "      <td>0.472142</td>\n",
       "    </tr>\n",
       "    <tr>\n",
       "      <th>29</th>\n",
       "      <td>1</td>\n",
       "      <td>30</td>\n",
       "      <td>0</td>\n",
       "      <td>0</td>\n",
       "      <td>484.193051</td>\n",
       "      <td>1</td>\n",
       "      <td>0.970107</td>\n",
       "      <td>1.005291</td>\n",
       "      <td>3</td>\n",
       "      <td>0.480714</td>\n",
       "    </tr>\n",
       "    <tr>\n",
       "      <th>...</th>\n",
       "      <td>...</td>\n",
       "      <td>...</td>\n",
       "      <td>...</td>\n",
       "      <td>...</td>\n",
       "      <td>...</td>\n",
       "      <td>...</td>\n",
       "      <td>...</td>\n",
       "      <td>...</td>\n",
       "      <td>...</td>\n",
       "      <td>...</td>\n",
       "    </tr>\n",
       "    <tr>\n",
       "      <th>3970</th>\n",
       "      <td>4</td>\n",
       "      <td>971</td>\n",
       "      <td>0</td>\n",
       "      <td>0</td>\n",
       "      <td>484.477628</td>\n",
       "      <td>1</td>\n",
       "      <td>1.000000</td>\n",
       "      <td>1.057269</td>\n",
       "      <td>3</td>\n",
       "      <td>0.474391</td>\n",
       "    </tr>\n",
       "    <tr>\n",
       "      <th>3971</th>\n",
       "      <td>4</td>\n",
       "      <td>972</td>\n",
       "      <td>0</td>\n",
       "      <td>0</td>\n",
       "      <td>484.361047</td>\n",
       "      <td>2</td>\n",
       "      <td>0.950516</td>\n",
       "      <td>1.057269</td>\n",
       "      <td>3</td>\n",
       "      <td>0.465789</td>\n",
       "    </tr>\n",
       "    <tr>\n",
       "      <th>3972</th>\n",
       "      <td>4</td>\n",
       "      <td>973</td>\n",
       "      <td>0</td>\n",
       "      <td>0</td>\n",
       "      <td>484.149412</td>\n",
       "      <td>1</td>\n",
       "      <td>0.993561</td>\n",
       "      <td>1.057269</td>\n",
       "      <td>3</td>\n",
       "      <td>0.475234</td>\n",
       "    </tr>\n",
       "    <tr>\n",
       "      <th>3973</th>\n",
       "      <td>4</td>\n",
       "      <td>974</td>\n",
       "      <td>0</td>\n",
       "      <td>0</td>\n",
       "      <td>484.482088</td>\n",
       "      <td>1</td>\n",
       "      <td>0.916184</td>\n",
       "      <td>1.057269</td>\n",
       "      <td>3</td>\n",
       "      <td>0.488396</td>\n",
       "    </tr>\n",
       "    <tr>\n",
       "      <th>3974</th>\n",
       "      <td>4</td>\n",
       "      <td>975</td>\n",
       "      <td>0</td>\n",
       "      <td>0</td>\n",
       "      <td>486.055504</td>\n",
       "      <td>2</td>\n",
       "      <td>0.856951</td>\n",
       "      <td>1.057269</td>\n",
       "      <td>3</td>\n",
       "      <td>0.434256</td>\n",
       "    </tr>\n",
       "    <tr>\n",
       "      <th>3975</th>\n",
       "      <td>4</td>\n",
       "      <td>976</td>\n",
       "      <td>0</td>\n",
       "      <td>0</td>\n",
       "      <td>485.658378</td>\n",
       "      <td>2</td>\n",
       "      <td>1.000000</td>\n",
       "      <td>1.057269</td>\n",
       "      <td>3</td>\n",
       "      <td>0.492828</td>\n",
       "    </tr>\n",
       "    <tr>\n",
       "      <th>3976</th>\n",
       "      <td>4</td>\n",
       "      <td>977</td>\n",
       "      <td>0</td>\n",
       "      <td>0</td>\n",
       "      <td>484.726374</td>\n",
       "      <td>1</td>\n",
       "      <td>1.000000</td>\n",
       "      <td>1.057269</td>\n",
       "      <td>1</td>\n",
       "      <td>0.489071</td>\n",
       "    </tr>\n",
       "    <tr>\n",
       "      <th>3977</th>\n",
       "      <td>4</td>\n",
       "      <td>978</td>\n",
       "      <td>0</td>\n",
       "      <td>0</td>\n",
       "      <td>484.802804</td>\n",
       "      <td>1</td>\n",
       "      <td>0.911980</td>\n",
       "      <td>1.057269</td>\n",
       "      <td>1</td>\n",
       "      <td>0.489071</td>\n",
       "    </tr>\n",
       "    <tr>\n",
       "      <th>3978</th>\n",
       "      <td>4</td>\n",
       "      <td>979</td>\n",
       "      <td>0</td>\n",
       "      <td>0</td>\n",
       "      <td>485.142717</td>\n",
       "      <td>1</td>\n",
       "      <td>0.845559</td>\n",
       "      <td>1.057269</td>\n",
       "      <td>1</td>\n",
       "      <td>0.498768</td>\n",
       "    </tr>\n",
       "    <tr>\n",
       "      <th>3979</th>\n",
       "      <td>4</td>\n",
       "      <td>980</td>\n",
       "      <td>0</td>\n",
       "      <td>0</td>\n",
       "      <td>484.914380</td>\n",
       "      <td>1</td>\n",
       "      <td>1.000000</td>\n",
       "      <td>1.057269</td>\n",
       "      <td>1</td>\n",
       "      <td>0.486403</td>\n",
       "    </tr>\n",
       "    <tr>\n",
       "      <th>3980</th>\n",
       "      <td>4</td>\n",
       "      <td>981</td>\n",
       "      <td>0</td>\n",
       "      <td>0</td>\n",
       "      <td>484.323069</td>\n",
       "      <td>1</td>\n",
       "      <td>1.000000</td>\n",
       "      <td>1.057269</td>\n",
       "      <td>1</td>\n",
       "      <td>0.480250</td>\n",
       "    </tr>\n",
       "    <tr>\n",
       "      <th>3981</th>\n",
       "      <td>4</td>\n",
       "      <td>982</td>\n",
       "      <td>0</td>\n",
       "      <td>0</td>\n",
       "      <td>484.838876</td>\n",
       "      <td>1</td>\n",
       "      <td>0.892265</td>\n",
       "      <td>1.057269</td>\n",
       "      <td>3</td>\n",
       "      <td>0.454117</td>\n",
       "    </tr>\n",
       "    <tr>\n",
       "      <th>3982</th>\n",
       "      <td>4</td>\n",
       "      <td>983</td>\n",
       "      <td>0</td>\n",
       "      <td>0</td>\n",
       "      <td>484.924332</td>\n",
       "      <td>1</td>\n",
       "      <td>0.899399</td>\n",
       "      <td>1.057269</td>\n",
       "      <td>1</td>\n",
       "      <td>0.447443</td>\n",
       "    </tr>\n",
       "    <tr>\n",
       "      <th>3983</th>\n",
       "      <td>4</td>\n",
       "      <td>984</td>\n",
       "      <td>0</td>\n",
       "      <td>0</td>\n",
       "      <td>490.654456</td>\n",
       "      <td>2</td>\n",
       "      <td>0.497577</td>\n",
       "      <td>1.057269</td>\n",
       "      <td>3</td>\n",
       "      <td>0.482607</td>\n",
       "    </tr>\n",
       "    <tr>\n",
       "      <th>3984</th>\n",
       "      <td>4</td>\n",
       "      <td>985</td>\n",
       "      <td>0</td>\n",
       "      <td>0</td>\n",
       "      <td>485.233504</td>\n",
       "      <td>2</td>\n",
       "      <td>0.894581</td>\n",
       "      <td>1.057269</td>\n",
       "      <td>3</td>\n",
       "      <td>0.443186</td>\n",
       "    </tr>\n",
       "    <tr>\n",
       "      <th>3985</th>\n",
       "      <td>4</td>\n",
       "      <td>986</td>\n",
       "      <td>0</td>\n",
       "      <td>0</td>\n",
       "      <td>485.127349</td>\n",
       "      <td>1</td>\n",
       "      <td>0.992603</td>\n",
       "      <td>1.057269</td>\n",
       "      <td>3</td>\n",
       "      <td>0.472470</td>\n",
       "    </tr>\n",
       "    <tr>\n",
       "      <th>3986</th>\n",
       "      <td>4</td>\n",
       "      <td>987</td>\n",
       "      <td>0</td>\n",
       "      <td>0</td>\n",
       "      <td>487.763872</td>\n",
       "      <td>2</td>\n",
       "      <td>0.565395</td>\n",
       "      <td>1.057269</td>\n",
       "      <td>3</td>\n",
       "      <td>0.460480</td>\n",
       "    </tr>\n",
       "    <tr>\n",
       "      <th>3987</th>\n",
       "      <td>4</td>\n",
       "      <td>988</td>\n",
       "      <td>0</td>\n",
       "      <td>0</td>\n",
       "      <td>484.641592</td>\n",
       "      <td>2</td>\n",
       "      <td>0.942659</td>\n",
       "      <td>1.057269</td>\n",
       "      <td>3</td>\n",
       "      <td>0.478830</td>\n",
       "    </tr>\n",
       "    <tr>\n",
       "      <th>3988</th>\n",
       "      <td>4</td>\n",
       "      <td>989</td>\n",
       "      <td>0</td>\n",
       "      <td>0</td>\n",
       "      <td>484.645421</td>\n",
       "      <td>2</td>\n",
       "      <td>0.917617</td>\n",
       "      <td>1.057269</td>\n",
       "      <td>3</td>\n",
       "      <td>0.467682</td>\n",
       "    </tr>\n",
       "    <tr>\n",
       "      <th>3989</th>\n",
       "      <td>4</td>\n",
       "      <td>990</td>\n",
       "      <td>0</td>\n",
       "      <td>0</td>\n",
       "      <td>484.153846</td>\n",
       "      <td>1</td>\n",
       "      <td>0.979813</td>\n",
       "      <td>1.057269</td>\n",
       "      <td>1</td>\n",
       "      <td>0.463241</td>\n",
       "    </tr>\n",
       "    <tr>\n",
       "      <th>3990</th>\n",
       "      <td>4</td>\n",
       "      <td>991</td>\n",
       "      <td>0</td>\n",
       "      <td>0</td>\n",
       "      <td>484.622688</td>\n",
       "      <td>2</td>\n",
       "      <td>0.932441</td>\n",
       "      <td>1.057269</td>\n",
       "      <td>3</td>\n",
       "      <td>0.459460</td>\n",
       "    </tr>\n",
       "    <tr>\n",
       "      <th>3991</th>\n",
       "      <td>4</td>\n",
       "      <td>992</td>\n",
       "      <td>0</td>\n",
       "      <td>0</td>\n",
       "      <td>484.587712</td>\n",
       "      <td>1</td>\n",
       "      <td>0.918297</td>\n",
       "      <td>1.057269</td>\n",
       "      <td>1</td>\n",
       "      <td>0.452330</td>\n",
       "    </tr>\n",
       "    <tr>\n",
       "      <th>3992</th>\n",
       "      <td>4</td>\n",
       "      <td>993</td>\n",
       "      <td>0</td>\n",
       "      <td>0</td>\n",
       "      <td>486.727007</td>\n",
       "      <td>2</td>\n",
       "      <td>0.755647</td>\n",
       "      <td>1.057269</td>\n",
       "      <td>3</td>\n",
       "      <td>0.497111</td>\n",
       "    </tr>\n",
       "    <tr>\n",
       "      <th>3993</th>\n",
       "      <td>4</td>\n",
       "      <td>994</td>\n",
       "      <td>0</td>\n",
       "      <td>0</td>\n",
       "      <td>485.065485</td>\n",
       "      <td>1</td>\n",
       "      <td>1.000000</td>\n",
       "      <td>1.057269</td>\n",
       "      <td>1</td>\n",
       "      <td>0.493676</td>\n",
       "    </tr>\n",
       "    <tr>\n",
       "      <th>3994</th>\n",
       "      <td>4</td>\n",
       "      <td>995</td>\n",
       "      <td>0</td>\n",
       "      <td>0</td>\n",
       "      <td>484.607265</td>\n",
       "      <td>1</td>\n",
       "      <td>1.000000</td>\n",
       "      <td>1.057269</td>\n",
       "      <td>1</td>\n",
       "      <td>0.482119</td>\n",
       "    </tr>\n",
       "    <tr>\n",
       "      <th>3995</th>\n",
       "      <td>4</td>\n",
       "      <td>996</td>\n",
       "      <td>0</td>\n",
       "      <td>0</td>\n",
       "      <td>484.184379</td>\n",
       "      <td>1</td>\n",
       "      <td>1.000000</td>\n",
       "      <td>1.057269</td>\n",
       "      <td>3</td>\n",
       "      <td>0.474168</td>\n",
       "    </tr>\n",
       "    <tr>\n",
       "      <th>3996</th>\n",
       "      <td>4</td>\n",
       "      <td>997</td>\n",
       "      <td>0</td>\n",
       "      <td>0</td>\n",
       "      <td>484.605999</td>\n",
       "      <td>2</td>\n",
       "      <td>0.928834</td>\n",
       "      <td>1.057269</td>\n",
       "      <td>3</td>\n",
       "      <td>0.453535</td>\n",
       "    </tr>\n",
       "    <tr>\n",
       "      <th>3997</th>\n",
       "      <td>4</td>\n",
       "      <td>998</td>\n",
       "      <td>0</td>\n",
       "      <td>0</td>\n",
       "      <td>484.494301</td>\n",
       "      <td>1</td>\n",
       "      <td>1.000000</td>\n",
       "      <td>1.057269</td>\n",
       "      <td>1</td>\n",
       "      <td>0.457955</td>\n",
       "    </tr>\n",
       "    <tr>\n",
       "      <th>3998</th>\n",
       "      <td>4</td>\n",
       "      <td>999</td>\n",
       "      <td>0</td>\n",
       "      <td>0</td>\n",
       "      <td>484.393633</td>\n",
       "      <td>1</td>\n",
       "      <td>0.996966</td>\n",
       "      <td>1.057269</td>\n",
       "      <td>1</td>\n",
       "      <td>0.457665</td>\n",
       "    </tr>\n",
       "    <tr>\n",
       "      <th>3999</th>\n",
       "      <td>4</td>\n",
       "      <td>1000</td>\n",
       "      <td>0</td>\n",
       "      <td>0</td>\n",
       "      <td>484.268479</td>\n",
       "      <td>2</td>\n",
       "      <td>1.000000</td>\n",
       "      <td>1.057269</td>\n",
       "      <td>3</td>\n",
       "      <td>0.465168</td>\n",
       "    </tr>\n",
       "  </tbody>\n",
       "</table>\n",
       "<p>4000 rows × 10 columns</p>\n",
       "</div>"
      ],
      "text/plain": [
       "      chain  chain_idx  warmup  divergent__    energy__  treedepth__  \\\n",
       "0         1          1       0            0  484.250572            1   \n",
       "1         1          2       0            0  484.551081            1   \n",
       "2         1          3       0            0  484.538795            2   \n",
       "3         1          4       0            0  484.887676            2   \n",
       "4         1          5       0            0  484.322460            1   \n",
       "5         1          6       0            0  484.410080            2   \n",
       "6         1          7       0            0  484.143345            1   \n",
       "7         1          8       0            0  484.665610            2   \n",
       "8         1          9       0            0  484.970977            2   \n",
       "9         1         10       0            0  484.956869            1   \n",
       "10        1         11       0            0  484.572947            2   \n",
       "11        1         12       0            0  484.181783            1   \n",
       "12        1         13       0            0  484.646330            1   \n",
       "13        1         14       0            0  484.292409            1   \n",
       "14        1         15       0            0  484.382418            1   \n",
       "15        1         16       0            0  485.037890            1   \n",
       "16        1         17       0            0  485.984922            1   \n",
       "17        1         18       0            0  484.787894            1   \n",
       "18        1         19       0            0  485.725113            2   \n",
       "19        1         20       0            0  485.458491            1   \n",
       "20        1         21       0            0  485.177420            1   \n",
       "21        1         22       0            0  484.723977            1   \n",
       "22        1         23       0            0  485.156516            1   \n",
       "23        1         24       0            0  485.247213            1   \n",
       "24        1         25       0            0  486.279038            1   \n",
       "25        1         26       0            0  485.253933            1   \n",
       "26        1         27       0            0  484.909202            2   \n",
       "27        1         28       0            0  486.686119            1   \n",
       "28        1         29       0            0  486.376283            1   \n",
       "29        1         30       0            0  484.193051            1   \n",
       "...     ...        ...     ...          ...         ...          ...   \n",
       "3970      4        971       0            0  484.477628            1   \n",
       "3971      4        972       0            0  484.361047            2   \n",
       "3972      4        973       0            0  484.149412            1   \n",
       "3973      4        974       0            0  484.482088            1   \n",
       "3974      4        975       0            0  486.055504            2   \n",
       "3975      4        976       0            0  485.658378            2   \n",
       "3976      4        977       0            0  484.726374            1   \n",
       "3977      4        978       0            0  484.802804            1   \n",
       "3978      4        979       0            0  485.142717            1   \n",
       "3979      4        980       0            0  484.914380            1   \n",
       "3980      4        981       0            0  484.323069            1   \n",
       "3981      4        982       0            0  484.838876            1   \n",
       "3982      4        983       0            0  484.924332            1   \n",
       "3983      4        984       0            0  490.654456            2   \n",
       "3984      4        985       0            0  485.233504            2   \n",
       "3985      4        986       0            0  485.127349            1   \n",
       "3986      4        987       0            0  487.763872            2   \n",
       "3987      4        988       0            0  484.641592            2   \n",
       "3988      4        989       0            0  484.645421            2   \n",
       "3989      4        990       0            0  484.153846            1   \n",
       "3990      4        991       0            0  484.622688            2   \n",
       "3991      4        992       0            0  484.587712            1   \n",
       "3992      4        993       0            0  486.727007            2   \n",
       "3993      4        994       0            0  485.065485            1   \n",
       "3994      4        995       0            0  484.607265            1   \n",
       "3995      4        996       0            0  484.184379            1   \n",
       "3996      4        997       0            0  484.605999            2   \n",
       "3997      4        998       0            0  484.494301            1   \n",
       "3998      4        999       0            0  484.393633            1   \n",
       "3999      4       1000       0            0  484.268479            2   \n",
       "\n",
       "      accept_stat__  stepsize__  n_leapfrog__     theta  \n",
       "0          1.000000    1.005291             3  0.469179  \n",
       "1          0.895146    1.005291             3  0.453444  \n",
       "2          1.000000    1.005291             3  0.456525  \n",
       "3          0.931184    1.005291             3  0.462491  \n",
       "4          0.961277    1.005291             1  0.458109  \n",
       "5          0.983053    1.005291             3  0.469866  \n",
       "6          0.983330    1.005291             3  0.478011  \n",
       "7          0.909517    1.005291             3  0.459286  \n",
       "8          0.929804    1.005291             3  0.496557  \n",
       "9          1.000000    1.005291             1  0.491412  \n",
       "10         1.000000    1.005291             3  0.466448  \n",
       "11         0.975544    1.005291             1  0.462158  \n",
       "12         0.930994    1.005291             3  0.485983  \n",
       "13         1.000000    1.005291             1  0.478543  \n",
       "14         0.930009    1.005291             1  0.486590  \n",
       "15         0.832188    1.005291             1  0.497574  \n",
       "16         0.705703    1.005291             1  0.497574  \n",
       "17         1.000000    1.005291             3  0.482244  \n",
       "18         0.780972    1.005291             3  0.492772  \n",
       "19         0.822798    1.005291             1  0.502043  \n",
       "20         1.000000    1.005291             3  0.472041  \n",
       "21         0.861852    1.005291             3  0.451448  \n",
       "22         0.880832    1.005291             1  0.444736  \n",
       "23         1.000000    1.005291             1  0.446639  \n",
       "24         0.594112    1.005291             1  0.446639  \n",
       "25         0.937209    1.005291             3  0.481808  \n",
       "26         0.896217    1.005291             3  0.454937  \n",
       "27         0.626590    1.005291             3  0.428448  \n",
       "28         0.990944    1.005291             3  0.472142  \n",
       "29         0.970107    1.005291             3  0.480714  \n",
       "...             ...         ...           ...       ...  \n",
       "3970       1.000000    1.057269             3  0.474391  \n",
       "3971       0.950516    1.057269             3  0.465789  \n",
       "3972       0.993561    1.057269             3  0.475234  \n",
       "3973       0.916184    1.057269             3  0.488396  \n",
       "3974       0.856951    1.057269             3  0.434256  \n",
       "3975       1.000000    1.057269             3  0.492828  \n",
       "3976       1.000000    1.057269             1  0.489071  \n",
       "3977       0.911980    1.057269             1  0.489071  \n",
       "3978       0.845559    1.057269             1  0.498768  \n",
       "3979       1.000000    1.057269             1  0.486403  \n",
       "3980       1.000000    1.057269             1  0.480250  \n",
       "3981       0.892265    1.057269             3  0.454117  \n",
       "3982       0.899399    1.057269             1  0.447443  \n",
       "3983       0.497577    1.057269             3  0.482607  \n",
       "3984       0.894581    1.057269             3  0.443186  \n",
       "3985       0.992603    1.057269             3  0.472470  \n",
       "3986       0.565395    1.057269             3  0.460480  \n",
       "3987       0.942659    1.057269             3  0.478830  \n",
       "3988       0.917617    1.057269             3  0.467682  \n",
       "3989       0.979813    1.057269             1  0.463241  \n",
       "3990       0.932441    1.057269             3  0.459460  \n",
       "3991       0.918297    1.057269             1  0.452330  \n",
       "3992       0.755647    1.057269             3  0.497111  \n",
       "3993       1.000000    1.057269             1  0.493676  \n",
       "3994       1.000000    1.057269             1  0.482119  \n",
       "3995       1.000000    1.057269             3  0.474168  \n",
       "3996       0.928834    1.057269             3  0.453535  \n",
       "3997       1.000000    1.057269             1  0.457955  \n",
       "3998       0.996966    1.057269             1  0.457665  \n",
       "3999       1.000000    1.057269             3  0.465168  \n",
       "\n",
       "[4000 rows x 10 columns]"
      ]
     },
     "execution_count": 34,
     "metadata": {},
     "output_type": "execute_result"
    }
   ],
   "source": [
    "theta_df = fit.to_dataframe('theta')\n",
    "theta_df"
   ]
  },
  {
   "cell_type": "markdown",
   "metadata": {},
   "source": [
    "Using the samples we can evaluate characteristics of the posterior."
   ]
  },
  {
   "cell_type": "code",
   "execution_count": 35,
   "metadata": {},
   "outputs": [
    {
     "data": {
      "text/plain": [
       "0.074"
      ]
     },
     "execution_count": 35,
     "metadata": {},
     "output_type": "execute_result"
    }
   ],
   "source": [
    "(theta > 0.5).mean()"
   ]
  },
  {
   "cell_type": "markdown",
   "metadata": {},
   "source": [
    "### Using Stan: Bernoulli Distribution\n",
    "\n",
    "Let's reformulate this as a Bernoulli problem. We need to transform the data, which are currently aggregated across all flips, into the outcomes for individual flips."
   ]
  },
  {
   "cell_type": "code",
   "execution_count": 36,
   "metadata": {},
   "outputs": [],
   "source": [
    "# Generate sequence of binary outcomes.\n",
    "#\n",
    "# 1 - heads\n",
    "# 0 - tails\n",
    "#\n",
    "heads = np.repeat([1, 0], [k, n - k])\n",
    "# Randomise (in place).\n",
    "np.random.shuffle(heads)"
   ]
  },
  {
   "cell_type": "code",
   "execution_count": 37,
   "metadata": {},
   "outputs": [
    {
     "data": {
      "text/plain": [
       "array([1, 0, 1, 1, 1, 1, 1, 1, 0, 0, 0, 1, 0, 0, 1, 0, 0, 0, 1, 0, 0, 0,\n",
       "       1, 0, 1, 1, 0, 1, 0, 0, 0, 1, 0, 1, 1, 1, 1, 0, 0, 0, 0, 0, 1, 1,\n",
       "       1, 0, 0, 0, 0, 0, 0, 1, 1, 0, 0, 0, 0, 0, 1, 0, 1, 0, 1, 0, 0, 1,\n",
       "       1, 0, 1, 1, 0, 1, 0, 1, 1, 0, 0, 1, 0, 1, 0, 1, 1, 1, 0, 0, 0, 0,\n",
       "       1, 0, 1, 1, 0, 0, 0, 0, 0, 1, 1, 0, 1, 0, 0, 1, 1, 0, 0, 0, 0, 1,\n",
       "       1, 0, 1, 1, 0, 0, 1, 1, 0, 1, 1, 1, 0, 1, 0, 0, 1, 1, 1, 0, 0, 0,\n",
       "       0, 0, 1, 1, 1, 0, 0, 1, 1, 1, 0, 1, 1, 0, 0, 1, 0, 0, 0, 1, 0, 1,\n",
       "       0, 1, 1, 0, 1, 1, 1, 1, 1, 0, 1, 1, 1, 0, 1, 1, 0, 0, 0, 0, 0, 0,\n",
       "       0, 1, 1, 1, 1, 0, 1, 0, 0, 0, 1, 1, 1, 0, 1, 0, 1, 0, 1, 0, 1, 1,\n",
       "       1, 0, 0, 1, 1, 0, 1, 0, 0, 0, 1, 1, 0, 0, 0, 0, 0, 0, 1, 1, 1, 0,\n",
       "       1, 1, 0, 1, 1, 1, 0, 1, 0, 0, 1, 1, 0, 1, 0, 1, 0, 1, 1, 0, 0, 1,\n",
       "       0, 1, 1, 1, 1, 0, 0, 0, 0, 1, 0, 0, 1, 1, 1, 0, 0, 1, 1, 1, 0, 1,\n",
       "       1, 0, 0, 0, 0, 0, 0, 0, 1, 0, 0, 1, 1, 0, 0, 1, 1, 1, 0, 0, 1, 0,\n",
       "       0, 1, 0, 1, 0, 1, 0, 0, 1, 0, 0, 1, 0, 0, 0, 0, 1, 0, 0, 0, 1, 1,\n",
       "       0, 1, 1, 1, 0, 1, 0, 1, 1, 1, 0, 1, 1, 0, 0, 1, 0, 0, 0, 0, 0, 0,\n",
       "       0, 1, 1, 0, 1, 1, 1, 0, 0, 0, 0, 0, 1, 0, 0, 1, 1, 1, 1, 0, 0, 0,\n",
       "       0, 1, 0, 1, 1, 1, 0, 1, 1, 0, 1, 0, 0, 1, 0, 1, 0, 0, 1, 0, 1, 0,\n",
       "       0, 1, 0, 0, 0, 1, 0, 0, 1, 0, 1, 0, 0, 1, 1, 1, 0, 0, 0, 0, 0, 1,\n",
       "       1, 0, 0, 0, 1, 1, 1, 0, 0, 0, 1, 1, 1, 1, 0, 0, 1, 0, 1, 0, 0, 0,\n",
       "       1, 1, 1, 0, 1, 1, 0, 1, 1, 0, 1, 1, 1, 0, 0, 1, 0, 0, 1, 0, 1, 0,\n",
       "       1, 1, 0, 0, 1, 0, 0, 0, 0, 1, 0, 1, 0, 1, 0, 1, 0, 1, 0, 0, 1, 0,\n",
       "       1, 0, 1, 1, 0, 0, 0, 0, 1, 0, 0, 1, 0, 0, 0, 0, 1, 1, 1, 0, 0, 0,\n",
       "       1, 1, 0, 1, 0, 0, 0, 0, 0, 0, 0, 0, 0, 1, 1, 0])"
      ]
     },
     "execution_count": 37,
     "metadata": {},
     "output_type": "execute_result"
    }
   ],
   "source": [
    "heads"
   ]
  },
  {
   "cell_type": "markdown",
   "metadata": {},
   "source": [
    "Write a Stan model but now using a Bernoulli likelihood."
   ]
  },
  {
   "cell_type": "code",
   "execution_count": 38,
   "metadata": {},
   "outputs": [],
   "source": [
    "stan_bernoulli = \"\"\"\n",
    "data {\n",
    "  int<lower=0> n;\n",
    "  int<lower=0, upper=1> heads[n];\n",
    "  real a;\n",
    "  real b;\n",
    "}\n",
    "parameters {\n",
    "  real<lower=0, upper=1> theta;\n",
    "}\n",
    "model {\n",
    "  heads ~ bernoulli(theta);\n",
    "  theta ~ beta(a, b);\n",
    "}\n",
    "\"\"\""
   ]
  },
  {
   "cell_type": "markdown",
   "metadata": {},
   "source": [
    "Translate the model into C++ and compile. This is a time consuming process, so avoid recompilation if the model has already been compiled."
   ]
  },
  {
   "cell_type": "code",
   "execution_count": 39,
   "metadata": {},
   "outputs": [
    {
     "name": "stderr",
     "output_type": "stream",
     "text": [
      "INFO:pystan:COMPILING THE C++ CODE FOR MODEL anon_model_edb1250bcf2bb4ef5bdb609005a79f12 NOW.\n"
     ]
    }
   ],
   "source": [
    "try:\n",
    "    model_bernoulli\n",
    "except NameError:\n",
    "    model_bernoulli = pystan.StanModel(model_code=stan_bernoulli)"
   ]
  },
  {
   "cell_type": "markdown",
   "metadata": {},
   "source": [
    "Set up a dictionary with the model parameters."
   ]
  },
  {
   "cell_type": "code",
   "execution_count": 40,
   "metadata": {},
   "outputs": [],
   "source": [
    "coin_data = {\n",
    "    'n':     n,\n",
    "    'heads': heads,\n",
    "    'a':     a,\n",
    "    'b':     b\n",
    "}"
   ]
  },
  {
   "cell_type": "markdown",
   "metadata": {},
   "source": [
    "Generate samples."
   ]
  },
  {
   "cell_type": "code",
   "execution_count": 41,
   "metadata": {},
   "outputs": [],
   "source": [
    "fit = model_bernoulli.sampling(data=coin_data, chains=8, warmup=500, iter=1500)"
   ]
  },
  {
   "cell_type": "code",
   "execution_count": 42,
   "metadata": {},
   "outputs": [
    {
     "data": {
      "text/plain": [
       "Inference for Stan model: anon_model_edb1250bcf2bb4ef5bdb609005a79f12.\n",
       "8 chains, each with iter=1500; warmup=500; thin=1; \n",
       "post-warmup draws per chain=1000, total post-warmup draws=8000.\n",
       "\n",
       "        mean se_mean     sd   2.5%    25%    50%    75%  97.5%  n_eff   Rhat\n",
       "theta   0.47  3.3e-4   0.02   0.44   0.46   0.47   0.48   0.51   3175    1.0\n",
       "lp__  -484.5    0.01   0.69 -486.5 -484.7 -484.2 -484.1 -484.0   2826    1.0\n",
       "\n",
       "Samples were drawn using NUTS at Fri Oct 12 12:07:06 2018.\n",
       "For each parameter, n_eff is a crude measure of effective sample size,\n",
       "and Rhat is the potential scale reduction factor on split chains (at \n",
       "convergence, Rhat=1)."
      ]
     },
     "execution_count": 42,
     "metadata": {},
     "output_type": "execute_result"
    }
   ],
   "source": [
    "fit"
   ]
  },
  {
   "cell_type": "code",
   "execution_count": 43,
   "metadata": {},
   "outputs": [
    {
     "data": {
      "image/png": "[encoded data removed]",
      "text/plain": [
       "<Figure size 864x288 with 2 Axes>"
      ]
     },
     "metadata": {
      "needs_background": "light"
     },
     "output_type": "display_data"
    }
   ],
   "source": [
    "az.plot_trace(fit, figsize = (12, 4));"
   ]
  },
  {
   "cell_type": "code",
   "execution_count": 44,
   "metadata": {},
   "outputs": [
    {
     "data": {
      "image/png": "[encoded data removed]",
      "text/plain": [
       "<Figure size 576x288 with 1 Axes>"
      ]
     },
     "metadata": {
      "needs_background": "light"
     },
     "output_type": "display_data"
    }
   ],
   "source": [
    "az.plot_posterior(fit, figsize = (8, 4));"
   ]
  },
  {
   "cell_type": "markdown",
   "metadata": {},
   "source": [
    "Extract the posterior samples."
   ]
  },
  {
   "cell_type": "code",
   "execution_count": 45,
   "metadata": {},
   "outputs": [],
   "source": [
    "theta = fit.extract()['theta']"
   ]
  },
  {
   "cell_type": "markdown",
   "metadata": {},
   "source": [
    "What is the probability that $\\theta$ is greater than 0.5?"
   ]
  },
  {
   "cell_type": "code",
   "execution_count": 46,
   "metadata": {},
   "outputs": [
    {
     "data": {
      "text/plain": [
       "0.06625"
      ]
     },
     "execution_count": 46,
     "metadata": {},
     "output_type": "execute_result"
    }
   ],
   "source": [
    "(theta > 0.5).mean()"
   ]
  }
 ],
 "metadata": {
  "kernelspec": {
   "display_name": "Python 3",
   "language": "python",
   "name": "python3"
  },
  "language_info": {
   "codemirror_mode": {
    "name": "ipython",
    "version": 3
   },
   "file_extension": ".py",
   "mimetype": "text/x-python",
   "name": "python",
   "nbconvert_exporter": "python",
   "pygments_lexer": "ipython3",
   "version": "3.6.6"
  }
 },
 "nbformat": 4,
 "nbformat_minor": 2
}
