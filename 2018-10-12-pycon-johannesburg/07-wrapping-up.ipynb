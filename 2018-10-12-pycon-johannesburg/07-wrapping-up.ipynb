{
 "cells": [
  {
   "cell_type": "markdown",
   "metadata": {},
   "source": [
    "![](fig/hard-hats-build-model-stan.jpg)"
   ]
  },
  {
   "cell_type": "markdown",
   "metadata": {},
   "source": [
    "What's cool about Stan?\n",
    "\n",
    "- Excellent documentation plus a vibrant and helpful community.\n",
    "- Models can be built incrementally (start with a minimal model and  gradually increase complexity).\n",
    "- Integrates with Python (and R and Julia) so that managing data and results is simple.\n",
    "- Annual conference \"StanCon\".\n",
    "- Learning new tools is cool!"
   ]
  },
  {
   "cell_type": "markdown",
   "metadata": {},
   "source": [
    "Frequentist statistics...\n",
    "\n",
    "- generally focus on the likelihood;\n",
    "- answer the question \"how likely is the data, given a specific value of parameter?\"; and\n",
    "- provide a *confidence interval* (the range of possible parameter values which might be obtained if one repeated the experiment many times).\n",
    "\n",
    "Bayesian statistics...\n",
    "\n",
    "- factor in prior knowledge;\n",
    "- extract maximum information from (possibly small) data.\n",
    "- answer the question \"what is the distribution of plausible parameter values?\"; and\n",
    "- provide a *credible interval* which gives the probability that the parameter has a value in a partiocular range."
   ]
  },
  {
   "cell_type": "markdown",
   "metadata": {},
   "source": [
    "  "
   ]
  },
  {
   "cell_type": "markdown",
   "metadata": {},
   "source": [
    "## Selected Resources\n",
    "\n",
    "**Videos**\n",
    "\n",
    "All of the talks from [StanCon 2018](http://mc-stan.org/events/stancon2018Helsinki/) are available online.\n",
    "\n",
    "- \"Basics of Bayesian inference and Stan\" by Jonah Gabry & Lauren Kennedy ([Part 1](https://www.youtube.com/watch?v=ZRpo41l02KQ), [Part 2](https://www.youtube.com/watch?v=6cc4N1vT8pk) and [GitHub repository](https://github.com/jgabry/stancon2018helsinki_intro)).  \n",
    "\n",
    "**Articles**\n",
    "\n",
    "- Gelman, A., Jakulin, A., Pittau, M. G., & Su, Y.-S. (2008). [A weakly informative default prior distribution for logistic and other regression models](https://doi.org/10.1214/08-AOAS191). Annals of Applied Statistics, 2(4), 1360–1383. \n",
    "- Gabry, J., Simpson, D., Vehtari, A., Betancourt, M., & Gelman, A. (2018). [Visualization in Bayesian workflow](http://arxiv.org/abs/1709.01449).\n",
    "\n",
    "**Books**\n",
    "\n",
    "- Gelman, A., Carlin, J. B., Stern, H. S., Dunson, D. B., Vehtari, A., & Rubin, D. B. (2014). [Bayesian Data Analysis](http://www.stat.columbia.edu/~gelman/book/). CRC Press.\n",
    "- McElreath, Richard (2015). [Statistical Rethinking: A Bayesian Course with Examples in R and Stan](https://xcelab.net/rm/statistical-rethinking/). Chapman and Hall/CRC. ([GitHub](https://github.com/rmcelreath/rethinking))\n",
    "- Davidson-Pilon, C. (2015). [Bayesian Methods for Hackers: Probabilistic Programming and Bayesian Inference](http://camdavidsonpilon.github.io/Probabilistic-Programming-and-Bayesian-Methods-for-Hackers/). Addison-Wesley. ([GitHub](https://github.com/CamDavidsonPilon/Probabilistic-Programming-and-Bayesian-Methods-for-Hackers))"
   ]
  }
 ],
 "metadata": {
  "kernelspec": {
   "display_name": "Python 3",
   "language": "python",
   "name": "python3"
  },
  "language_info": {
   "codemirror_mode": {
    "name": "ipython",
    "version": 3
   },
   "file_extension": ".py",
   "mimetype": "text/x-python",
   "name": "python",
   "nbconvert_exporter": "python",
   "pygments_lexer": "ipython3",
   "version": "3.6.6"
  }
 },
 "nbformat": 4,
 "nbformat_minor": 2
}
