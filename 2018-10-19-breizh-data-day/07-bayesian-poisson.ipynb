{
 "cells": [
  {
   "cell_type": "markdown",
   "metadata": {},
   "source": [
    "# Poisson Regression\n",
    "\n",
    "A Poisson distribution is the simplest approach to modelling count data."
   ]
  },
  {
   "cell_type": "markdown",
   "metadata": {},
   "source": [
    "## Rate Formulation\n",
    "\n",
    "A Poisson model can be formulated in terms of a rate, $\\lambda$, as follows:\n",
    "\n",
    "$$\n",
    "y \\sim \\text{Poisson}(\\lambda)\n",
    "$$\n",
    "\n",
    "The rate, $\\lambda$, is the number of counts per unit time (or length or population or whatever!) and is given by\n",
    "\n",
    "$$\n",
    "\\lambda = \\exp(\\eta)\n",
    "$$\n",
    "\n",
    "which ensures that $\\lambda > 0$ and\n",
    "\n",
    "$$\n",
    "\\eta = \\alpha + \\beta x,\n",
    "$$\n",
    "\n",
    "so that\n",
    "\n",
    "$$\n",
    "\\log(\\lambda) = \\alpha + \\beta x.\n",
    "$$\n",
    "\n",
    "Here $\\alpha$ and $\\beta$ are the parameters of the model. The natural logarithm is the link function between the linear model and the Poisson distribution."
   ]
  },
  {
   "cell_type": "code",
   "execution_count": 1,
   "metadata": {},
   "outputs": [],
   "source": [
    "stan_poisson = \"\"\"\n",
    "data {\n",
    "    int<lower=0> N;                              // Number of observations (with constraint)\n",
    "    int<lower=0> counts[N];                      // Dependent variable\n",
    "    real         x[N];                           // Independent variable\n",
    "}\n",
    "parameters {\n",
    "    real         alpha;\n",
    "    real         beta;\n",
    "}\n",
    "model {\n",
    "    counts ~ poisson(exp(alpha + beta * x));     // Poisson model with explicit link function\n",
    "}\n",
    "\"\"\""
   ]
  },
  {
   "cell_type": "markdown",
   "metadata": {},
   "source": [
    "Stan has special functions for dealing with various link functions."
   ]
  },
  {
   "cell_type": "code",
   "execution_count": 2,
   "metadata": {},
   "outputs": [],
   "source": [
    "stan_poisson = \"\"\"\n",
    "data {\n",
    "    int<lower=0> N;\n",
    "    int<lower=0> counts[N];\n",
    "    real         x[N];\n",
    "}\n",
    "parameters {\n",
    "    real         alpha;\n",
    "    real         beta;\n",
    "}\n",
    "model {\n",
    "    counts ~ poisson_log(alpha + beta * x);      // Poisson model with implicit log() link function\n",
    "}\n",
    "\"\"\""
   ]
  },
  {
   "cell_type": "markdown",
   "metadata": {},
   "source": [
    "## Counts Formulation\n",
    "\n",
    "Sometimes it makes more sense to formulate the model in terms of the number of counts. This is especially useful if the *exposure* varies between observations. In this case the rate is given by\n",
    "\n",
    "$$\n",
    "\\lambda_i = \\frac{\\mu_i}{\\tau_i}\n",
    "$$\n",
    "\n",
    "so that\n",
    "\n",
    "$$\n",
    "\\log(\\lambda_i) = \\log(\\mu_i) - \\log(\\tau_i)\n",
    "$$\n",
    "\n",
    "and\n",
    "\n",
    "$$\n",
    "\\log(\\mu_i) = \\log(\\tau_i) + \\alpha + \\beta x_i.\n",
    "$$\n",
    "\n",
    "In this case you would consider the model\n",
    "\n",
    "$$\n",
    "y \\sim \\text{Poisson}(\\mu)\n",
    "$$\n",
    "\n",
    "where the exposure is explicitly included."
   ]
  },
  {
   "cell_type": "code",
   "execution_count": null,
   "metadata": {},
   "outputs": [],
   "source": []
  }
 ],
 "metadata": {
  "kernelspec": {
   "display_name": "Python 3",
   "language": "python",
   "name": "python3"
  },
  "language_info": {
   "codemirror_mode": {
    "name": "ipython",
    "version": 3
   },
   "file_extension": ".py",
   "mimetype": "text/x-python",
   "name": "python",
   "nbconvert_exporter": "python",
   "pygments_lexer": "ipython3",
   "version": "3.6.6"
  },
  "toc": {
   "base_numbering": 1,
   "nav_menu": {},
   "number_sections": false,
   "sideBar": true,
   "skip_h1_title": false,
   "title_cell": "Table of Contents",
   "title_sidebar": "Contents",
   "toc_cell": false,
   "toc_position": {},
   "toc_section_display": true,
   "toc_window_display": false
  },
  "varInspector": {
   "cols": {
    "lenName": 16,
    "lenType": 16,
    "lenVar": 40
   },
   "kernels_config": {
    "python": {
     "delete_cmd_postfix": "",
     "delete_cmd_prefix": "del ",
     "library": "var_list.py",
     "varRefreshCmd": "print(var_dic_list())"
    },
    "r": {
     "delete_cmd_postfix": ") ",
     "delete_cmd_prefix": "rm(",
     "library": "var_list.r",
     "varRefreshCmd": "cat(var_dic_list()) "
    }
   },
   "types_to_exclude": [
    "module",
    "function",
    "builtin_function_or_method",
    "instance",
    "_Feature"
   ],
   "window_display": false
  }
 },
 "nbformat": 4,
 "nbformat_minor": 2
}
