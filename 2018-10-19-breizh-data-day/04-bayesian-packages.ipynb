{
 "cells": [
  {
   "cell_type": "markdown",
   "metadata": {},
   "source": [
    "# Python Packages for Bayesian Analysis\n",
    "\n",
    "There are a number of options for doing Bayesian analyses in Python.\n",
    "\n",
    "Packages implemented in Python:\n",
    "    \n",
    "- [emcee](http://dfm.io/emcee/current/)\n",
    "- [PyMC3](http://docs.pymc.io/)\n",
    "- [Edward](http://edwardlib.org/)\n",
    "- [TensorFlow Probability](https://www.tensorflow.org/probability/) (TFP)\n",
    "- [PyMC4](https://github.com/pymc-devs/pymc4) (successor to PyMC3 based on TFP)\n",
    "\n",
    "Packages which are wrappers around other systems:\n",
    "\n",
    "- [PyJAGS](https://pyjags.readthedocs.io/)\n",
    "- [PyStan](http://pystan.readthedocs.io/)"
   ]
  },
  {
   "cell_type": "markdown",
   "metadata": {},
   "source": [
    "## Stan\n",
    "\n",
    "[Stan](http://mc-stan.org/) is a probabilistic programming language. It's named after [Stanislaw Ulam](https://en.wikipedia.org/wiki/Stanislaw_Ulam), who invented the Monte Carlo method.\n",
    "\n",
    "![](fig/stanislaw-ulam.jpg)\n",
    "\n",
    "Stan has interfaces for Python, R and Julia.\n",
    "\n",
    "The source code for Stan is available on GitHub [here](https://github.com/stan-dev/pystan). There is extensive [documentation](http://mc-stan.org/users/documentation/index.html) and an active [user forum](https://discourse.mc-stan.org/).\n",
    "\n",
    "Resources for examples of Stan:\n",
    "\n",
    "- [models from *Doing Bayesian Data Analysis*](https://github.com/jhoupt/DBDA2Estan)\n",
    "- [various models in `stan-dev` repository](https://github.com/stan-dev/example-models)"
   ]
  },
  {
   "cell_type": "markdown",
   "metadata": {},
   "source": [
    "### Stan Code\n",
    "\n",
    "This is a template for a Stan file:\n",
    "\n",
    "```\n",
    "functions {                 # User-defined functions                      [Optional]\n",
    "}\n",
    "data {                      # Data (external)                             [Optional]\n",
    "}\n",
    "transformed data {          # Preprocess data                             [Optional]\n",
    "}\n",
    "\n",
    "parameters {                # Model parameters (must precede model)       [Mandatory]\n",
    "}\n",
    "transformed parameters {    # Preprocess parameters                       [Optional]\n",
    "}\n",
    "model {                     # Model                                       [Mandatory]\n",
    "}\n",
    "\n",
    "generated quantities {      # Postprocess                                 [Optional]\n",
    "}\n",
    "```\n",
    "\n",
    "A Stan program must declare:\n",
    "\n",
    "- data\n",
    "- parameters and\n",
    "- the (log) posterior."
   ]
  },
  {
   "cell_type": "markdown",
   "metadata": {},
   "source": [
    "### PyStan\n",
    "\n",
    "[PyStan](https://pystan.readthedocs.io/en/latest/) is the Python interface to Stan. PyStan makes it easy to:\n",
    "\n",
    "- preprocess data and feed it into Stan;\n",
    "- test different models on same data (although each model can take time to build!); and\n",
    "- postprocess and analyse results.\n",
    "\n",
    "Documentation:\n",
    "    \n",
    "- [PyStan API](https://pystan.readthedocs.io/en/latest/api.html) and\n",
    "- [Stan Documentation](http://mc-stan.org/users/documentation/index.html)."
   ]
  },
  {
   "cell_type": "code",
   "execution_count": 1,
   "metadata": {},
   "outputs": [
    {
     "data": {
      "text/plain": [
       "'2.18.0.0'"
      ]
     },
     "execution_count": 1,
     "metadata": {},
     "output_type": "execute_result"
    }
   ],
   "source": [
    "import pystan\n",
    "\n",
    "pystan.__version__"
   ]
  },
  {
   "cell_type": "code",
   "execution_count": null,
   "metadata": {},
   "outputs": [],
   "source": []
  }
 ],
 "metadata": {
  "kernelspec": {
   "display_name": "Python 3",
   "language": "python",
   "name": "python3"
  },
  "language_info": {
   "codemirror_mode": {
    "name": "ipython",
    "version": 3
   },
   "file_extension": ".py",
   "mimetype": "text/x-python",
   "name": "python",
   "nbconvert_exporter": "python",
   "pygments_lexer": "ipython3",
   "version": "3.6.6"
  },
  "toc": {
   "base_numbering": 1,
   "nav_menu": {},
   "number_sections": false,
   "sideBar": true,
   "skip_h1_title": false,
   "title_cell": "Table of Contents",
   "title_sidebar": "Contents",
   "toc_cell": false,
   "toc_position": {},
   "toc_section_display": true,
   "toc_window_display": false
  },
  "varInspector": {
   "cols": {
    "lenName": 16,
    "lenType": 16,
    "lenVar": 40
   },
   "kernels_config": {
    "python": {
     "delete_cmd_postfix": "",
     "delete_cmd_prefix": "del ",
     "library": "var_list.py",
     "varRefreshCmd": "print(var_dic_list())"
    },
    "r": {
     "delete_cmd_postfix": ") ",
     "delete_cmd_prefix": "rm(",
     "library": "var_list.r",
     "varRefreshCmd": "cat(var_dic_list()) "
    }
   },
   "types_to_exclude": [
    "module",
    "function",
    "builtin_function_or_method",
    "instance",
    "_Feature"
   ],
   "window_display": false
  }
 },
 "nbformat": 4,
 "nbformat_minor": 2
}
