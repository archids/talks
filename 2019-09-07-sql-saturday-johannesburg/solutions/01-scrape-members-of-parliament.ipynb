{
 "cells": [
  {
   "cell_type": "markdown",
   "metadata": {},
   "source": [
    "<img src=\"https://www.exegetic.biz/img/exegetic-banner-black.svg\" width=\"35%\" align=\"right\">\n",
    "\n",
    "# Web Scraping: Members of Parliament\n",
    "\n",
    "Andrew B. Collier (@datawookie | andrew@exegetic.biz)<br>\n",
    "Data Scientist / Founder<br>\n",
    "[Exegetic Analytics](https://www.exegetic.biz)"
   ]
  },
  {
   "cell_type": "markdown",
   "metadata": {},
   "source": [
    "<span style=\"color: #3498db;\">**↯ Notebooks**</span> available from https://bit.ly/2kwWRvX."
   ]
  },
  {
   "cell_type": "markdown",
   "metadata": {},
   "source": [
    "## Introduction\n",
    "\n",
    "In this tutorial we're going to scrape (public) details of our esteemed members of parliament from the website of the [Parliamentary Monitoring Group](https://pmg.org.za/).\n",
    "\n",
    "![](../fig/members-of-parliament.png)\n",
    "\n",
    "**The Brief**: Our brief is to capture data for all members and store it in a relational database. Why? Well, suppose you were developing an insurance or investment product targeted specifically at politicians, then this would immediately give you a list of prospects with their contact details.\n",
    "\n",
    "**The Challenge**: There's an index page with links to individual pages for each of the members. Need to systematically scrape all of the member pages.\n",
    "\n",
    "**The Approach:** These are the steps that we'll take to achieve that goal:\n",
    "\n",
    "1. Manually scrape the data for a specific member.\n",
    "2. Write a function to scrape the data for a specific member.\n",
    "3. Test that function.\n",
    "4. Run the function across all of the members.\n",
    "5. Store the results."
   ]
  },
  {
   "cell_type": "markdown",
   "metadata": {},
   "source": [
    "## Setup\n",
    "\n",
    "Load some libraries."
   ]
  },
  {
   "cell_type": "code",
   "execution_count": null,
   "metadata": {},
   "outputs": [],
   "source": [
    "suppressMessages(library(dplyr))                           # Data wrangling\n",
    "library(tidyr)                                             # More data wrangling\n",
    "library(purrr)                                             # Functional tools\n",
    "library(stringr)                                           # Working with strings\n",
    "library(tictoc)                                            # Timing\n",
    "library(RSQLite)                                           # SQLite databases\n",
    "suppressMessages(library(rvest))                           # Scraping (static) websites"
   ]
  },
  {
   "cell_type": "markdown",
   "metadata": {},
   "source": [
    "Synchronise your watches (or your RNGs)."
   ]
  },
  {
   "cell_type": "code",
   "execution_count": null,
   "metadata": {},
   "outputs": [],
   "source": [
    "set.seed(17)"
   ]
  },
  {
   "cell_type": "markdown",
   "metadata": {},
   "source": [
    "The name of the SQLite database that we'll use to store the data."
   ]
  },
  {
   "cell_type": "code",
   "execution_count": null,
   "metadata": {},
   "outputs": [],
   "source": [
    "SQLITEDB = \"members-of-parliament.sqlite\""
   ]
  },
  {
   "cell_type": "markdown",
   "metadata": {},
   "source": [
    "The base URL. Open [this link](https://pmg.org.za/members/) in your browser. The page is an index of the members, with a thumbnail linking to their individual profile pages."
   ]
  },
  {
   "cell_type": "code",
   "execution_count": null,
   "metadata": {},
   "outputs": [],
   "source": [
    "URL = \"https://pmg.org.za/members/\""
   ]
  },
  {
   "cell_type": "markdown",
   "metadata": {},
   "source": [
    "## Manual Scrape\n",
    "\n",
    "Grab the HTML for a specific member's page."
   ]
  },
  {
   "cell_type": "code",
   "execution_count": null,
   "metadata": {},
   "outputs": [],
   "source": [
    "(person <- read_html(\"https://www.pa.org.za/person/alexandra-lilian-amelia-abrahams/\"))"
   ]
  },
  {
   "cell_type": "markdown",
   "metadata": {},
   "source": [
    "Start by retrieving the person's name. Need to get the appropriate CSS selector. In this case it's easy: it's the only `<h1>` tag on the page."
   ]
  },
  {
   "cell_type": "code",
   "execution_count": null,
   "metadata": {},
   "outputs": [],
   "source": [
    "person %>%\n",
    "    html_node(\"h1\") %>%                                    # Select specific tag\n",
    "    html_text()                                            # Grab text enclosed by tag"
   ]
  },
  {
   "cell_type": "markdown",
   "metadata": {},
   "source": [
    "<span style=\"color: #3498db;\">**↯ Exercise**</span> Raw scraped data are often grubby. Clean it by using `str_squish()` to remove excess whitespace."
   ]
  },
  {
   "cell_type": "code",
   "execution_count": null,
   "metadata": {},
   "outputs": [],
   "source": [
    "# ------------------------------------------------------------------------------\n",
    "#\n",
    "# Your code goes here.\n",
    "#\n",
    "# ------------------------------------------------------------------------------"
   ]
  },
  {
   "cell_type": "code",
   "execution_count": null,
   "metadata": {
    "tags": [
     "exercise",
     "solution"
    ]
   },
   "outputs": [],
   "source": [
    "person %>%\n",
    "    html_node(\"h1\") %>%\n",
    "    html_text() %>%\n",
    "    str_squish()                                           # Strip off whitespace"
   ]
  },
  {
   "cell_type": "markdown",
   "metadata": {},
   "source": [
    "Next let's get party affiliation. This information is in a `<a>` tag but it's the only tag on the page which has the `party-membership--party` class."
   ]
  },
  {
   "cell_type": "code",
   "execution_count": null,
   "metadata": {},
   "outputs": [],
   "source": [
    "person %>%\n",
    "    html_node(\".party-membership--party\") %>%\n",
    "    html_text()"
   ]
  },
  {
   "cell_type": "markdown",
   "metadata": {},
   "source": [
    "Now let's get the email address. The address is in a `<a>` tag nested inside a `<span>` with class `email-address`."
   ]
  },
  {
   "cell_type": "code",
   "execution_count": null,
   "metadata": {},
   "outputs": [],
   "source": [
    "person %>%\n",
    "    html_nodes(\".email-address a\") %>%\n",
    "    html_text()"
   ]
  },
  {
   "cell_type": "markdown",
   "metadata": {},
   "source": [
    "<span style=\"color: #3498db;\">**↯ Exercise**</span> Use `str_c()` to concatenate multiple email addresses with a semicolon separator."
   ]
  },
  {
   "cell_type": "code",
   "execution_count": null,
   "metadata": {},
   "outputs": [],
   "source": [
    "# ------------------------------------------------------------------------------\n",
    "#\n",
    "# Your code goes here.\n",
    "#\n",
    "# ------------------------------------------------------------------------------"
   ]
  },
  {
   "cell_type": "code",
   "execution_count": null,
   "metadata": {
    "tags": [
     "exercise",
     "solution"
    ]
   },
   "outputs": [],
   "source": [
    "person %>%\n",
    "    html_nodes(\".email-address a\") %>%\n",
    "    html_text() %>% str_c(collapse = \"; \")"
   ]
  },
  {
   "cell_type": "markdown",
   "metadata": {},
   "source": [
    "This is good progress, but if we want to do this systematically across all members then we'll need to write a *function*."
   ]
  },
  {
   "cell_type": "markdown",
   "metadata": {},
   "source": [
    "## Scraping Function\n",
    "\n",
    "The function should accept an URL and return a data frame with the scraped data."
   ]
  },
  {
   "cell_type": "code",
   "execution_count": null,
   "metadata": {},
   "outputs": [],
   "source": [
    "get_person <- function(url) {  \n",
    "  # Deal with possible 404 errors.\n",
    "  #\n",
    "  person <- possibly(read_html, otherwise = NULL)(url)\n",
    "\n",
    "  if (is.null(person)) {\n",
    "    NULL\n",
    "  } else {\n",
    "    # Handle missing phone number and concatenate if multiple entries.\n",
    "    phone = person %>% html_nodes('[href^=\"tel:\"]')\n",
    "    phone = ifelse(length(phone), phone %>% html_text() %>% str_c(collapse = \"; \"), NA)\n",
    "    # Create data frame with results.\n",
    "    tibble(\n",
    "      name = person %>% html_node(\"h1\") %>% html_text() %>% str_squish(),\n",
    "      party = person %>% html_node(\".party-membership--party\") %>% html_text(),\n",
    "      phone,\n",
    "      email = person %>% html_nodes(\".email-address a\") %>% html_text() %>% str_c(collapse = \"; \")\n",
    "    )\n",
    "  }\n",
    "}"
   ]
  },
  {
   "cell_type": "markdown",
   "metadata": {},
   "source": [
    "Let's run a few quick tests on the following members:\n",
    "\n",
    "- [Alexandra Lilian Amelia Abrahams](https://www.pa.org.za/person/alexandra-lilian-amelia-abrahams/)\n",
    "- [Rachel Cecilia Adams](https://www.pa.org.za/person/rachel-cecilia-adams/) and\n",
    "- [Mr Michael Bagraim](https://www.pa.org.za/person/michael-bagraim/)."
   ]
  },
  {
   "cell_type": "code",
   "execution_count": null,
   "metadata": {},
   "outputs": [],
   "source": [
    "get_person(\"https://www.pa.org.za/person/alexandra-lilian-amelia-abrahams/\")"
   ]
  },
  {
   "cell_type": "code",
   "execution_count": null,
   "metadata": {},
   "outputs": [],
   "source": [
    "get_person(\"https://www.pa.org.za/person/rachel-cecilia-adams/\")"
   ]
  },
  {
   "cell_type": "code",
   "execution_count": null,
   "metadata": {},
   "outputs": [],
   "source": [
    "get_person(\"https://www.pa.org.za/person/michael-bagraim/\")"
   ]
  },
  {
   "cell_type": "markdown",
   "metadata": {},
   "source": [
    "Those all look good. I think we're ready to start scraping at scale!"
   ]
  },
  {
   "cell_type": "markdown",
   "metadata": {},
   "source": [
    "## Scraping All Members\n",
    "\n",
    "First get the HTML for the index page."
   ]
  },
  {
   "cell_type": "code",
   "execution_count": null,
   "metadata": {},
   "outputs": [],
   "source": [
    "directory <- read_html(URL)"
   ]
  },
  {
   "cell_type": "markdown",
   "metadata": {},
   "source": [
    "Extract all of the URLs for members' pages. These URLs are in `<div>` tags with `single-mp` class."
   ]
  },
  {
   "cell_type": "code",
   "execution_count": null,
   "metadata": {},
   "outputs": [],
   "source": [
    "parliament <- tibble(\n",
    "  url = directory %>%\n",
    "    html_nodes(\".single-mp\") %>%                           # Get all of the cards\n",
    "    # Interate over cards.\n",
    "    map_chr(function(member) {\n",
    "      member %>%\n",
    "        html_node(\"a\") %>%                                 # Get the <a> tag\n",
    "        html_attr(\"href\")                                  # Extract the href attribute\n",
    "    })\n",
    ")"
   ]
  },
  {
   "cell_type": "code",
   "execution_count": null,
   "metadata": {},
   "outputs": [],
   "source": [
    "# How many links?\n",
    "#\n",
    "nrow(parliament)"
   ]
  },
  {
   "cell_type": "code",
   "execution_count": null,
   "metadata": {},
   "outputs": [],
   "source": [
    "# Take a look at the first few links.\n",
    "#\n",
    "head(parliament, 10)"
   ]
  },
  {
   "cell_type": "markdown",
   "metadata": {},
   "source": [
    "Keep only URLs which are on <https://www.pa.org.za/>."
   ]
  },
  {
   "cell_type": "code",
   "execution_count": null,
   "metadata": {},
   "outputs": [],
   "source": [
    "parliament <- parliament %>% filter(str_detect(url, \"^https://www.pa.org.za/\"))"
   ]
  },
  {
   "cell_type": "markdown",
   "metadata": {},
   "source": [
    "Now iterate over a random subset of URLs, scraping each one in turn."
   ]
  },
  {
   "cell_type": "code",
   "execution_count": null,
   "metadata": {},
   "outputs": [],
   "source": [
    "tic()\n",
    "#\n",
    "members <- parliament %>%\n",
    "  sample_n(20) %>%\n",
    "  mutate(\n",
    "    data = map(url, get_person)\n",
    "  )\n",
    "#\n",
    "toc()"
   ]
  },
  {
   "cell_type": "markdown",
   "metadata": {},
   "source": [
    "<span style=\"color: #3498db;\">**↯ Exercise**</span> Make the code above a little more server-friendly by introducing a delay. *Hint:* Use `Sys.sleep()` to pause and `rpois()` to sample a random number of seconds."
   ]
  },
  {
   "cell_type": "code",
   "execution_count": null,
   "metadata": {},
   "outputs": [],
   "source": [
    "# ------------------------------------------------------------------------------\n",
    "#\n",
    "# Your code goes here.\n",
    "#\n",
    "# ------------------------------------------------------------------------------"
   ]
  },
  {
   "cell_type": "code",
   "execution_count": null,
   "metadata": {
    "tags": [
     "exercise",
     "solution"
    ]
   },
   "outputs": [],
   "source": [
    "tic()\n",
    "#\n",
    "members <- parliament %>%\n",
    "  sample_n(20) %>%\n",
    "  mutate(\n",
    "    data = map(\n",
    "        url,\n",
    "        function(url) {\n",
    "            Sys.sleep(rpois(1, 5))\n",
    "            get_person(url)\n",
    "        })\n",
    "  )\n",
    "#\n",
    "toc()"
   ]
  },
  {
   "cell_type": "markdown",
   "metadata": {},
   "source": [
    "Drop records without data."
   ]
  },
  {
   "cell_type": "code",
   "execution_count": null,
   "metadata": {},
   "outputs": [],
   "source": [
    "members <- members %>% filter(\n",
    "    !sapply(members$data, is.null)\n",
    ")"
   ]
  },
  {
   "cell_type": "markdown",
   "metadata": {},
   "source": [
    "The `data` column is a \"list column\" containing nested data frames. Unpack it."
   ]
  },
  {
   "cell_type": "code",
   "execution_count": null,
   "metadata": {},
   "outputs": [],
   "source": [
    "members <- members %>% select(-url) %>% unnest()\n",
    "head(members)"
   ]
  },
  {
   "cell_type": "markdown",
   "metadata": {},
   "source": [
    "So there we have the contact details of members of parliament.\n",
    "\n",
    "Parliament is by no means static. Members come and go. Since we have a script though, we just have to run the script again to update the data."
   ]
  },
  {
   "cell_type": "markdown",
   "metadata": {},
   "source": [
    "## Database\n",
    "\n",
    "To finish off we'll save the data to a [SQLite](https://www.sqlite.org/index.html) database. First let's add an ID column to the table."
   ]
  },
  {
   "cell_type": "code",
   "execution_count": null,
   "metadata": {},
   "outputs": [],
   "source": [
    "members <- members %>%\n",
    "    mutate(id = row_number()) %>%\n",
    "    select(id, everything())\n",
    "\n",
    "head(members)"
   ]
  },
  {
   "cell_type": "markdown",
   "metadata": {},
   "source": [
    "Now write to a SQLite database."
   ]
  },
  {
   "cell_type": "code",
   "execution_count": null,
   "metadata": {},
   "outputs": [],
   "source": [
    "db <- dbConnect(RSQLite::SQLite(), SQLITEDB)"
   ]
  },
  {
   "cell_type": "markdown",
   "metadata": {},
   "source": [
    "Write the data frame as a table. Write over the table if it already exists."
   ]
  },
  {
   "cell_type": "code",
   "execution_count": null,
   "metadata": {},
   "outputs": [],
   "source": [
    "dbWriteTable(db, \"members\", members, overwrite = TRUE)"
   ]
  },
  {
   "cell_type": "markdown",
   "metadata": {},
   "source": [
    "Finally close the connection to the database."
   ]
  },
  {
   "cell_type": "code",
   "execution_count": null,
   "metadata": {},
   "outputs": [],
   "source": [
    "dbDisconnect(db)"
   ]
  },
  {
   "cell_type": "markdown",
   "metadata": {},
   "source": [
    "It'd be good to check on the content of the database. You can download a local copy as follows:\n",
    "\n",
    "- select File ⟶ Open;\n",
    "- check the box next to the file you've just created; and\n",
    "- press the Download button.\n",
    "\n",
    "You can open the file with something like [DB Browser for SQLite](https://sqlitebrowser.org/)."
   ]
  }
 ],
 "metadata": {
  "celltoolbar": "Tags",
  "kernelspec": {
   "display_name": "R",
   "language": "R",
   "name": "ir"
  },
  "language_info": {
   "codemirror_mode": "r",
   "file_extension": ".r",
   "mimetype": "text/x-r-source",
   "name": "R",
   "pygments_lexer": "r",
   "version": "3.6.1"
  }
 },
 "nbformat": 4,
 "nbformat_minor": 2
}
