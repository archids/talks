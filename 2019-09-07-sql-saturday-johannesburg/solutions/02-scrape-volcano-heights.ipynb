{
 "cells": [
  {
   "cell_type": "markdown",
   "metadata": {},
   "source": [
    "<img src=\"https://www.exegetic.biz/img/exegetic-banner-black.svg\" width=\"35%\" align=\"right\">\n",
    "\n",
    "# Web Scraping: Volcano Heights\n",
    "\n",
    "Andrew B. Collier (@datawookie | andrew@exegetic.biz)<br>\n",
    "Data Scientist / Founder<br>\n",
    "[Exegetic Analytics](https://www.exegetic.biz)"
   ]
  },
  {
   "cell_type": "markdown",
   "metadata": {},
   "source": [
    "<span style=\"color: #3498db;\">**↯ Notebooks**</span> available from https://bit.ly/2kwWRvX."
   ]
  },
  {
   "cell_type": "markdown",
   "metadata": {},
   "source": [
    "## Introduction\n",
    "\n",
    "![](../fig/volcano.png)\n",
    "\n",
    "The [list of volcanoes by elevation](https://en.wikipedia.org/wiki/List_of_volcanoes_by_elevation) page on WikiPedia has volcano elevations.\n",
    "\n",
    "**The Brief**: Our brief is to capture data for all members and store it in a relational database.\n",
    "\n",
    "**The Challenge**: The data are divided into six tables, one for each elevation range.\n",
    "\n",
    "**The Approach:** These are the steps that we'll take to achieve that goal:\n",
    "\n",
    "1. Figure out how to scrape a single table.\n",
    "2. Scrape all six tables.\n",
    "3. Concatenate the data."
   ]
  },
  {
   "cell_type": "markdown",
   "metadata": {},
   "source": [
    "## Setup\n",
    "\n",
    "Load some libraries."
   ]
  },
  {
   "cell_type": "code",
   "execution_count": 76,
   "metadata": {},
   "outputs": [],
   "source": [
    "suppressMessages(library(dplyr))\n",
    "library(tidyr)\n",
    "library(purrr)\n",
    "suppressMessages(library(janitor))\n",
    "library(stringr)\n",
    "library(ggplot2)\n",
    "suppressMessages(library(rvest))"
   ]
  },
  {
   "cell_type": "markdown",
   "metadata": {},
   "source": [
    "The URL. Open [this link](https://en.wikipedia.org/wiki/List_of_volcanoes_by_elevation) in your browser."
   ]
  },
  {
   "cell_type": "code",
   "execution_count": 77,
   "metadata": {},
   "outputs": [],
   "source": [
    "URL = \"https://en.wikipedia.org/wiki/List_of_volcanoes_by_elevation\""
   ]
  },
  {
   "cell_type": "markdown",
   "metadata": {},
   "source": [
    "The first step will be to grab the HTML for the page."
   ]
  },
  {
   "cell_type": "code",
   "execution_count": 78,
   "metadata": {},
   "outputs": [],
   "source": [
    "html <- read_html(URL)"
   ]
  },
  {
   "cell_type": "markdown",
   "metadata": {},
   "source": [
    "## Scrape First Table\n",
    "\n",
    "Get the CSS selector for the first table."
   ]
  },
  {
   "cell_type": "code",
   "execution_count": 79,
   "metadata": {},
   "outputs": [
    {
     "data": {
      "text/plain": [
       "{html_node}\n",
       "<table class=\"sortable\" border=\"0\" cellspacing=\"3\" cellpadding=\"1\" style=\"border:1px solid #e7dcc3\">\n",
       "[1] <tbody>\\n<tr>\\n<th>Mountain\\n</th>\\n<th>Metres\\n</th>\\n<th>Feet\\n</th>\\n< ..."
      ]
     },
     "metadata": {},
     "output_type": "display_data"
    }
   ],
   "source": [
    "(table <- html %>% html_node(\"table.sortable\"))"
   ]
  },
  {
   "cell_type": "markdown",
   "metadata": {},
   "source": [
    "There's a handy helper function for extracting data from an HTML table."
   ]
  },
  {
   "cell_type": "code",
   "execution_count": null,
   "metadata": {},
   "outputs": [],
   "source": [
    "(table <- table %>% html_table())"
   ]
  },
  {
   "cell_type": "markdown",
   "metadata": {},
   "source": [
    "Clean up the column names and drop the imperial measure."
   ]
  },
  {
   "cell_type": "code",
   "execution_count": null,
   "metadata": {},
   "outputs": [],
   "source": [
    "table <- table %>%\n",
    "    clean_names() %>%\n",
    "    select(-feet)\n",
    "\n",
    "head(table)"
   ]
  },
  {
   "cell_type": "markdown",
   "metadata": {},
   "source": [
    "Now convert the `metres` column to numeric type."
   ]
  },
  {
   "cell_type": "code",
   "execution_count": null,
   "metadata": {},
   "outputs": [],
   "source": [
    "table <- table %>%\n",
    "    mutate(\n",
    "        metres = metres %>% str_replace(\",\", \"\") %>% as.numeric()\n",
    "    )\n",
    "\n",
    "head(table)"
   ]
  },
  {
   "cell_type": "markdown",
   "metadata": {},
   "source": [
    "## Scrape All Tables\n",
    "\n",
    "We're going to want to apply the pre-processing above to all tables, so write a function."
   ]
  },
  {
   "cell_type": "markdown",
   "metadata": {},
   "source": [
    "<span style=\"color: #3498db;\">**↯ Exercise**</span> Write a function, `prepare_elevations()`, which will accept an HTML node and return a data frame after\n",
    "\n",
    "- cleaning up column names;\n",
    "- dropping the imperial units column; and\n",
    "- converting the metric column to numeric type."
   ]
  },
  {
   "cell_type": "code",
   "execution_count": null,
   "metadata": {},
   "outputs": [],
   "source": [
    "# ------------------------------------------------------------------------------\n",
    "#\n",
    "# Your code goes here.\n",
    "#\n",
    "# ------------------------------------------------------------------------------"
   ]
  },
  {
   "cell_type": "code",
   "execution_count": null,
   "metadata": {
    "tags": [
     "exercise",
     "solution"
    ]
   },
   "outputs": [],
   "source": [
    "prepare_elevations <- function(table) {\n",
    "    table %>%\n",
    "        html_table() %>%\n",
    "        clean_names() %>%\n",
    "        select(-feet) %>%\n",
    "        mutate(\n",
    "            metres = metres %>% str_replace(\",\", \"\") %>% as.numeric()\n",
    "        )\n",
    "}"
   ]
  },
  {
   "cell_type": "markdown",
   "metadata": {},
   "source": [
    "Test the function on the first table."
   ]
  },
  {
   "cell_type": "code",
   "execution_count": null,
   "metadata": {},
   "outputs": [],
   "source": [
    "prepare_elevations(html %>% html_node(\"table.sortable\"))"
   ]
  },
  {
   "cell_type": "markdown",
   "metadata": {},
   "source": [
    "Looks good! Now map it across all tables."
   ]
  },
  {
   "cell_type": "code",
   "execution_count": null,
   "metadata": {},
   "outputs": [],
   "source": [
    "elevations <- map(\n",
    "    html %>% html_nodes(\"table.sortable\"),\n",
    "    prepare_elevations\n",
    ")"
   ]
  },
  {
   "cell_type": "markdown",
   "metadata": {},
   "source": [
    "The result is a list with one element per table."
   ]
  },
  {
   "cell_type": "code",
   "execution_count": null,
   "metadata": {},
   "outputs": [],
   "source": [
    "class(elevations)"
   ]
  },
  {
   "cell_type": "code",
   "execution_count": null,
   "metadata": {},
   "outputs": [],
   "source": [
    "length(elevations)"
   ]
  },
  {
   "cell_type": "markdown",
   "metadata": {},
   "source": [
    "Now we just need to concatenate them."
   ]
  },
  {
   "cell_type": "code",
   "execution_count": null,
   "metadata": {},
   "outputs": [],
   "source": [
    "elevations <- bind_rows(elevations)"
   ]
  },
  {
   "cell_type": "markdown",
   "metadata": {},
   "source": [
    "How many volcanoes?"
   ]
  },
  {
   "cell_type": "code",
   "execution_count": null,
   "metadata": {},
   "outputs": [],
   "source": [
    "nrow(elevations)"
   ]
  },
  {
   "cell_type": "code",
   "execution_count": null,
   "metadata": {},
   "outputs": [],
   "source": [
    "tail(elevations)"
   ]
  },
  {
   "cell_type": "markdown",
   "metadata": {},
   "source": [
    "Finish off by creating a histogram of volcano heights."
   ]
  },
  {
   "cell_type": "code",
   "execution_count": null,
   "metadata": {},
   "outputs": [],
   "source": [
    "ggplot(elevations, aes(x = metres)) +\n",
    "    geom_histogram(binwidth = 200, fill = \"#3498db\", colour = \"black\") +\n",
    "    labs(\n",
    "        title = \"Volcano Elevations\",\n",
    "        caption = \"Data from WikiPedia\",\n",
    "        xlab = \"Elevation [metres]\",\n",
    "        ylab = \"Count\"\n",
    "    ) +\n",
    "    theme_classic()"
   ]
  }
 ],
 "metadata": {
  "celltoolbar": "Tags",
  "kernelspec": {
   "display_name": "R",
   "language": "R",
   "name": "ir"
  },
  "language_info": {
   "codemirror_mode": "r",
   "file_extension": ".r",
   "mimetype": "text/x-r-source",
   "name": "R",
   "pygments_lexer": "r",
   "version": "3.6.1"
  }
 },
 "nbformat": 4,
 "nbformat_minor": 2
}
